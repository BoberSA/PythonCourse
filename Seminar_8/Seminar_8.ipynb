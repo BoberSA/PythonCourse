{
 "cells": [
  {
   "cell_type": "markdown",
   "metadata": {},
   "source": [
    "<!-- <div style='float:right'><img width=200 src=\"hse-logo.jpg\" alt=\"HSE logo\"></img></div> -->\n",
    "<div style='float:left'><img width=400 src=\"python_logo.png\" alt=\"Python\"></img></div>\n",
    "\n",
    "<div style='float:right'>\n",
    "\n",
    "<h1 align='center'>Язык программирования Python</h1>\n",
    "\n",
    "<h2 align='right'>Бобер Станислав Алексеевич</h2>\n",
    "<h3 align='right'>Ст. преп. Департамента Прикладной Математики</h3>\n",
    "<h3 align='right'>e-mail: sbober@hse.ru, stas.bober@gmail.com</h3>\n",
    "</div>"
   ]
  },
  {
   "cell_type": "markdown",
   "metadata": {},
   "source": [
    "# Семинар 8\n",
    "\n",
    "Теоретическая часть:\n",
    "[Лекция 8](https://github.com/BoberSA/PythonCourse/blob/master/Lecture_8/Lecture_8.ipynb)"
   ]
  },
  {
   "cell_type": "markdown",
   "metadata": {},
   "source": [
    "# Темы семинара:\n",
    "\n",
    "### 0. Оптимизация в Python"
   ]
  },
  {
   "cell_type": "markdown",
   "metadata": {},
   "source": [
    "### Задание 0. Оптимизация решения ОДУ\n",
    "[Модель Лотки-Вольтерры](https://ru.wikipedia.org/wiki/Модель_Лотки_—_Вольтерры)\n",
    "\n",
    "$\\frac{dx}{dt}=(\\alpha-\\beta y) x$\n",
    "\n",
    "$\\frac{dy}{dt}=(-\\gamma+\\delta x) y$\n",
    "\n",
    "Требуется:\n",
    "\n",
    "1. Построить функцию правой части ОДУ. Параметры модели $\\alpha,\\beta,\\gamma,\\delta$ должны передаваться списком. Измерить время выполнения. [0.2]\n",
    "2. Проинтегрировать правую часть при помощи интегратора scipy.integrate.ode ('dop853') для начального вектора состояния (1., 1.) на отрезке времени (0., 100.). Измерить время выполнения. [0.2]\n",
    "3. Применить Numba для компиляции функции правой части ОДУ. Параметры модели $\\alpha,\\beta,\\gamma,\\delta$ должны передаваться массивом numpy. Измерить время выполнения. [0.2]\n",
    "4. Проинтегрировать правую часть при помощи интегратора scipy.integrate.ode ('dop853') для начального вектора состояния (1., 1.) на отрезке времени (0.,100.). Измерить время выполнения. [0.2]\n",
    "5. Изобразить фазовые портреты, т.е. зависимости $\\frac{dx}{dt}(x)$, $\\frac{dy}{dt}(y)$. [0.2]\n",
    "\n",
    "В расчетах брать $\\alpha,\\beta,\\gamma,\\delta = 1,1.5,2,1.5$\n",
    "\n",
    "Пример: [ODE compilation](https://github.com/BoberSA/crtbp/blob/master/ode_numba_compilation_test.ipynb)\n"
   ]
  },
  {
   "cell_type": "code",
   "execution_count": null,
   "metadata": {},
   "outputs": [],
   "source": []
  },
  {
   "cell_type": "markdown",
   "metadata": {},
   "source": [
    "### Задание 1. Фракталы\n",
    "[Бассейны Ньютона](https://ru.wikipedia.org/wiki/Бассейны_Ньютона)\n",
    "\n",
    "Задано нелинейное уравнение на **комплексной** плоскости: $z^3-2z-2=0$.\n",
    "\n",
    "Итерационный метод Ньютона для поиска корня уравнения $f(z) = 0$ строится следующим образом:\n",
    "\n",
    "$z_n = z_{n-1} - \\frac{f(z)}{f'(z)}$\n",
    "\n",
    "Требуется:\n",
    "\n",
    "1. Построить функцию newton_n, реализующую итерационный алгоритм метода Ньютона для заданного числа итераций в предположении, что $f(z)$ - полином. Измерить время выполнения. [0.2]\n",
    "2. Применить функцию newton_n к области $(-1.,1.)\\times(-i,i)$, равномерно заполненной точками (решетка 100х100 точек). Измерить время выполнения. Число итераций = 10. [0.2]\n",
    "3. Применить Numba для компиляции функции newton_n. Измерить время выполнения. [0.2]\n",
    "4. Применить откомпилированную функцию newton_n к такой же области, как в п.2. Измерить время выполнения. Число итераций > 10. [0.2]\n",
    "5. Отрисовать график на котором каждая точка указанной области будет изображена цветом в зависимости от номера корня уравнения к которому она оказалась ближе всего после вычислений в п.4. [0.2]"
   ]
  },
  {
   "cell_type": "code",
   "execution_count": null,
   "metadata": {},
   "outputs": [],
   "source": []
  }
 ],
 "metadata": {
  "kernelspec": {
   "display_name": "Python 3",
   "language": "python",
   "name": "python3"
  },
  "language_info": {
   "codemirror_mode": {
    "name": "ipython",
    "version": 3
   },
   "file_extension": ".py",
   "mimetype": "text/x-python",
   "name": "python",
   "nbconvert_exporter": "python",
   "pygments_lexer": "ipython3",
   "version": "3.7.0"
  }
 },
 "nbformat": 4,
 "nbformat_minor": 2
}
