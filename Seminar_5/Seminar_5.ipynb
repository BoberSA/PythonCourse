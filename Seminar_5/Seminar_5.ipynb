{
 "cells": [
  {
   "cell_type": "markdown",
   "metadata": {},
   "source": [
    "<!-- <div style='float:right'><img width=200 src=\"hse-logo.jpg\" alt=\"HSE logo\"></img></div> -->\n",
    "<div style='float:left'><img width=400 src=\"python_logo.png\" alt=\"Python\"></img></div>\n",
    "\n",
    "<div style='float:right'>\n",
    "\n",
    "<h1 align='center'>Язык программирования Python</h1>\n",
    "\n",
    "<h2 align='right'>Бобер Станислав Алексеевич</h2>\n",
    "<h3 align='right'>Ст. преп. Департамента Прикладной Математики</h3>\n",
    "<h3 align='right'>e-mail: sbober@hse.ru, stas.bober@gmail.com</h3>\n",
    "</div>"
   ]
  },
  {
   "cell_type": "markdown",
   "metadata": {},
   "source": [
    "# Семинар 5\n",
    "\n",
    "Теоретическая часть: [Лекция 5](https://github.com/BoberSA/PythonCourse/blob/master/Lecture_5/Lecture_5.ipynb)"
   ]
  },
  {
   "cell_type": "markdown",
   "metadata": {},
   "source": [
    "# Темы семинара:\n",
    "\n",
    "### 0. Pandas"
   ]
  },
  {
   "cell_type": "markdown",
   "metadata": {},
   "source": [
    "### Задание 0. Форма орбиты\n",
    "\n",
    "Дан текстовый файл **traj.txt** с векторами состояния космического аппарата.\n",
    "В столбцах содержатся координаты, скорости, время: $x, y, z, v_x, v_y, v_z, t$\n",
    "Координаты даны в безразмерном виде: одной безразмерной единице соответствует R км (число R указано в заголовке файла).\n",
    "\n",
    "Требуется:\n",
    "\n",
    "1. Загрузить файл в pandas DataFrame, переименовать столбцы в соосветствии с их содержимым\n",
    "2. Отрисовать графики $y(x), z(x), z(y)$\n",
    "3. Вычислить внешние размеры орбиты в км\n",
    "4. Вычислить внутренние размеры апертуры орбиты в километрах\n",
    "    - для осей $х$ и $z$ взять 50-100 точек, наиболее близких к плоскости $y=0$ и для них вычислить $ap_x = min(x|x>0)-max(x|x<0)$, $ap_z = min(z|z>0)-max(z|z<0)$; выбранные точки изобразить на графиках y(x), z(x) вместе с орбитой (только точки, без линий)\n",
    "    - для оси y взять 50-100 точек, наиболее близких к плоскости $v_y=0$ и для них вычислить $ap_y = min(y|y>0)-max(y|y<0)$; выбранные точки изобразить на графике y(x) вместе с орбитой (только точки, без линий)\n"
   ]
  },
  {
   "cell_type": "code",
   "execution_count": null,
   "metadata": {},
   "outputs": [],
   "source": []
  }
 ],
 "metadata": {
  "kernelspec": {
   "display_name": "Python 3",
   "language": "python",
   "name": "python3"
  },
  "language_info": {
   "codemirror_mode": {
    "name": "ipython",
    "version": 3
   },
   "file_extension": ".py",
   "mimetype": "text/x-python",
   "name": "python",
   "nbconvert_exporter": "python",
   "pygments_lexer": "ipython3",
   "version": "3.7.0"
  }
 },
 "nbformat": 4,
 "nbformat_minor": 2
}
