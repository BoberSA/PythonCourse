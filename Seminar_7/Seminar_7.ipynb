{
 "cells": [
  {
   "cell_type": "markdown",
   "metadata": {},
   "source": [
    "<!-- <div style='float:right'><img width=200 src=\"hse-logo.jpg\" alt=\"HSE logo\"></img></div> -->\n",
    "<div style='float:left'><img width=400 src=\"python_logo.png\" alt=\"Python\"></img></div>\n",
    "\n",
    "<div style='float:right'>\n",
    "\n",
    "<h1 align='center'>Язык программирования Python</h1>\n",
    "\n",
    "<h2 align='right'>Бобер Станислав Алексеевич</h2>\n",
    "<h3 align='right'>Ст. преп. Департамента Прикладной Математики</h3>\n",
    "<h3 align='right'>e-mail: sbober@hse.ru, stas.bober@gmail.com</h3>\n",
    "</div>"
   ]
  },
  {
   "cell_type": "markdown",
   "metadata": {},
   "source": [
    "# Семинар 7\n",
    "\n",
    "Теоретическая часть:\n",
    "[Лекция 7](https://github.com/BoberSA/PythonCourse/blob/master/Lecture_7/Lecture_7.ipynb)"
   ]
  },
  {
   "cell_type": "markdown",
   "metadata": {},
   "source": [
    "# Темы семинара:\n",
    "\n",
    "### 0. Объектно-ориентированное программирование в Python"
   ]
  },
  {
   "cell_type": "markdown",
   "metadata": {},
   "source": [
    "### Задание 0. Классы\n",
    "\n",
    "Создать класс Point, от которого унаследован Shape, а от него - Circle и Square.\n",
    "\n",
    "Point - точка на плоскости, отображаемая определенным маркером '.'.\n",
    "\n",
    "Shape - абстрактная фигура, не имеющая формы, которая также отображается на графике маркером 'x'.\n",
    "\n",
    "Circle и Square отображаются на графике в виде круга и квадрата заданных размеров.\n",
    "\n",
    "Вся иерархия должна:\n",
    "1. реализовывать метод draw(self), который отрисовывает объект при помощи matplotlib; [0.2]\n",
    "2. (кроме Point) реализовывать метод is_inside(self, point), где point - объект класса Point. Метод проверяет, лежит ли точка внутри фигуры; [0.2]\n",
    "3. создать несколько объектов классов Circle, Square, отрисовать и проверить несколько точек на принадлежность им; [0.2]\n",
    "4. создать класс Union, унаследованный от Shape, являющий объединением фигур-наследников класса Shape из заданного списка, реализующий обе функции (draw, is_inside); [0.2]\n",
    "5. создать класс Intersection, унаследованный от Shape, являющий пересечением фигур-наследников класса Shape из заданного списка, реализующий обе функции (draw, is_inside); [0.2]\n"
   ]
  },
  {
   "cell_type": "code",
   "execution_count": null,
   "metadata": {},
   "outputs": [],
   "source": []
  },
  {
   "cell_type": "markdown",
   "metadata": {},
   "source": [
    "### Задание 1. Декораторы\n",
    "\n",
    "Исключения в Python бывают разных типов: ValueError, TypeError, RuntimeError и др.\n",
    "Все исключения унаследованы от класса BaseException.\n",
    "\n",
    "Для того, чтобы поймать и корректно обработать исключение, нужно код, который потенциально может его вызвать, поместить в блок try ... except\n",
    "```\n",
    "\n",
    "try:\n",
    "    # do something that should raise exception\n",
    "except тип_исключения as e:\n",
    "    # do something with exception\n",
    "\n",
    "```\n",
    "\n",
    "При возникновении исключения в коде между try и except, когда тип исключения совпадает или является наследником 'тип_исключения', то управление передается в блок except.\n",
    "\n",
    "Требуется:\n",
    "1. написать декоратор, который будет выводить на экран и в файл 'log.txt' в режиме дополнения информацию о возникновении или не возникновении исключений в декорируемой функции.\n",
    "2. протестировать декоратор нарочно вызывая исключения в декорируемой функции при помощи raise. Например:\n",
    "\n",
    "```\n",
    "raise ValueError(\"В функцию передано некорректное значение\")\n",
    "raise TypeError(\"Тип аргумента функции не поддерживается\")\n",
    "и др.\n",
    "```\n"
   ]
  },
  {
   "cell_type": "code",
   "execution_count": null,
   "metadata": {},
   "outputs": [],
   "source": []
  }
 ],
 "metadata": {
  "kernelspec": {
   "display_name": "Python 3",
   "language": "python",
   "name": "python3"
  },
  "language_info": {
   "codemirror_mode": {
    "name": "ipython",
    "version": 3
   },
   "file_extension": ".py",
   "mimetype": "text/x-python",
   "name": "python",
   "nbconvert_exporter": "python",
   "pygments_lexer": "ipython3",
   "version": "3.7.0"
  }
 },
 "nbformat": 4,
 "nbformat_minor": 2
}
