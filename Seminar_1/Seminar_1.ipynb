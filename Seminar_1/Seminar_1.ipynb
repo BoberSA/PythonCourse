{
 "cells": [
  {
   "cell_type": "markdown",
   "metadata": {},
   "source": [
    "<!-- <div style='float:right'><img width=200 src=\"hse-logo.jpg\" alt=\"HSE logo\"></img></div> -->\n",
    "<div style='float:left'><img width=400 src=\"python_logo.png\" alt=\"Python\"></img></div>\n",
    "\n",
    "<div style='float:right'>\n",
    "\n",
    "<h1 align='center'>Язык программирования Python</h1>\n",
    "\n",
    "<h2 align='right'>Бобер Станислав Алексеевич</h2>\n",
    "<h3 align='right'>Ст. преп. Департамента Прикладной Математики</h3>\n",
    "<h3 align='right'>e-mail: sbober@hse.ru, stas.bober@gmail.com</h3>\n",
    "</div>"
   ]
  },
  {
   "cell_type": "markdown",
   "metadata": {},
   "source": [
    "<h1 align='center'>Семинар 1</h1>"
   ]
  },
  {
   "cell_type": "markdown",
   "metadata": {},
   "source": [
    "# Темы семинара:\n",
    "\n",
    "### 0. Функция open\n",
    "### 1. With ... as\n",
    "### 2. Модуль pickle\n",
    "### 3. Форматирование строк, join\n",
    "### 4. Работа с текстовыми файлами"
   ]
  },
  {
   "cell_type": "markdown",
   "metadata": {},
   "source": [
    "## 0. Функция open"
   ]
  },
  {
   "cell_type": "code",
   "execution_count": 30,
   "metadata": {},
   "outputs": [],
   "source": [
    "# основные аргументы функции open\n",
    "\n",
    "# open('путь_к_файлу/имя_файла', mode='режим_доступа', encoding='кодировка')"
   ]
  },
  {
   "cell_type": "raw",
   "metadata": {},
   "source": [
    "Режимы доступа к файлу\n",
    "\n",
    "'r'       open for reading (default)\n",
    "'w'       open for writing, truncating the file first\n",
    "'x'       create a new file and open it for writing\n",
    "'a'       open for writing, appending to the end of the file if it exists\n",
    "'b'       binary mode\n",
    "'t'       text mode (default)\n",
    "'+'       open a disk file for updating (reading and writing)"
   ]
  },
  {
   "cell_type": "code",
   "execution_count": 3,
   "metadata": {},
   "outputs": [],
   "source": [
    "# открытие текстового файла для записи\n",
    "f = open('example_0.txt', 'wt', encoding='utf-8')\n",
    "\n",
    "text = 'Если фотон направляется к плоскости с двумя щелями, в одной из которых детектор, интерференции не будет. Если детектора нет — будет. Если вернуть детектор, когда фотон покинул плоскость, но не достиг конечной точки, интерференция снова пропадет.'\n",
    "\n",
    "f.write(text) # запись содержимого строки\n",
    "f.close()"
   ]
  },
  {
   "cell_type": "code",
   "execution_count": null,
   "metadata": {},
   "outputs": [],
   "source": [
    "# загрузка текста для проверки при помощи магической команды jupyter"
   ]
  },
  {
   "cell_type": "code",
   "execution_count": null,
   "metadata": {},
   "outputs": [],
   "source": [
    "%load example_0.txt"
   ]
  },
  {
   "cell_type": "markdown",
   "metadata": {},
   "source": [
    "## 1. With ... as"
   ]
  },
  {
   "cell_type": "code",
   "execution_count": 28,
   "metadata": {},
   "outputs": [],
   "source": [
    "# тоже самое, но проще\n",
    "with open('example_0.txt', 'wt', encoding='utf-8') as f:\n",
    "    f.write(text)"
   ]
  },
  {
   "cell_type": "code",
   "execution_count": 29,
   "metadata": {
    "scrolled": true
   },
   "outputs": [
    {
     "name": "stdout",
     "output_type": "stream",
     "text": [
      "Если фотон направляется к плоскости с двумя щелями, в одной из которых детектор, интерференции не будет. Если детектора нет — будет. Если вернуть детектор, когда фотон покинул плоскость, но не достиг конечной точки, интерференция снова пропадет.\n"
     ]
    }
   ],
   "source": [
    "# прочитать и вывести содержание файла\n",
    "with open('example_0.txt', 'rt', encoding='utf-8') as f:\n",
    "    print(f.read())"
   ]
  },
  {
   "cell_type": "markdown",
   "metadata": {},
   "source": [
    "## 2. Pickle"
   ]
  },
  {
   "cell_type": "code",
   "execution_count": 23,
   "metadata": {},
   "outputs": [],
   "source": [
    "import pickle"
   ]
  },
  {
   "cell_type": "code",
   "execution_count": 24,
   "metadata": {},
   "outputs": [],
   "source": [
    "# запись списка из целых чисел в бинарный файл\n",
    "lst = list(range(500,510))\n",
    "\n",
    "with open('example_1.bin', 'wb') as f:\n",
    "    pickle.dump(lst, f)"
   ]
  },
  {
   "cell_type": "code",
   "execution_count": 31,
   "metadata": {},
   "outputs": [
    {
     "data": {
      "text/plain": [
       "[500, 501, 502, 503, 504, 505, 506, 507, 508, 509]"
      ]
     },
     "execution_count": 31,
     "metadata": {},
     "output_type": "execute_result"
    }
   ],
   "source": [
    "# загрузка сохраненного списка\n",
    "with open('example_1.bin', 'rb') as f:\n",
    "    data = pickle.load(f)\n",
    "data"
   ]
  },
  {
   "cell_type": "code",
   "execution_count": 34,
   "metadata": {},
   "outputs": [],
   "source": [
    "# сохранение и загрузка сложных объектов\n",
    "d = {'list':[6.0, 7.3, 8.8], 'tuple':(0, 9, 8), 'string':'test_string'}\n",
    "\n",
    "with open('example_2.bin', 'wb') as f:\n",
    "    pickle.dump(d, f)"
   ]
  },
  {
   "cell_type": "code",
   "execution_count": 35,
   "metadata": {},
   "outputs": [
    {
     "data": {
      "text/plain": [
       "{'list': [6.0, 7.3, 8.8], 'tuple': (0, 9, 8), 'string': 'test_string'}"
      ]
     },
     "execution_count": 35,
     "metadata": {},
     "output_type": "execute_result"
    }
   ],
   "source": [
    "with open('example_2.bin', 'rb') as f:\n",
    "    data = pickle.load(f)\n",
    "data"
   ]
  },
  {
   "cell_type": "markdown",
   "metadata": {},
   "source": [
    "## 3. Форматирование строк, join"
   ]
  },
  {
   "cell_type": "code",
   "execution_count": 38,
   "metadata": {},
   "outputs": [
    {
     "data": {
      "text/plain": [
       "\"В строке можно разместить: целое число '1', действительное число '2.5', строку 'abcdef'\""
      ]
     },
     "execution_count": 38,
     "metadata": {},
     "output_type": "execute_result"
    }
   ],
   "source": [
    "# вспомним форматирование в стиле \"Си\"\n",
    "\n",
    "\"В строке можно разместить: целое число '%d', \\\n",
    "действительное число '%.1f', строку '%s'\"%(1, 2.5, 'abcdef')"
   ]
  },
  {
   "cell_type": "code",
   "execution_count": 39,
   "metadata": {},
   "outputs": [
    {
     "data": {
      "text/plain": [
       "\"В строке можно разместить: целое число '1', действительное число '2.5', строку 'abcdef'\""
      ]
     },
     "execution_count": 39,
     "metadata": {},
     "output_type": "execute_result"
    }
   ],
   "source": [
    "# продвинутое форматирование\n",
    "\n",
    "\"В строке можно разместить: целое число '{i}', \\\n",
    "действительное число '{f}', строку '{s}'\".format(i=1, f=2.5, s='abcdef')"
   ]
  },
  {
   "cell_type": "code",
   "execution_count": 42,
   "metadata": {},
   "outputs": [
    {
     "data": {
      "text/plain": [
       "'Первый элемент списка: a, второй: bb, третий: (3, 4)'"
      ]
     },
     "execution_count": 42,
     "metadata": {},
     "output_type": "execute_result"
    }
   ],
   "source": [
    "'Первый элемент списка: {lst[0]}, второй: {lst[1]}, \\\n",
    "третий: {lst[2]}'.format(lst=['a', 'bb', (3, 4)])"
   ]
  },
  {
   "cell_type": "code",
   "execution_count": 44,
   "metadata": {},
   "outputs": [
    {
     "name": "stdout",
     "output_type": "stream",
     "text": [
      "— Угадайте, что произошло?\n",
      "— Ты шел по коридору, наткнулся на межпространственный портал, \n",
      "который перекинул тебя на пять тысяч лет в будущее, в котором, \n",
      "пользуюсь преимуществом и технологией, ты построил машину времени, \n",
      "а сейчас вернулся, чтобы взять нас с собой в семь тысяч десятый год, \n",
      "где на работу в мыслинарий нас будут возить телепатически управляемые \n",
      "летающие дельфины?\n"
     ]
    },
    {
     "data": {
      "text/plain": [
       "'— Угадайте, что произошло?\\n— Ты шел по коридору, наткнулся на межпространственный портал, \\nкоторый перекинул тебя на пять тысяч лет в будущее, в котором, \\nпользуюсь преимуществом и технологией, ты построил машину времени, \\nа сейчас вернулся, чтобы взять нас с собой в семь тысяч десятый год, \\nгде на работу в мыслинарий нас будут возить телепатически управляемые \\nлетающие дельфины?'"
      ]
     },
     "execution_count": 44,
     "metadata": {},
     "output_type": "execute_result"
    }
   ],
   "source": [
    "# многострочная запись текста\n",
    "\n",
    "lines = '''— Угадайте, что произошло?\n",
    "— Ты шел по коридору, наткнулся на межпространственный портал, \n",
    "который перекинул тебя на пять тысяч лет в будущее, в котором, \n",
    "пользуюсь преимуществом и технологией, ты построил машину времени, \n",
    "а сейчас вернулся, чтобы взять нас с собой в семь тысяч десятый год, \n",
    "где на работу в мыслинарий нас будут возить телепатически управляемые \n",
    "летающие дельфины?'''\n",
    "print(lines)\n",
    "lines"
   ]
  },
  {
   "cell_type": "code",
   "execution_count": 49,
   "metadata": {},
   "outputs": [
    {
     "data": {
      "text/plain": [
       "['Вот здорово!',\n",
       " 'Посмотри на меня.',\n",
       " 'Я в реальном мире обычных людей,',\n",
       " 'живущих своей унылой обыденной жизнью.']"
      ]
     },
     "execution_count": 49,
     "metadata": {},
     "output_type": "execute_result"
    }
   ],
   "source": [
    "# метод строки join позволяет объединить список строк в одну\n",
    "\n",
    "lst = ['Вот здорово!',\n",
    "       'Посмотри на меня.',\n",
    "       'Я в реальном мире обычных людей,',\n",
    "       'живущих своей унылой обыденной жизнью.']\n",
    "lst"
   ]
  },
  {
   "cell_type": "code",
   "execution_count": 50,
   "metadata": {},
   "outputs": [
    {
     "name": "stdout",
     "output_type": "stream",
     "text": [
      "Вот здорово!\n",
      "Посмотри на меня.\n",
      "Я в реальном мире обычных людей,\n",
      "живущих своей унылой обыденной жизнью.\n"
     ]
    },
    {
     "data": {
      "text/plain": [
       "'Вот здорово!\\nПосмотри на меня.\\nЯ в реальном мире обычных людей,\\nживущих своей унылой обыденной жизнью.'"
      ]
     },
     "execution_count": 50,
     "metadata": {},
     "output_type": "execute_result"
    }
   ],
   "source": [
    "s = '\\n'.join(lst)\n",
    "print(s)\n",
    "s"
   ]
  },
  {
   "cell_type": "code",
   "execution_count": null,
   "metadata": {},
   "outputs": [],
   "source": [
    "# замена всех подстрок в строке на заданную\n"
   ]
  },
  {
   "cell_type": "markdown",
   "metadata": {},
   "source": [
    "## 4. Работа с текстовыми файлами"
   ]
  },
  {
   "cell_type": "markdown",
   "metadata": {},
   "source": [
    "### 4.1 Задание\n",
    "\n",
    "Текст произведения Льюиса Кэрролла находится в файле alice.txt (загружено отсюда: http://lib.ru/CARROLL/alice.txt).\n",
    "Требуется вывести 20 наиболее часто встречающихся в тексте слов.\n",
    "\n",
    "Задействуются умения:\n",
    "- загрузка из файла\n",
    "- использование методов split, replace\n",
    "- работа со списками и словарями"
   ]
  },
  {
   "cell_type": "code",
   "execution_count": null,
   "metadata": {},
   "outputs": [],
   "source": []
  },
  {
   "cell_type": "code",
   "execution_count": null,
   "metadata": {},
   "outputs": [],
   "source": []
  },
  {
   "cell_type": "code",
   "execution_count": null,
   "metadata": {},
   "outputs": [],
   "source": []
  },
  {
   "cell_type": "markdown",
   "metadata": {},
   "source": [
    "### 4.2 Задание\n",
    "\n",
    "*Дан текстовый файл em16_edm_v00.tf, содержащий описание фреймов*\n",
    "https://naif.jpl.nasa.gov/pub/naif/EXOMARS2016/kernels/fk/em16_edm_v00.tf"
   ]
  },
  {
   "cell_type": "raw",
   "metadata": {},
   "source": [
    "Содержательные части файла заключены между строками '\\begindata' и '\\begintext', например:\n",
    "\n",
    "\\begindata\n",
    "\n",
    "  FRAME_EDM_SURFACE_FIXED      =  -117901\n",
    "  FRAME_-117901_NAME           = 'EDM_SURFACE_FIXED'\n",
    "  FRAME_-117901_CLASS          =  4\n",
    "  FRAME_-117901_CLASS_ID       =  -117901\n",
    "  FRAME_-117901_CENTER         =  -117\n",
    "\n",
    "  TKFRAME_-117901_RELATIVE     = 'EDM_TOPO'\n",
    "  TKFRAME_-117901_SPEC         = 'ANGLES'\n",
    "  TKFRAME_-117901_UNITS        = 'DEGREES'\n",
    "  TKFRAME_-117901_AXES         = ( 1,      2,      3     )\n",
    "  TKFRAME_-117901_ANGLES       = ( 0.000,  0.000,  0.000 )\n",
    "\n",
    "\\begintext"
   ]
  },
  {
   "cell_type": "markdown",
   "metadata": {},
   "source": [
    "*Требуется:*\n",
    "- выделить содержательные части файла и разместить их в списке из строк\n",
    "- на основе каждой содержательной части создать словарь, содержащий имя фрейма, его идентификатор и класс (в результате - список словарей)\n",
    "- вывести на экран список имен фреймов и их количество\n",
    "- сохранить список словарей в бинарном файле, загрузить его из файла вновь и вывести на экран"
   ]
  },
  {
   "cell_type": "code",
   "execution_count": 75,
   "metadata": {},
   "outputs": [],
   "source": [
    "# для примера приведенного выше словарь должен выглядеть следующим образом:\n",
    "# {'name':'EDM_SURFACE_FIXED', 'id':-117901, 'class':4}"
   ]
  },
  {
   "cell_type": "code",
   "execution_count": null,
   "metadata": {},
   "outputs": [],
   "source": []
  },
  {
   "cell_type": "code",
   "execution_count": null,
   "metadata": {},
   "outputs": [],
   "source": []
  }
 ],
 "metadata": {
  "kernelspec": {
   "display_name": "Python 3",
   "language": "python",
   "name": "python3"
  },
  "language_info": {
   "codemirror_mode": {
    "name": "ipython",
    "version": 3
   },
   "file_extension": ".py",
   "mimetype": "text/x-python",
   "name": "python",
   "nbconvert_exporter": "python",
   "pygments_lexer": "ipython3",
   "version": "3.6.6"
  }
 },
 "nbformat": 4,
 "nbformat_minor": 2
}
