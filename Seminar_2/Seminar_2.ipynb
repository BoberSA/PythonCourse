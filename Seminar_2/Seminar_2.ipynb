{
 "cells": [
  {
   "cell_type": "markdown",
   "metadata": {},
   "source": [
    "<!-- <div style='float:right'><img width=200 src=\"hse-logo.jpg\" alt=\"HSE logo\"></img></div> -->\n",
    "<div style='float:left'><img width=400 src=\"python_logo.png\" alt=\"Python\"></img></div>\n",
    "\n",
    "<div style='float:right'>\n",
    "\n",
    "<h1 align='center'>Язык программирования Python</h1>\n",
    "\n",
    "<h2 align='right'>Бобер Станислав Алексеевич</h2>\n",
    "<h3 align='right'>Ст. преп. Департамента Прикладной Математики</h3>\n",
    "<h3 align='right'>e-mail: sbober@hse.ru, stas.bober@gmail.com</h3>\n",
    "</div>"
   ]
  },
  {
   "cell_type": "markdown",
   "metadata": {},
   "source": [
    "# Семинар 2\n",
    "\n",
    "Теоретическая часть: [Лекция 1](https://github.com/BoberSA/PythonCourse/blob/master/Lecture_1/Lecture_1.ipynb)"
   ]
  },
  {
   "cell_type": "markdown",
   "metadata": {},
   "source": [
    "# Темы семинара:\n",
    "\n",
    "### 0. Процедурное программирование\n",
    "### 1. Функциональное программирование"
   ]
  },
  {
   "cell_type": "markdown",
   "metadata": {},
   "source": [
    "### Задание 0. L-система\n",
    "\n",
    "[Подробное описание L-систем](https://ru.wikipedia.org/wiki/L-система)\n",
    "\n",
    "Требуется в процедурном и функциональном стилях получить строку 5 поколения для следующих систем: Кривая Коха, Треугольник Серпинского, Кривая Дракона"
   ]
  },
  {
   "cell_type": "code",
   "execution_count": 7,
   "metadata": {},
   "outputs": [
    {
     "data": {
      "text/plain": [
       "'F-G+F+G-F-GG+F-G+F+G-F+GG-F-G+F+G-F-GGGG+F-G+F+G-F-GG+F-G+F+G-F+GG-F-G+F+G-F+GGGG-F-G+F+G-F-GG+F-G+F+G-F+GG-F-G+F+G-F-GGGGGGGG+F-G+F+G-F-GG+F-G+F+G-F+GG-F-G+F+G-F-GGGG+F-G+F+G-F-GG+F-G+F+G-F+GG-F-G+F+G-F+GGGG-F-G+F+G-F-GG+F-G+F+G-F+GG-F-G+F+G-F+GGGGGGGG-F-G+F+G-F-GG+F-G+F+G-F+GG-F-G+F+G-F-GGGG+F-G+F+G-F-GG+F-G+F+G-F+GG-F-G+F+G-F+GGGG-F-G+F+G-F-GG+F-G+F+G-F+GG-F-G+F+G-F-GGGGGGGGGGGGGGGG+F-G+F+G-F-GG+F-G+F+G-F+GG-F-G+F+G-F-GGGG+F-G+F+G-F-GG+F-G+F+G-F+GG-F-G+F+G-F+GGGG-F-G+F+G-F-GG+F-G+F+G-F+GG-F-G+F+G-F-GGGGGGGG+F-G+F+G-F-GG+F-G+F+G-F+GG-F-G+F+G-F-GGGG+F-G+F+G-F-GG+F-G+F+G-F+GG-F-G+F+G-F+GGGG-F-G+F+G-F-GG+F-G+F+G-F+GG-F-G+F+G-F+GGGGGGGG-F-G+F+G-F-GG+F-G+F+G-F+GG-F-G+F+G-F-GGGG+F-G+F+G-F-GG+F-G+F+G-F+GG-F-G+F+G-F+GGGG-F-G+F+G-F-GG+F-G+F+G-F+GG-F-G+F+G-F+GGGGGGGGGGGGGGGG-F-G+F+G-F-GG+F-G+F+G-F+GG-F-G+F+G-F-GGGG+F-G+F+G-F-GG+F-G+F+G-F+GG-F-G+F+G-F+GGGG-F-G+F+G-F-GG+F-G+F+G-F+GG-F-G+F+G-F-GGGGGGGG+F-G+F+G-F-GG+F-G+F+G-F+GG-F-G+F+G-F-GGGG+F-G+F+G-F-GG+F-G+F+G-F+GG-F-G+F+G-F+GGGG-F-G+F+G-F-GG+F-G+F+G-F+GG-F-G+F+G-F+GGGGGGGG-F-G+F+G-F-GG+F-G+F+G-F+GG-F-G+F+G-F-GGGG+F-G+F+G-F-GG+F-G+F+G-F+GG-F-G+F+G-F+GGGG-F-G+F+G-F-GG+F-G+F+G-F+GG-F-G+F+G-F-GGGGGGGGGGGGGGGGGGGGGGGGGGGGGGGG-GGGGGGGGGGGGGGGGGGGGGGGGGGGGGGGG'"
      ]
     },
     "execution_count": 7,
     "metadata": {},
     "output_type": "execute_result"
    }
   ],
   "source": [
    "serp = {'F':'F-G+F+G-F', 'G':'GG'}\n",
    "\n",
    "def evaluate(n, rules, axiom):\n",
    "    return axiom if not n else ''.join(map(lambda s:rules.get(s,s), evaluate(n-1, rules, axiom)))\n",
    "\n",
    "evaluate(5, serp, 'F-G-G')"
   ]
  },
  {
   "cell_type": "code",
   "execution_count": null,
   "metadata": {},
   "outputs": [],
   "source": []
  },
  {
   "cell_type": "code",
   "execution_count": null,
   "metadata": {},
   "outputs": [],
   "source": []
  },
  {
   "cell_type": "markdown",
   "metadata": {},
   "source": [
    "### Задание 1. Статистический анализ\n",
    "\n",
    "Дан текстовый файл:\n",
    "[Температура в Стокгольме более чем за 200 лет](https://github.com/jrjohansson/scientific-python-lectures/blob/master/stockholm_td_adj.dat)\n",
    "\n",
    "Требуется в процедурном и функциональном стилях получить:\n",
    "- Среднее значение температуры за все года в месяц и день, совпадающие с месяцем и днем рождения студента, решающего эту задачу\n",
    "- Минимальную и максимальную температуру и год, когда они были достигнуты на каждый день того же месяца, что и в предыдущем задании\n"
   ]
  },
  {
   "cell_type": "code",
   "execution_count": null,
   "metadata": {},
   "outputs": [],
   "source": []
  },
  {
   "cell_type": "code",
   "execution_count": null,
   "metadata": {},
   "outputs": [],
   "source": []
  },
  {
   "cell_type": "code",
   "execution_count": null,
   "metadata": {},
   "outputs": [],
   "source": []
  }
 ],
 "metadata": {
  "kernelspec": {
   "display_name": "Python 3",
   "language": "python",
   "name": "python3"
  },
  "language_info": {
   "codemirror_mode": {
    "name": "ipython",
    "version": 3
   },
   "file_extension": ".py",
   "mimetype": "text/x-python",
   "name": "python",
   "nbconvert_exporter": "python",
   "pygments_lexer": "ipython3",
   "version": "3.6.6"
  }
 },
 "nbformat": 4,
 "nbformat_minor": 2
}
