{
 "cells": [
  {
   "cell_type": "markdown",
   "metadata": {
    "slideshow": {
     "slide_type": "slide"
    }
   },
   "source": [
    "<!-- <div style='float:right'><img width=200 src=\"hse-logo.jpg\" alt=\"HSE logo\"></img></div> -->\n",
    "<div style='float:left'><img width=400 src=\"python_logo.png\" alt=\"Python\"></img></div>\n",
    "\n",
    "<div style='float:right'>\n",
    "\n",
    "<h1 align='center'>Язык программирования Python</h1>\n",
    "\n",
    "<h2 align='right'>Бобер Станислав Алексеевич</h2>\n",
    "<h3 align='right'>Ст. преп. Департамента Прикладной Математики</h3>\n",
    "<h3 align='right'>e-mail: sbober@hse.ru, stas.bober@gmail.com</h3>\n",
    "</div>\n"
   ]
  },
  {
   "cell_type": "markdown",
   "metadata": {
    "slideshow": {
     "slide_type": "-"
    }
   },
   "source": [
    "<h1 align='center'>Лекция 2. Модуль NumPy</h1>"
   ]
  },
  {
   "cell_type": "markdown",
   "metadata": {
    "slideshow": {
     "slide_type": "slide"
    }
   },
   "source": [
    "## Основной объект - многомерный массив (ndarray)"
   ]
  },
  {
   "cell_type": "markdown",
   "metadata": {
    "slideshow": {
     "slide_type": "slide"
    }
   },
   "source": [
    "### Одномерный массив"
   ]
  },
  {
   "cell_type": "code",
   "execution_count": 152,
   "metadata": {
    "slideshow": {
     "slide_type": "-"
    }
   },
   "outputs": [],
   "source": [
    "# подключение модуля и сокращение названия для удобства\n",
    "import numpy as np\n",
    "\n",
    "np.set_printoptions(precision=3) # настройка вывода элементов массива не более 3 цифр после запятой\n"
   ]
  },
  {
   "cell_type": "code",
   "execution_count": 153,
   "metadata": {},
   "outputs": [
    {
     "name": "stdout",
     "output_type": "stream",
     "text": [
      "             тип объекта: <class 'numpy.ndarray'>\n",
      "    тип элемента массива: int32\n",
      "           форма массива: (9,)\n",
      "      содержимое массива: [1 3 6 4 7 2 9 5 8]\n"
     ]
    },
    {
     "data": {
      "text/plain": [
       "array([1, 3, 6, 4, 7, 2, 9, 5, 8])"
      ]
     },
     "execution_count": 153,
     "metadata": {},
     "output_type": "execute_result"
    }
   ],
   "source": [
    "# создание одномерного массива на основе списка\n",
    "arr = np.array([1, 3, 6, 4, 7, 2, 9, 5, 8])\n",
    "\n",
    "print('%25s'%'тип объекта:', type(arr))\n",
    "print('%25s'%'тип элемента массива:', arr.dtype)\n",
    "print('%25s'%'форма массива:', arr.shape)\n",
    "print('%25s'%'содержимое массива:', arr)\n",
    "arr\n"
   ]
  },
  {
   "cell_type": "code",
   "execution_count": 154,
   "metadata": {
    "slideshow": {
     "slide_type": "slide"
    }
   },
   "outputs": [
    {
     "name": "stdout",
     "output_type": "stream",
     "text": [
      "    <class 'numpy.int32'> <class 'numpy.ndarray'> [1 3 0 4 7 0 9 5 8]\n",
      "  <class 'numpy.float64'> <class 'numpy.ndarray'> [1. 3. 0. 4. 7. 0. 9. 5. 8.]\n",
      "           <class 'bool'> <class 'numpy.ndarray'> [ True  True False  True  True False  True  True  True]\n"
     ]
    }
   ],
   "source": [
    "# создание одномерного массива с заданием типа элемента\n",
    "\n",
    "for dt in [np.int32, np.float64, np.bool]:\n",
    "    arr = np.array([1, 3, 0, 4, 7, 0, 9, 5, 8], dtype=dt)\n",
    "    print('%25s %s %s'%(dt, type(arr), arr))\n"
   ]
  },
  {
   "cell_type": "code",
   "execution_count": 155,
   "metadata": {
    "slideshow": {
     "slide_type": "slide"
    }
   },
   "outputs": [
    {
     "data": {
      "text/plain": [
       "array([0. , 0.5, 1. , 1.5, 2. , 2.5, 3. , 3.5, 4. , 4.5])"
      ]
     },
     "execution_count": 155,
     "metadata": {},
     "output_type": "execute_result"
    }
   ],
   "source": [
    "# аналог range - создание последовательности с заданным шагом\n",
    "\n",
    "arr = np.arange(0, 5, 0.5)\n",
    "arr\n"
   ]
  },
  {
   "cell_type": "code",
   "execution_count": 156,
   "metadata": {
    "slideshow": {
     "slide_type": "-"
    }
   },
   "outputs": [
    {
     "name": "stdout",
     "output_type": "stream",
     "text": [
      "         обычный linspace [ 0.  1.  2.  3.  4.  5.  6.  7.  8.  9. 10.]\n",
      "      с возвращением шага (array([ 0.,  1.,  2.,  3.,  4.,  5.,  6.,  7.,  8.,  9., 10.]), 1.0)\n",
      "   не включая правый край [0.    0.909 1.818 2.727 3.636 4.545 5.455 6.364 7.273 8.182 9.091]\n"
     ]
    }
   ],
   "source": [
    "# linspace - равномерное размещение заданного количества точек в отрезке\n",
    "\n",
    "print('%25s'%'обычный linspace',       np.linspace(0, 10, 11))\n",
    "print('%25s'%'с возвращением шага',    np.linspace(0, 10, 11, retstep=True))\n",
    "print('%25s'%'не включая правый край', np.linspace(0, 10, 11, endpoint=False))\n"
   ]
  },
  {
   "cell_type": "code",
   "execution_count": 157,
   "metadata": {
    "slideshow": {
     "slide_type": "slide"
    }
   },
   "outputs": [
    {
     "data": {
      "text/plain": [
       "(array([0., 1., 2., 3., 4.]), array([3.5, 4. , 4.5]))"
      ]
     },
     "execution_count": 157,
     "metadata": {},
     "output_type": "execute_result"
    }
   ],
   "source": [
    "# срезы (slice) - это новые представления (view) массива\n",
    "\n",
    "arr = np.arange(0, 5, 0.5)\n",
    "arr[::2], arr[-3:]\n"
   ]
  },
  {
   "cell_type": "code",
   "execution_count": 158,
   "metadata": {},
   "outputs": [
    {
     "name": "stdout",
     "output_type": "stream",
     "text": [
      "[0.  0.5 1.  1.5 2.  2.5 3.  3.5 4.  4.5]\n",
      "[0.  0.5 0.  1.5 0.  2.5 0.  3.5 0.  4.5]\n"
     ]
    }
   ],
   "source": [
    "# изменение части массива при помощи среза\n",
    "# задействован broadcasting - о нем далее\n",
    "\n",
    "print(arr)\n",
    "arr[::2] = 0\n",
    "print(arr)\n"
   ]
  },
  {
   "cell_type": "markdown",
   "metadata": {
    "slideshow": {
     "slide_type": "slide"
    }
   },
   "source": [
    "### Многомерный массив"
   ]
  },
  {
   "cell_type": "code",
   "execution_count": 159,
   "metadata": {},
   "outputs": [
    {
     "name": "stdout",
     "output_type": "stream",
     "text": [
      "shape (3, 3)\n"
     ]
    },
    {
     "data": {
      "text/plain": [
       "array([[1, 3, 6],\n",
       "       [4, 7, 2],\n",
       "       [9, 5, 8]])"
      ]
     },
     "execution_count": 159,
     "metadata": {},
     "output_type": "execute_result"
    }
   ],
   "source": [
    "# создание двумерного массива на основе списка списков\n",
    "arr = np.array([[1, 3, 6], [4, 7, 2], [9, 5, 8]])\n",
    "\n",
    "print('shape', arr.shape)\n",
    "arr\n"
   ]
  },
  {
   "cell_type": "code",
   "execution_count": 160,
   "metadata": {
    "slideshow": {
     "slide_type": "slide"
    }
   },
   "outputs": [
    {
     "name": "stdout",
     "output_type": "stream",
     "text": [
      "shape (3, 3)\n"
     ]
    },
    {
     "data": {
      "text/plain": [
       "array([[0, 1, 2],\n",
       "       [3, 4, 5],\n",
       "       [6, 7, 8]])"
      ]
     },
     "execution_count": 160,
     "metadata": {},
     "output_type": "execute_result"
    }
   ],
   "source": [
    "# создание двумерного массива при помощи метода reshape\n",
    "arr = np.arange(9).reshape(3, 3)\n",
    "\n",
    "print('shape', arr.shape)\n",
    "arr\n"
   ]
  },
  {
   "cell_type": "code",
   "execution_count": 161,
   "metadata": {
    "slideshow": {
     "slide_type": "-"
    }
   },
   "outputs": [
    {
     "name": "stdout",
     "output_type": "stream",
     "text": [
      "[[0 3 6]\n",
      " [1 4 7]\n",
      " [2 5 8]]\n",
      "[[0 3 6]\n",
      " [1 4 7]\n",
      " [2 5 8]]\n"
     ]
    }
   ],
   "source": [
    "# транспонирование массива\n",
    "\n",
    "print(arr.T)\n",
    "print(np.transpose(arr))\n"
   ]
  },
  {
   "cell_type": "code",
   "execution_count": 244,
   "metadata": {
    "slideshow": {
     "slide_type": "slide"
    }
   },
   "outputs": [
    {
     "name": "stdout",
     "output_type": "stream",
     "text": [
      "arr\n",
      " [[ 0.  1.  2.  3.  4.]\n",
      " [15.  0.  0.  0.  5.]\n",
      " [14.  0.  0.  0.  6.]\n",
      " [13.  0.  0.  0.  7.]\n",
      " [12. 11. 10.  9.  8.]]\n",
      "строка 2 [14.  0.  0.  0.  6.]\n",
      "столбец 1\n",
      " [ 1.  0.  0.  0. 11.]\n",
      "каждая вторая строка, столбцы 1,2\n",
      " [[ 1.  2.]\n",
      " [ 0.  0.]\n",
      " [11. 10.]]\n"
     ]
    }
   ],
   "source": [
    "# срезы многомерного массива\n",
    "\n",
    "print('arr\\n', arr)\n",
    "print('строка 2', arr[2, :])\n",
    "print('столбец 1\\n', arr[:, 1])\n",
    "print('каждая вторая строка, столбцы 1,2\\n', arr[::2, 1:3])"
   ]
  },
  {
   "cell_type": "markdown",
   "metadata": {
    "slideshow": {
     "slide_type": "slide"
    }
   },
   "source": [
    "### Broadcasting\n",
    "\n",
    "<img src=\"numpy_broadcasting.png\"></img>"
   ]
  },
  {
   "cell_type": "code",
   "execution_count": 245,
   "metadata": {
    "slideshow": {
     "slide_type": "slide"
    }
   },
   "outputs": [
    {
     "name": "stdout",
     "output_type": "stream",
     "text": [
      "arr1:\n",
      " [[ 0]\n",
      " [10]\n",
      " [20]\n",
      " [30]\n",
      " [40]]\n",
      "arr2: [0 1 2 3 4]\n"
     ]
    },
    {
     "data": {
      "text/plain": [
       "array([[ 0,  1,  2,  3,  4],\n",
       "       [10, 11, 12, 13, 14],\n",
       "       [20, 21, 22, 23, 24],\n",
       "       [30, 31, 32, 33, 34],\n",
       "       [40, 41, 42, 43, 44]])"
      ]
     },
     "execution_count": 245,
     "metadata": {},
     "output_type": "execute_result"
    }
   ],
   "source": [
    "# механизм broadcasting\n",
    "# большинство операций над массивами \"приводят\" их к максимальным размерам, если количество измерений совпадает\n",
    "\n",
    "arr1 = np.array([range(5)]).T*10\n",
    "arr2 = np.array(range(5))\n",
    "\n",
    "print('arr1:\\n', arr1)\n",
    "print('arr2:', arr2)\n",
    "\n",
    "arr = arr1+arr2\n",
    "arr\n"
   ]
  },
  {
   "cell_type": "markdown",
   "metadata": {
    "slideshow": {
     "slide_type": "slide"
    }
   },
   "source": [
    "### Полезные функции для создания массивов"
   ]
  },
  {
   "cell_type": "code",
   "execution_count": 164,
   "metadata": {
    "slideshow": {
     "slide_type": "slide"
    }
   },
   "outputs": [
    {
     "data": {
      "text/plain": [
       "array([[0.5  , 0.363, 0.466, 0.399, 0.269],\n",
       "       [0.841, 0.816, 0.176, 0.209, 0.046],\n",
       "       [0.44 , 0.802, 0.193, 0.439, 0.601],\n",
       "       [0.02 , 0.277, 0.823, 0.118, 0.302],\n",
       "       [0.493, 0.49 , 0.196, 0.602, 0.842]])"
      ]
     },
     "execution_count": 164,
     "metadata": {},
     "output_type": "execute_result"
    }
   ],
   "source": [
    "# пустой массив - не инициализирует значения элементов\n",
    "np.empty((5,5))\n"
   ]
  },
  {
   "cell_type": "code",
   "execution_count": 165,
   "metadata": {
    "slideshow": {
     "slide_type": "slide"
    }
   },
   "outputs": [
    {
     "data": {
      "text/plain": [
       "array([[0., 0., 0., 0., 0.],\n",
       "       [0., 0., 0., 0., 0.],\n",
       "       [0., 0., 0., 0., 0.],\n",
       "       [0., 0., 0., 0., 0.],\n",
       "       [0., 0., 0., 0., 0.]])"
      ]
     },
     "execution_count": 165,
     "metadata": {},
     "output_type": "execute_result"
    }
   ],
   "source": [
    "# массив из нулей\n",
    "np.zeros((5,5))\n"
   ]
  },
  {
   "cell_type": "code",
   "execution_count": 166,
   "metadata": {
    "slideshow": {
     "slide_type": "slide"
    }
   },
   "outputs": [
    {
     "data": {
      "text/plain": [
       "array([[1., 1., 1., 1., 1.],\n",
       "       [1., 1., 1., 1., 1.],\n",
       "       [1., 1., 1., 1., 1.],\n",
       "       [1., 1., 1., 1., 1.],\n",
       "       [1., 1., 1., 1., 1.]])"
      ]
     },
     "execution_count": 166,
     "metadata": {},
     "output_type": "execute_result"
    }
   ],
   "source": [
    "# массив из единиц\n",
    "np.ones((5,5))\n"
   ]
  },
  {
   "cell_type": "code",
   "execution_count": 167,
   "metadata": {
    "slideshow": {
     "slide_type": "slide"
    }
   },
   "outputs": [
    {
     "data": {
      "text/plain": [
       "array([[1., 0., 0., 0., 0.],\n",
       "       [0., 1., 0., 0., 0.],\n",
       "       [0., 0., 1., 0., 0.],\n",
       "       [0., 0., 0., 1., 0.],\n",
       "       [0., 0., 0., 0., 1.]])"
      ]
     },
     "execution_count": 167,
     "metadata": {},
     "output_type": "execute_result"
    }
   ],
   "source": [
    "# единичная матрица\n",
    "np.eye(5)\n"
   ]
  },
  {
   "cell_type": "code",
   "execution_count": 168,
   "metadata": {
    "slideshow": {
     "slide_type": "-"
    }
   },
   "outputs": [
    {
     "data": {
      "text/plain": [
       "array([[0., 0., 0., 0., 0.],\n",
       "       [1., 0., 0., 0., 0.],\n",
       "       [0., 1., 0., 0., 0.],\n",
       "       [0., 0., 1., 0., 0.],\n",
       "       [0., 0., 0., 1., 0.]])"
      ]
     },
     "execution_count": 168,
     "metadata": {},
     "output_type": "execute_result"
    }
   ],
   "source": [
    "# единичную диагональ задает параметр k\n",
    "np.eye(5, k=-1)\n"
   ]
  },
  {
   "cell_type": "code",
   "execution_count": 169,
   "metadata": {
    "slideshow": {
     "slide_type": "slide"
    }
   },
   "outputs": [
    {
     "data": {
      "text/plain": [
       "array([[0, 1, 0, 0],\n",
       "       [0, 0, 2, 0],\n",
       "       [0, 0, 0, 3],\n",
       "       [0, 0, 0, 0]])"
      ]
     },
     "execution_count": 169,
     "metadata": {},
     "output_type": "execute_result"
    }
   ],
   "source": [
    "# создать матрицу с заданной диагональю\n",
    "np.diag([1,2,3], k=1)\n"
   ]
  },
  {
   "cell_type": "code",
   "execution_count": 170,
   "metadata": {},
   "outputs": [
    {
     "name": "stdout",
     "output_type": "stream",
     "text": [
      "[[ 0  1  2  3  4]\n",
      " [10 11 12 13 14]\n",
      " [20 21 22 23 24]\n",
      " [30 31 32 33 34]\n",
      " [40 41 42 43 44]]\n"
     ]
    },
    {
     "data": {
      "text/plain": [
       "array([10, 21, 32, 43])"
      ]
     },
     "execution_count": 170,
     "metadata": {},
     "output_type": "execute_result"
    }
   ],
   "source": [
    "# достать заданную диагональ из матрицы\n",
    "print(arr)\n",
    "np.diag(arr, k=-1)\n"
   ]
  },
  {
   "cell_type": "markdown",
   "metadata": {
    "slideshow": {
     "slide_type": "slide"
    }
   },
   "source": [
    "### Генерация псевдослучайных последовательностей"
   ]
  },
  {
   "cell_type": "code",
   "execution_count": 195,
   "metadata": {
    "slideshow": {
     "slide_type": "slide"
    }
   },
   "outputs": [
    {
     "data": {
      "text/plain": [
       "array([[0.192, 0.622, 0.438, 0.785, 0.78 ],\n",
       "       [0.273, 0.276, 0.802, 0.958, 0.876],\n",
       "       [0.358, 0.501, 0.683, 0.713, 0.37 ],\n",
       "       [0.561, 0.503, 0.014, 0.773, 0.883],\n",
       "       [0.365, 0.615, 0.075, 0.369, 0.933]])"
      ]
     },
     "execution_count": 195,
     "metadata": {},
     "output_type": "execute_result"
    }
   ],
   "source": [
    "import numpy.random as npr\n",
    "npr.seed(1234)\n",
    "\n",
    "# равномерно распределенные случайные числа в полуинтервале [0, 1)\n",
    "npr.rand(5, 5)\n"
   ]
  },
  {
   "cell_type": "code",
   "execution_count": 172,
   "metadata": {
    "slideshow": {
     "slide_type": "-"
    }
   },
   "outputs": [
    {
     "data": {
      "text/plain": [
       "array([[10.24 ,  9.339, 14.033,  8.814, 10.699],\n",
       "       [13.617, 11.264, 10.779,  8.617,  8.558],\n",
       "       [ 8.954,  7.595, 11.323, 11.682,  9.395],\n",
       "       [10.235,  9.087, 10.444,  6.758, 10.623],\n",
       "       [ 8.965, 10.165, 11.554,  9.253, 10.304]])"
      ]
     },
     "execution_count": 172,
     "metadata": {},
     "output_type": "execute_result"
    }
   ],
   "source": [
    "# нормально распределенные случайные числа с заданным средним и стандартным отклонением\n",
    "npr.normal(10, 2, size=(5,5))\n"
   ]
  },
  {
   "cell_type": "code",
   "execution_count": 203,
   "metadata": {
    "slideshow": {
     "slide_type": "slide"
    }
   },
   "outputs": [
    {
     "name": "stdout",
     "output_type": "stream",
     "text": [
      "о в е л о ь н п ь д ь д н т т а ь о ь с "
     ]
    }
   ],
   "source": [
    "# выбрать псевдослучайный элемент из последовательности\n",
    "\n",
    "for _ in range(20):\n",
    "    print(npr.choice(list('последовательность')), end=' ')\n",
    "    "
   ]
  },
  {
   "cell_type": "code",
   "execution_count": 205,
   "metadata": {},
   "outputs": [
    {
     "name": "stdout",
     "output_type": "stream",
     "text": [
      "initial list [0, 1, 2, 3, 4, 5, 6, 7, 8, 9, 10, 11, 12, 13, 14, 15, 16, 17, 18, 19]\n",
      "shuffled list [11, 1, 10, 0, 8, 15, 17, 9, 12, 19, 16, 3, 4, 7, 6, 13, 5, 2, 14, 18]\n"
     ]
    }
   ],
   "source": [
    "# перемешать элементы изменяемой последовательности\n",
    "lst = list(range(20))\n",
    "print('initial list', lst)\n",
    "npr.shuffle(lst)\n",
    "print('shuffled list', lst)\n"
   ]
  },
  {
   "cell_type": "markdown",
   "metadata": {
    "slideshow": {
     "slide_type": "slide"
    }
   },
   "source": [
    "### Поэлементные операции над массивами"
   ]
  },
  {
   "cell_type": "code",
   "execution_count": 177,
   "metadata": {
    "scrolled": true,
    "slideshow": {
     "slide_type": "slide"
    }
   },
   "outputs": [
    {
     "name": "stdout",
     "output_type": "stream",
     "text": [
      "            сложение: [10 12 14 16 18]\n",
      "           умножение: [ 0 11 24 39 56]\n",
      " умножение на скаляр: [ 0  5 10 15 20]\n",
      "возведение в степень: [ 0  1  4  9 16]\n",
      "           сравнение: [ True  True  True  True  True]\n"
     ]
    }
   ],
   "source": [
    "arr1 = np.arange(5)\n",
    "arr2 = np.arange(10, 15)\n",
    "\n",
    "print('            сложение:', arr1+arr2)\n",
    "print('           умножение:', arr1*arr2)\n",
    "print(' умножение на скаляр:', arr1*5)\n",
    "print('возведение в степень:', arr1**2)\n",
    "print('           сравнение:', arr1<arr2)\n"
   ]
  },
  {
   "cell_type": "markdown",
   "metadata": {
    "slideshow": {
     "slide_type": "slide"
    }
   },
   "source": [
    "### Простая обработка массивов"
   ]
  },
  {
   "cell_type": "code",
   "execution_count": 174,
   "metadata": {},
   "outputs": [
    {
     "name": "stdout",
     "output_type": "stream",
     "text": [
      " arr: [0.336 0.247 0.179 0.651 0.54  0.234 0.831 0.059 0.631 0.109]\n",
      " min: 0.05875157391438379\n",
      " max: 0.8310728425249804\n",
      "mean: 0.3817407098273086\n",
      " std: 0.2496099059500095\n"
     ]
    }
   ],
   "source": [
    "# поиск минимума, максимума, среднего, стандартного отклонения\n",
    "arr = npr.rand(10)\n",
    "\n",
    "print(' arr:', arr)\n",
    "print(' min:', np.min(arr))\n",
    "print(' max:', np.max(arr))\n",
    "print('mean:', np.mean(arr))\n",
    "print(' std:', np.std(arr))\n"
   ]
  },
  {
   "cell_type": "code",
   "execution_count": 175,
   "metadata": {
    "slideshow": {
     "slide_type": "slide"
    }
   },
   "outputs": [
    {
     "name": "stdout",
     "output_type": "stream",
     "text": [
      " arr:\n",
      " [[0.465 0.737 0.885 0.573 0.012]\n",
      " [0.478 0.124 0.346 0.393 0.839]\n",
      " [0.63  0.845 0.199 0.365 0.006]\n",
      " [0.419 0.683 0.65  0.88  0.713]\n",
      " [0.994 0.877 0.496 0.905 0.901]]\n",
      " min: [0.419 0.124 0.199 0.365 0.006]\n",
      " max: [0.994 0.877 0.885 0.905 0.901]\n",
      "mean: [0.597 0.653 0.515 0.623 0.494]\n",
      " std: [0.211 0.274 0.238 0.231 0.401]\n"
     ]
    }
   ],
   "source": [
    "# поиск минимума, максимума, среднего, стандартного отклонения вдоль заданного измерения\n",
    "\n",
    "arr = npr.rand(5, 5)\n",
    "\n",
    "print(' arr:\\n', arr)\n",
    "print(' min:', np.min(arr, axis=0))\n",
    "print(' max:', np.max(arr, axis=0))\n",
    "print('mean:', np.mean(arr, axis=0))\n",
    "print(' std:', np.std(arr, axis=0))\n"
   ]
  },
  {
   "cell_type": "code",
   "execution_count": 187,
   "metadata": {
    "slideshow": {
     "slide_type": "slide"
    }
   },
   "outputs": [
    {
     "name": "stdout",
     "output_type": "stream",
     "text": [
      "arr:\n",
      " [[0.    0.    0.    0.    0.517]\n",
      " [0.689 0.718 0.    0.    0.846]\n",
      " [0.609 0.928 0.    0.815 0.572]\n",
      " [0.    0.    0.717 0.646 0.   ]\n",
      " [0.972 0.982 0.    0.547 0.514]]\n",
      "argmin: 0\n",
      "argmax: 21\n",
      "argwhere:\n",
      " [[0 4]\n",
      " [1 0]\n",
      " [1 1]\n",
      " [1 4]\n",
      " [2 0]\n",
      " [2 1]\n",
      " [2 3]\n",
      " [2 4]\n",
      " [3 2]\n",
      " [3 3]\n",
      " [4 0]\n",
      " [4 1]\n",
      " [4 3]\n",
      " [4 4]]\n"
     ]
    }
   ],
   "source": [
    "# поиск индексов минимального, максимального, ненулевого элементов или по условию\n",
    "arr = npr.rand(5, 5)\n",
    "arr[arr<0.5] = 0\n",
    "\n",
    "print('arr:\\n', arr)\n",
    "print('argmin:', np.argmin(arr))\n",
    "print('argmax:', np.argmax(arr))\n",
    "print('argwhere:\\n', np.argwhere(arr))\n"
   ]
  },
  {
   "cell_type": "markdown",
   "metadata": {
    "slideshow": {
     "slide_type": "slide"
    }
   },
   "source": [
    "### Специальная индексация и маскирование (fancy indexing and masking)"
   ]
  },
  {
   "cell_type": "code",
   "execution_count": 176,
   "metadata": {},
   "outputs": [
    {
     "name": "stdout",
     "output_type": "stream",
     "text": [
      "[9 8 7 6 5 4 3 2 1 0]\n"
     ]
    },
    {
     "data": {
      "text/plain": [
       "array([8, 4, 2])"
      ]
     },
     "execution_count": 176,
     "metadata": {},
     "output_type": "execute_result"
    }
   ],
   "source": [
    "arr = np.arange(10)[::-1]\n",
    "print(arr)\n",
    "\n",
    "arr[[1,5,7]] # получить представление части массива, заданной индексами 1,5,7\n"
   ]
  },
  {
   "cell_type": "code",
   "execution_count": 129,
   "metadata": {
    "slideshow": {
     "slide_type": "slide"
    }
   },
   "outputs": [
    {
     "name": "stdout",
     "output_type": "stream",
     "text": [
      "[[ 0  1  2  3]\n",
      " [ 4  5  6  7]\n",
      " [ 8  9 10 11]\n",
      " [12 13 14 15]]\n"
     ]
    },
    {
     "data": {
      "text/plain": [
       "array([ 5, 10, 15])"
      ]
     },
     "execution_count": 129,
     "metadata": {},
     "output_type": "execute_result"
    }
   ],
   "source": [
    "arr = np.arange(16).reshape(4,4)\n",
    "print(arr)\n",
    "\n",
    "idx = [1,2,3]\n",
    "arr[idx, idx] # получить диагональные элементы с индексами (1,1),(2,2),(3,3)\n"
   ]
  },
  {
   "cell_type": "code",
   "execution_count": 133,
   "metadata": {
    "slideshow": {
     "slide_type": "slide"
    }
   },
   "outputs": [
    {
     "name": "stdout",
     "output_type": "stream",
     "text": [
      "[[ 0  1  2  3]\n",
      " [ 4  5  6  7]\n",
      " [ 8  9 10 11]\n",
      " [12 13 14 15]]\n"
     ]
    },
    {
     "data": {
      "text/plain": [
       "array([[ 5,  6,  7],\n",
       "       [ 9, 10, 11],\n",
       "       [13, 14, 15]])"
      ]
     },
     "execution_count": 133,
     "metadata": {},
     "output_type": "execute_result"
    }
   ],
   "source": [
    "arr = np.arange(16).reshape(4,4)\n",
    "print(arr)\n",
    "\n",
    "idx = np.array([[1,2,3]])\n",
    "arr[idx.T, idx] # получить подматрицу на пересечении столбцов и строк с индексами 1,2,3\n"
   ]
  },
  {
   "cell_type": "code",
   "execution_count": 141,
   "metadata": {
    "slideshow": {
     "slide_type": "slide"
    }
   },
   "outputs": [
    {
     "name": "stdout",
     "output_type": "stream",
     "text": [
      "(array([[1],\n",
      "       [2],\n",
      "       [3]]), array([[1, 2, 3]]))\n"
     ]
    },
    {
     "data": {
      "text/plain": [
       "array([[ 5,  6,  7],\n",
       "       [ 9, 10, 11],\n",
       "       [13, 14, 15]])"
      ]
     },
     "execution_count": 141,
     "metadata": {},
     "output_type": "execute_result"
    }
   ],
   "source": [
    "idx = [1,2,3]\n",
    "\n",
    "print(np.ix_(idx, idx)) # создает \"открытую решетку\" из индексов\n",
    "arr[np.ix_(idx, idx)]\n"
   ]
  },
  {
   "cell_type": "code",
   "execution_count": 147,
   "metadata": {
    "slideshow": {
     "slide_type": "slide"
    }
   },
   "outputs": [
    {
     "name": "stdout",
     "output_type": "stream",
     "text": [
      "   arr: [5.111e-04 2.007e-01 1.649e-01 9.368e-01 6.698e-01 3.449e-01 2.384e-01\n",
      " 2.686e-01 7.152e-01 8.857e-01]\n",
      "  mask: [ True  True  True False False  True  True  True False False]\n",
      "result: [0.001 0.201 0.165 0.345 0.238 0.269]\n"
     ]
    }
   ],
   "source": [
    "arr = npr.rand(10)\n",
    "\n",
    "mask = arr < 0.5 # создание маски\n",
    "\n",
    "print('   arr:', arr)\n",
    "print('  mask:', mask)\n",
    "print('result:', arr[mask])"
   ]
  },
  {
   "cell_type": "code",
   "execution_count": 150,
   "metadata": {
    "slideshow": {
     "slide_type": "slide"
    }
   },
   "outputs": [
    {
     "name": "stdout",
     "output_type": "stream",
     "text": [
      "arr:\n",
      " [[0.5   0.363 0.466 0.399 0.269]\n",
      " [0.841 0.816 0.176 0.209 0.046]\n",
      " [0.44  0.802 0.193 0.439 0.601]\n",
      " [0.02  0.277 0.823 0.118 0.302]\n",
      " [0.493 0.49  0.196 0.602 0.842]]\n",
      "mask:\n",
      " [[ True  True  True  True  True]\n",
      " [False False  True  True  True]\n",
      " [ True False  True  True False]\n",
      " [ True  True False  True  True]\n",
      " [ True  True  True False False]]\n",
      "result:\n",
      " [0.5   0.363 0.466 0.399 0.269 0.176 0.209 0.046 0.44  0.193 0.439 0.02\n",
      " 0.277 0.118 0.302 0.493 0.49  0.196]\n"
     ]
    }
   ],
   "source": [
    "arr = npr.rand(5, 5)\n",
    "\n",
    "mask = arr < 0.5 # создание маски\n",
    "\n",
    "print('arr:\\n', arr)\n",
    "print('mask:\\n', mask)\n",
    "print('result:\\n', arr[mask])"
   ]
  },
  {
   "cell_type": "markdown",
   "metadata": {
    "slideshow": {
     "slide_type": "slide"
    }
   },
   "source": [
    "### Склеивание, поворот, отражение и др."
   ]
  },
  {
   "cell_type": "code",
   "execution_count": 220,
   "metadata": {},
   "outputs": [
    {
     "name": "stdout",
     "output_type": "stream",
     "text": [
      "   arr: [0 1 2 3 4]\n"
     ]
    },
    {
     "data": {
      "text/plain": [
       "array([0, 1, 2, 3, 4, 0, 1, 2, 3, 4])"
      ]
     },
     "execution_count": 220,
     "metadata": {},
     "output_type": "execute_result"
    }
   ],
   "source": [
    "# склеить массивы горизонтально\n",
    "arr = np.arange(5)\n",
    "\n",
    "print('   arr:', arr)\n",
    "\n",
    "np.hstack((arr, arr))\n"
   ]
  },
  {
   "cell_type": "code",
   "execution_count": 221,
   "metadata": {
    "slideshow": {
     "slide_type": "slide"
    }
   },
   "outputs": [
    {
     "name": "stdout",
     "output_type": "stream",
     "text": [
      "   arr:\n",
      " [[0]\n",
      " [1]\n",
      " [2]\n",
      " [3]\n",
      " [4]]\n"
     ]
    },
    {
     "data": {
      "text/plain": [
       "array([[0, 0],\n",
       "       [1, 1],\n",
       "       [2, 2],\n",
       "       [3, 3],\n",
       "       [4, 4]])"
      ]
     },
     "execution_count": 221,
     "metadata": {},
     "output_type": "execute_result"
    }
   ],
   "source": [
    "# склеить массивы горизонтально\n",
    "arr = np.arange(5).reshape(-1,1)\n",
    "\n",
    "print('   arr:\\n', arr)\n",
    "\n",
    "np.hstack((arr, arr))\n"
   ]
  },
  {
   "cell_type": "code",
   "execution_count": 222,
   "metadata": {
    "slideshow": {
     "slide_type": "slide"
    }
   },
   "outputs": [
    {
     "name": "stdout",
     "output_type": "stream",
     "text": [
      "   arr: [0 1 2 3 4]\n"
     ]
    },
    {
     "data": {
      "text/plain": [
       "array([[0, 1, 2, 3, 4],\n",
       "       [0, 1, 2, 3, 4]])"
      ]
     },
     "execution_count": 222,
     "metadata": {},
     "output_type": "execute_result"
    }
   ],
   "source": [
    "# склеить массивы вертикально\n",
    "arr = np.arange(5)\n",
    "\n",
    "print('   arr:', arr)\n",
    "\n",
    "np.vstack((arr, arr))\n"
   ]
  },
  {
   "cell_type": "code",
   "execution_count": 223,
   "metadata": {
    "slideshow": {
     "slide_type": "slide"
    }
   },
   "outputs": [
    {
     "name": "stdout",
     "output_type": "stream",
     "text": [
      "   arr:\n",
      " [[0]\n",
      " [1]\n",
      " [2]\n",
      " [3]\n",
      " [4]]\n"
     ]
    },
    {
     "data": {
      "text/plain": [
       "array([[0],\n",
       "       [1],\n",
       "       [2],\n",
       "       [3],\n",
       "       [4],\n",
       "       [0],\n",
       "       [1],\n",
       "       [2],\n",
       "       [3],\n",
       "       [4]])"
      ]
     },
     "execution_count": 223,
     "metadata": {},
     "output_type": "execute_result"
    }
   ],
   "source": [
    "# склеить массивы вертикально\n",
    "arr = np.arange(5).reshape(-1,1)\n",
    "\n",
    "print('   arr:\\n', arr)\n",
    "np.vstack((arr, arr))\n"
   ]
  },
  {
   "cell_type": "code",
   "execution_count": 227,
   "metadata": {
    "slideshow": {
     "slide_type": "slide"
    }
   },
   "outputs": [
    {
     "name": "stdout",
     "output_type": "stream",
     "text": [
      "(3, 3, 2)\n"
     ]
    },
    {
     "data": {
      "text/plain": [
       "array([[[0, 0],\n",
       "        [1, 1],\n",
       "        [2, 2]],\n",
       "\n",
       "       [[3, 3],\n",
       "        [4, 4],\n",
       "        [5, 5]],\n",
       "\n",
       "       [[6, 6],\n",
       "        [7, 7],\n",
       "        [8, 8]]])"
      ]
     },
     "execution_count": 227,
     "metadata": {},
     "output_type": "execute_result"
    }
   ],
   "source": [
    "# сложить две матрицы в трехмерный массив\n",
    "arr = np.arange(9).reshape(3,3)\n",
    "\n",
    "stack = np.stack((arr, arr), axis=2)\n",
    "print(stack.shape)\n",
    "stack\n"
   ]
  },
  {
   "cell_type": "code",
   "execution_count": 231,
   "metadata": {
    "slideshow": {
     "slide_type": "slide"
    }
   },
   "outputs": [
    {
     "name": "stdout",
     "output_type": "stream",
     "text": [
      "arr: [[0 1 2]\n",
      " [3 4 5]\n",
      " [6 7 8]]\n"
     ]
    },
    {
     "data": {
      "text/plain": [
       "array([[2, 0, 1],\n",
       "       [5, 3, 4],\n",
       "       [8, 6, 7]])"
      ]
     },
     "execution_count": 231,
     "metadata": {},
     "output_type": "execute_result"
    }
   ],
   "source": [
    "# циклический сдвиг вдоль оси\n",
    "arr = np.arange(9).reshape(3,3)\n",
    "print('arr:', arr)\n",
    "\n",
    "np.roll(arr, 1, axis=1)\n"
   ]
  },
  {
   "cell_type": "code",
   "execution_count": 232,
   "metadata": {
    "slideshow": {
     "slide_type": "slide"
    }
   },
   "outputs": [
    {
     "data": {
      "text/plain": [
       "array([[6, 7, 8],\n",
       "       [3, 4, 5],\n",
       "       [0, 1, 2]])"
      ]
     },
     "execution_count": 232,
     "metadata": {},
     "output_type": "execute_result"
    }
   ],
   "source": [
    "# отражение верх-низ\n",
    "np.flipud(arr)\n"
   ]
  },
  {
   "cell_type": "code",
   "execution_count": 233,
   "metadata": {},
   "outputs": [
    {
     "data": {
      "text/plain": [
       "array([[2, 1, 0],\n",
       "       [5, 4, 3],\n",
       "       [8, 7, 6]])"
      ]
     },
     "execution_count": 233,
     "metadata": {},
     "output_type": "execute_result"
    }
   ],
   "source": [
    "# отражение лево-право\n",
    "np.fliplr(arr)\n"
   ]
  },
  {
   "cell_type": "code",
   "execution_count": 243,
   "metadata": {},
   "outputs": [
    {
     "data": {
      "text/plain": [
       "array([[ 0.,  1.,  2.,  3.,  4.],\n",
       "       [15.,  0.,  0.,  0.,  5.],\n",
       "       [14.,  0.,  0.,  0.,  6.],\n",
       "       [13.,  0.,  0.,  0.,  7.],\n",
       "       [12., 11., 10.,  9.,  8.]])"
      ]
     },
     "execution_count": 243,
     "metadata": {},
     "output_type": "execute_result"
    }
   ],
   "source": [
    "# поворот массива на 90, 180, 270 градусов по/против часовой стрелки\n",
    "arr = np.zeros((5,5))\n",
    "\n",
    "for i in range(4):\n",
    "    arr[0, :-1] = range(i*4, (i+1)*4)\n",
    "    arr = np.rot90(arr, 1)\n",
    "arr"
   ]
  },
  {
   "cell_type": "markdown",
   "metadata": {
    "slideshow": {
     "slide_type": "slide"
    }
   },
   "source": [
    "### Линейная алгебра"
   ]
  },
  {
   "cell_type": "code",
   "execution_count": 185,
   "metadata": {},
   "outputs": [
    {
     "data": {
      "text/plain": [
       "5.0"
      ]
     },
     "execution_count": 185,
     "metadata": {},
     "output_type": "execute_result"
    }
   ],
   "source": [
    "# норма вектора\n",
    "np.linalg.norm([3,4])"
   ]
  },
  {
   "cell_type": "code",
   "execution_count": 188,
   "metadata": {},
   "outputs": [
    {
     "data": {
      "text/plain": [
       "(array([0.866+0.5j, 0.866-0.5j]), array([[0.707+0.j   , 0.707-0.j   ],\n",
       "        [0.   +0.707j, 0.   -0.707j]]))"
      ]
     },
     "execution_count": 188,
     "metadata": {},
     "output_type": "execute_result"
    }
   ],
   "source": [
    "alpha = np.radians(30)\n",
    "s, c = np.sin(alpha), np.cos(alpha)\n",
    "arr = np.array([[c, s], [-s, c]])\n",
    "\n",
    "np.linalg.eig(arr) # собственные числа и собственные векторы"
   ]
  },
  {
   "cell_type": "code",
   "execution_count": 194,
   "metadata": {},
   "outputs": [
    {
     "name": "stdout",
     "output_type": "stream",
     "text": [
      "solve: K*U=F\n",
      "K\n",
      " [[1. 0. 0.]\n",
      " [0. 1. 0.]\n",
      " [0. 2. 1.]]\n",
      "F [0 1 3]\n",
      "U [0. 1. 1.]\n"
     ]
    }
   ],
   "source": [
    "# решить систему линейных уравнений\n",
    "\n",
    "K = np.eye(3)\n",
    "K[2,1]=2.\n",
    "F = np.array([0, 1, 3])\n",
    "\n",
    "print('solve: K*U=F')\n",
    "print('K\\n', K)\n",
    "print('F', F)\n",
    "print('U', np.linalg.solve(K, F))"
   ]
  },
  {
   "cell_type": "code",
   "execution_count": 179,
   "metadata": {},
   "outputs": [
    {
     "name": "stdout",
     "output_type": "stream",
     "text": [
      "130\n",
      "130\n",
      "130\n"
     ]
    }
   ],
   "source": [
    "arr1 = np.arange(5)\n",
    "arr2 = np.arange(10, 15)\n",
    "\n",
    "# скалярное произведение\n",
    "print(arr1.dot(arr2))\n",
    "print(arr1@arr2)\n",
    "print(np.dot(arr1, arr2))"
   ]
  },
  {
   "cell_type": "code",
   "execution_count": 181,
   "metadata": {
    "slideshow": {
     "slide_type": "slide"
    }
   },
   "outputs": [
    {
     "name": "stdout",
     "output_type": "stream",
     "text": [
      "[[ 0.  2.  4.  6.]\n",
      " [ 8. 10. 12. 14.]\n",
      " [16. 18. 20. 22.]\n",
      " [24. 26. 28. 30.]]\n",
      "[[ 0.  2.  4.  6.]\n",
      " [ 8. 10. 12. 14.]\n",
      " [16. 18. 20. 22.]\n",
      " [24. 26. 28. 30.]]\n",
      "[[ 0.  2.  4.  6.]\n",
      " [ 8. 10. 12. 14.]\n",
      " [16. 18. 20. 22.]\n",
      " [24. 26. 28. 30.]]\n"
     ]
    }
   ],
   "source": [
    "arr1 = np.arange(16).reshape(4,4)\n",
    "arr2 = np.eye(4)*2\n",
    "\n",
    "# матричное умножение\n",
    "print(arr1.dot(arr2))\n",
    "print(arr1@arr2)\n",
    "print(np.dot(arr1, arr2))"
   ]
  },
  {
   "cell_type": "markdown",
   "metadata": {
    "slideshow": {
     "slide_type": "slide"
    }
   },
   "source": [
    "## Вопросы и дополнения к лекции"
   ]
  },
  {
   "cell_type": "markdown",
   "metadata": {},
   "source": [
    "\n",
    "[Scientific Python Lectures](https://github.com/jrjohansson/scientific-python-lectures)\n",
    "\n",
    "[100 Numpy Exercises](https://github.com/rougier/numpy-100/blob/master/100_Numpy_exercises_no_solution.ipynb)"
   ]
  },
  {
   "cell_type": "code",
   "execution_count": null,
   "metadata": {},
   "outputs": [],
   "source": []
  }
 ],
 "metadata": {
  "celltoolbar": "Slideshow",
  "kernelspec": {
   "display_name": "Python 3",
   "language": "python",
   "name": "python3"
  },
  "language_info": {
   "codemirror_mode": {
    "name": "ipython",
    "version": 3
   },
   "file_extension": ".py",
   "mimetype": "text/x-python",
   "name": "python",
   "nbconvert_exporter": "python",
   "pygments_lexer": "ipython3",
   "version": "3.6.6"
  }
 },
 "nbformat": 4,
 "nbformat_minor": 2
}
