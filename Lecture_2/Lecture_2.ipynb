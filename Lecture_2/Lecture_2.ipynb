{
 "cells": [
  {
   "cell_type": "markdown",
   "metadata": {
    "slideshow": {
     "slide_type": "slide"
    }
   },
   "source": [
    "<!-- <div style='float:right'><img width=200 src=\"hse-logo.jpg\" alt=\"HSE logo\"></img></div> -->\n",
    "<div style='float:left'><img width=400 src=\"python_logo.png\" alt=\"Python\"></img></div>\n",
    "\n",
    "<div style='float:right'>\n",
    "\n",
    "<h1 align='center'>Язык программирования Python</h1>\n",
    "\n",
    "<h2 align='right'>Бобер Станислав Алексеевич</h2>\n",
    "<h3 align='right'>Ст. преп. Департамента Прикладной Математики</h3>\n",
    "<h3 align='right'>e-mail: sbober@hse.ru, stas.bober@gmail.com</h3>\n",
    "</div>\n"
   ]
  },
  {
   "cell_type": "markdown",
   "metadata": {
    "slideshow": {
     "slide_type": "-"
    }
   },
   "source": [
    "<h1 align='center'>Лекция 2. Модуль NumPy</h1>"
   ]
  },
  {
   "cell_type": "markdown",
   "metadata": {
    "slideshow": {
     "slide_type": "slide"
    }
   },
   "source": [
    "## Основной объект - многомерный массив (ndarray)"
   ]
  },
  {
   "cell_type": "markdown",
   "metadata": {
    "slideshow": {
     "slide_type": "slide"
    }
   },
   "source": [
    "### Одномерный массив"
   ]
  },
  {
   "cell_type": "code",
   "execution_count": 1,
   "metadata": {
    "slideshow": {
     "slide_type": "-"
    }
   },
   "outputs": [],
   "source": [
    "# подключение модуля и сокращение названия для удобства\n",
    "import numpy as np\n",
    "\n",
    "np.set_printoptions(precision=3) # настройка вывода элементов массива не более 3 цифр после запятой\n"
   ]
  },
  {
   "cell_type": "code",
   "execution_count": 2,
   "metadata": {},
   "outputs": [
    {
     "name": "stdout",
     "output_type": "stream",
     "text": [
      "             тип объекта: <class 'numpy.ndarray'>\n",
      "    тип элемента массива: int32\n",
      "           форма массива: (9,)\n",
      "      содержимое массива: [1 3 6 4 7 2 9 5 8]\n"
     ]
    },
    {
     "data": {
      "text/plain": [
       "array([1, 3, 6, 4, 7, 2, 9, 5, 8])"
      ]
     },
     "execution_count": 2,
     "metadata": {},
     "output_type": "execute_result"
    }
   ],
   "source": [
    "# создание одномерного массива на основе списка\n",
    "arr = np.array([1, 3, 6, 4, 7, 2, 9, 5, 8])\n",
    "\n",
    "print('%25s'%'тип объекта:', type(arr))\n",
    "print('%25s'%'тип элемента массива:', arr.dtype)\n",
    "print('%25s'%'форма массива:', arr.shape)\n",
    "print('%25s'%'содержимое массива:', arr)\n",
    "arr\n"
   ]
  },
  {
   "cell_type": "code",
   "execution_count": 3,
   "metadata": {
    "slideshow": {
     "slide_type": "slide"
    }
   },
   "outputs": [
    {
     "name": "stdout",
     "output_type": "stream",
     "text": [
      "    <class 'numpy.int32'> <class 'numpy.ndarray'> [1 3 0 4 7 0 9 5 8]\n",
      "  <class 'numpy.float64'> <class 'numpy.ndarray'> [1. 3. 0. 4. 7. 0. 9. 5. 8.]\n",
      "           <class 'bool'> <class 'numpy.ndarray'> [ True  True False  True  True False  True  True  True]\n"
     ]
    }
   ],
   "source": [
    "# создание одномерного массива с заданием типа элемента\n",
    "\n",
    "for dt in [np.int32, np.float64, np.bool]:\n",
    "    arr = np.array([1, 3, 0, 4, 7, 0, 9, 5, 8], dtype=dt)\n",
    "    print('%25s %s %s'%(dt, type(arr), arr))\n"
   ]
  },
  {
   "cell_type": "code",
   "execution_count": 4,
   "metadata": {
    "slideshow": {
     "slide_type": "slide"
    }
   },
   "outputs": [
    {
     "data": {
      "text/plain": [
       "array([0. , 0.5, 1. , 1.5, 2. , 2.5, 3. , 3.5, 4. , 4.5])"
      ]
     },
     "execution_count": 4,
     "metadata": {},
     "output_type": "execute_result"
    }
   ],
   "source": [
    "# аналог range - создание последовательности с заданным шагом\n",
    "\n",
    "arr = np.arange(0, 5, 0.5)\n",
    "arr\n"
   ]
  },
  {
   "cell_type": "code",
   "execution_count": 5,
   "metadata": {
    "slideshow": {
     "slide_type": "-"
    }
   },
   "outputs": [
    {
     "name": "stdout",
     "output_type": "stream",
     "text": [
      "         обычный linspace [ 0.  1.  2.  3.  4.  5.  6.  7.  8.  9. 10.]\n",
      "      с возвращением шага (array([ 0.,  1.,  2.,  3.,  4.,  5.,  6.,  7.,  8.,  9., 10.]), 1.0)\n",
      "   не включая правый край [0.    0.909 1.818 2.727 3.636 4.545 5.455 6.364 7.273 8.182 9.091]\n"
     ]
    }
   ],
   "source": [
    "# linspace - равномерное размещение заданного количества точек в отрезке\n",
    "\n",
    "print('%25s'%'обычный linspace',       np.linspace(0, 10, 11))\n",
    "print('%25s'%'с возвращением шага',    np.linspace(0, 10, 11, retstep=True))\n",
    "print('%25s'%'не включая правый край', np.linspace(0, 10, 11, endpoint=False))\n"
   ]
  },
  {
   "cell_type": "code",
   "execution_count": 6,
   "metadata": {
    "slideshow": {
     "slide_type": "slide"
    }
   },
   "outputs": [
    {
     "data": {
      "text/plain": [
       "(array([0., 1., 2., 3., 4.]), array([3.5, 4. , 4.5]))"
      ]
     },
     "execution_count": 6,
     "metadata": {},
     "output_type": "execute_result"
    }
   ],
   "source": [
    "# срезы (slice) - это новые представления (view) массива\n",
    "\n",
    "arr = np.arange(0, 5, 0.5)\n",
    "arr[::2], arr[-3:]\n"
   ]
  },
  {
   "cell_type": "code",
   "execution_count": 7,
   "metadata": {},
   "outputs": [
    {
     "name": "stdout",
     "output_type": "stream",
     "text": [
      "[0.  0.5 1.  1.5 2.  2.5 3.  3.5 4.  4.5]\n",
      "[0.  0.5 0.  1.5 0.  2.5 0.  3.5 0.  4.5]\n"
     ]
    }
   ],
   "source": [
    "# изменение части массива при помощи среза\n",
    "# задействован broadcasting - о нем далее\n",
    "\n",
    "print(arr)\n",
    "arr[::2] = 0\n",
    "print(arr)\n"
   ]
  },
  {
   "cell_type": "markdown",
   "metadata": {
    "slideshow": {
     "slide_type": "slide"
    }
   },
   "source": [
    "### Многомерный массив"
   ]
  },
  {
   "cell_type": "code",
   "execution_count": 8,
   "metadata": {},
   "outputs": [
    {
     "name": "stdout",
     "output_type": "stream",
     "text": [
      "shape (3, 3)\n"
     ]
    },
    {
     "data": {
      "text/plain": [
       "array([[1, 3, 6],\n",
       "       [4, 7, 2],\n",
       "       [9, 5, 8]])"
      ]
     },
     "execution_count": 8,
     "metadata": {},
     "output_type": "execute_result"
    }
   ],
   "source": [
    "# создание двумерного массива на основе списка списков\n",
    "arr = np.array([[1, 3, 6], [4, 7, 2], [9, 5, 8]])\n",
    "\n",
    "print('shape', arr.shape)\n",
    "arr\n"
   ]
  },
  {
   "cell_type": "code",
   "execution_count": 9,
   "metadata": {
    "slideshow": {
     "slide_type": "slide"
    }
   },
   "outputs": [
    {
     "name": "stdout",
     "output_type": "stream",
     "text": [
      "shape (3, 3)\n"
     ]
    },
    {
     "data": {
      "text/plain": [
       "array([[0, 1, 2],\n",
       "       [3, 4, 5],\n",
       "       [6, 7, 8]])"
      ]
     },
     "execution_count": 9,
     "metadata": {},
     "output_type": "execute_result"
    }
   ],
   "source": [
    "# создание двумерного массива при помощи метода reshape\n",
    "arr = np.arange(9).reshape(3, 3)\n",
    "\n",
    "print('shape', arr.shape)\n",
    "arr\n"
   ]
  },
  {
   "cell_type": "code",
   "execution_count": 10,
   "metadata": {
    "slideshow": {
     "slide_type": "-"
    }
   },
   "outputs": [
    {
     "name": "stdout",
     "output_type": "stream",
     "text": [
      "[[0 3 6]\n",
      " [1 4 7]\n",
      " [2 5 8]]\n",
      "[[0 3 6]\n",
      " [1 4 7]\n",
      " [2 5 8]]\n"
     ]
    }
   ],
   "source": [
    "# транспонирование массива\n",
    "\n",
    "print(arr.T)\n",
    "print(np.transpose(arr))\n"
   ]
  },
  {
   "cell_type": "code",
   "execution_count": 11,
   "metadata": {
    "slideshow": {
     "slide_type": "slide"
    }
   },
   "outputs": [
    {
     "name": "stdout",
     "output_type": "stream",
     "text": [
      "arr\n",
      " [[0 1 2]\n",
      " [3 4 5]\n",
      " [6 7 8]]\n",
      "строка 2 [6 7 8]\n",
      "столбец 1\n",
      " [1 4 7]\n",
      "каждая вторая строка, столбцы 1,2\n",
      " [[1 2]\n",
      " [7 8]]\n"
     ]
    }
   ],
   "source": [
    "# срезы многомерного массива\n",
    "\n",
    "print('arr\\n', arr)\n",
    "print('строка 2', arr[2, :])\n",
    "print('столбец 1\\n', arr[:, 1])\n",
    "print('каждая вторая строка, столбцы 1,2\\n', arr[::2, 1:3])\n"
   ]
  },
  {
   "cell_type": "markdown",
   "metadata": {
    "slideshow": {
     "slide_type": "slide"
    }
   },
   "source": [
    "### Broadcasting\n",
    "\n",
    "<img src=\"numpy_broadcasting.png\"></img>"
   ]
  },
  {
   "cell_type": "code",
   "execution_count": 12,
   "metadata": {
    "slideshow": {
     "slide_type": "slide"
    }
   },
   "outputs": [
    {
     "name": "stdout",
     "output_type": "stream",
     "text": [
      "arr1:\n",
      " [[ 0]\n",
      " [10]\n",
      " [20]\n",
      " [30]\n",
      " [40]]\n",
      "arr2: [0 1 2 3 4]\n"
     ]
    },
    {
     "data": {
      "text/plain": [
       "array([[ 0,  1,  2,  3,  4],\n",
       "       [10, 11, 12, 13, 14],\n",
       "       [20, 21, 22, 23, 24],\n",
       "       [30, 31, 32, 33, 34],\n",
       "       [40, 41, 42, 43, 44]])"
      ]
     },
     "execution_count": 12,
     "metadata": {},
     "output_type": "execute_result"
    }
   ],
   "source": [
    "# механизм broadcasting\n",
    "# большинство операций над массивами \"приводят\" их к максимальным размерам, если количество измерений совпадает\n",
    "\n",
    "arr1 = np.array([0,1,2,3,4]).reshape(-1,1)*10\n",
    "arr2 = np.array(range(5))\n",
    "\n",
    "print('arr1:\\n', arr1)\n",
    "print('arr2:', arr2)\n",
    "\n",
    "arr = arr1+arr2\n",
    "arr\n"
   ]
  },
  {
   "cell_type": "markdown",
   "metadata": {
    "slideshow": {
     "slide_type": "slide"
    }
   },
   "source": [
    "### Полезные функции для создания массивов"
   ]
  },
  {
   "cell_type": "code",
   "execution_count": 13,
   "metadata": {
    "slideshow": {
     "slide_type": "slide"
    }
   },
   "outputs": [
    {
     "data": {
      "text/plain": [
       "array([[6.230e-307, 4.673e-307, 1.691e-306, 7.566e-307, 1.891e-307],\n",
       "       [1.380e-306, 1.057e-307, 8.011e-307, 1.780e-306, 7.566e-307],\n",
       "       [1.024e-306, 1.335e-306, 2.225e-306, 1.424e-306, 8.456e-307],\n",
       "       [6.898e-307, 1.113e-306, 1.113e-306, 1.380e-306, 1.335e-306],\n",
       "       [8.456e-307, 1.068e-306, 1.057e-307, 2.225e-306, 6.691e+164]])"
      ]
     },
     "execution_count": 13,
     "metadata": {},
     "output_type": "execute_result"
    }
   ],
   "source": [
    "# пустой массив - не инициализирует значения элементов\n",
    "np.empty((5,5))\n"
   ]
  },
  {
   "cell_type": "code",
   "execution_count": 14,
   "metadata": {
    "slideshow": {
     "slide_type": "slide"
    }
   },
   "outputs": [
    {
     "data": {
      "text/plain": [
       "array([[0., 0., 0., 0., 0.],\n",
       "       [0., 0., 0., 0., 0.],\n",
       "       [0., 0., 0., 0., 0.],\n",
       "       [0., 0., 0., 0., 0.],\n",
       "       [0., 0., 0., 0., 0.]])"
      ]
     },
     "execution_count": 14,
     "metadata": {},
     "output_type": "execute_result"
    }
   ],
   "source": [
    "# массив из нулей\n",
    "np.zeros((5,5))\n"
   ]
  },
  {
   "cell_type": "code",
   "execution_count": 15,
   "metadata": {
    "slideshow": {
     "slide_type": "slide"
    }
   },
   "outputs": [
    {
     "data": {
      "text/plain": [
       "array([[1., 1., 1., 1., 1.],\n",
       "       [1., 1., 1., 1., 1.],\n",
       "       [1., 1., 1., 1., 1.],\n",
       "       [1., 1., 1., 1., 1.],\n",
       "       [1., 1., 1., 1., 1.]])"
      ]
     },
     "execution_count": 15,
     "metadata": {},
     "output_type": "execute_result"
    }
   ],
   "source": [
    "# массив из единиц\n",
    "np.ones((5,5))\n"
   ]
  },
  {
   "cell_type": "code",
   "execution_count": 16,
   "metadata": {
    "slideshow": {
     "slide_type": "slide"
    }
   },
   "outputs": [
    {
     "data": {
      "text/plain": [
       "array([[1., 0., 0., 0., 0.],\n",
       "       [0., 1., 0., 0., 0.],\n",
       "       [0., 0., 1., 0., 0.],\n",
       "       [0., 0., 0., 1., 0.],\n",
       "       [0., 0., 0., 0., 1.]])"
      ]
     },
     "execution_count": 16,
     "metadata": {},
     "output_type": "execute_result"
    }
   ],
   "source": [
    "# единичная матрица\n",
    "np.eye(5)\n"
   ]
  },
  {
   "cell_type": "code",
   "execution_count": 17,
   "metadata": {
    "slideshow": {
     "slide_type": "-"
    }
   },
   "outputs": [
    {
     "data": {
      "text/plain": [
       "array([[0., 0., 0., 0., 0.],\n",
       "       [1., 0., 0., 0., 0.],\n",
       "       [0., 1., 0., 0., 0.],\n",
       "       [0., 0., 1., 0., 0.],\n",
       "       [0., 0., 0., 1., 0.]])"
      ]
     },
     "execution_count": 17,
     "metadata": {},
     "output_type": "execute_result"
    }
   ],
   "source": [
    "# единичную диагональ задает параметр k\n",
    "np.eye(5, k=-1)\n"
   ]
  },
  {
   "cell_type": "code",
   "execution_count": 18,
   "metadata": {
    "slideshow": {
     "slide_type": "slide"
    }
   },
   "outputs": [
    {
     "data": {
      "text/plain": [
       "array([[0, 1, 0, 0],\n",
       "       [0, 0, 2, 0],\n",
       "       [0, 0, 0, 3],\n",
       "       [0, 0, 0, 0]])"
      ]
     },
     "execution_count": 18,
     "metadata": {},
     "output_type": "execute_result"
    }
   ],
   "source": [
    "# создать матрицу с заданной диагональю\n",
    "np.diag([1,2,3], k=1)\n"
   ]
  },
  {
   "cell_type": "code",
   "execution_count": 19,
   "metadata": {},
   "outputs": [
    {
     "name": "stdout",
     "output_type": "stream",
     "text": [
      "[[ 0  1  2  3  4]\n",
      " [10 11 12 13 14]\n",
      " [20 21 22 23 24]\n",
      " [30 31 32 33 34]\n",
      " [40 41 42 43 44]]\n"
     ]
    },
    {
     "data": {
      "text/plain": [
       "array([10, 21, 32, 43])"
      ]
     },
     "execution_count": 19,
     "metadata": {},
     "output_type": "execute_result"
    }
   ],
   "source": [
    "# достать заданную диагональ из матрицы\n",
    "print(arr)\n",
    "np.diag(arr, k=-1)\n"
   ]
  },
  {
   "cell_type": "markdown",
   "metadata": {
    "slideshow": {
     "slide_type": "slide"
    }
   },
   "source": [
    "### Генерация псевдослучайных последовательностей"
   ]
  },
  {
   "cell_type": "code",
   "execution_count": 20,
   "metadata": {
    "slideshow": {
     "slide_type": "slide"
    }
   },
   "outputs": [
    {
     "data": {
      "text/plain": [
       "array([[0.192, 0.622, 0.438, 0.785, 0.78 ],\n",
       "       [0.273, 0.276, 0.802, 0.958, 0.876],\n",
       "       [0.358, 0.501, 0.683, 0.713, 0.37 ],\n",
       "       [0.561, 0.503, 0.014, 0.773, 0.883],\n",
       "       [0.365, 0.615, 0.075, 0.369, 0.933]])"
      ]
     },
     "execution_count": 20,
     "metadata": {},
     "output_type": "execute_result"
    }
   ],
   "source": [
    "import numpy.random as npr\n",
    "npr.seed(1234)\n",
    "\n",
    "# равномерно распределенные случайные числа в полуинтервале [0, 1)\n",
    "npr.rand(5, 5)\n"
   ]
  },
  {
   "cell_type": "code",
   "execution_count": 21,
   "metadata": {
    "slideshow": {
     "slide_type": "-"
    }
   },
   "outputs": [
    {
     "data": {
      "text/plain": [
       "array([[ 7.747, 13.318,  8.679, 12.082, 12.106],\n",
       "       [10.389, 12.717,  9.426, 10.883,  8.46 ],\n",
       "       [ 8.051, 11.418,  9.788, 11.554, 11.828],\n",
       "       [13.378,  8.817, 10.086,  6.208, 11.368],\n",
       "       [ 7.987, 10.015, 12.462, 14.001,  8.656]])"
      ]
     },
     "execution_count": 21,
     "metadata": {},
     "output_type": "execute_result"
    }
   ],
   "source": [
    "# нормально распределенные случайные числа с заданным средним и стандартным отклонением\n",
    "npr.normal(10, 2, size=(5,5))\n"
   ]
  },
  {
   "cell_type": "code",
   "execution_count": 22,
   "metadata": {
    "slideshow": {
     "slide_type": "slide"
    }
   },
   "outputs": [
    {
     "name": "stdout",
     "output_type": "stream",
     "text": [
      "т п с о ь в е в ь п т т о о л ь т н п е "
     ]
    }
   ],
   "source": [
    "# выбрать псевдослучайный элемент из последовательности\n",
    "\n",
    "for _ in range(20):\n",
    "    print(npr.choice(list('последовательность')), end=' ')\n",
    "    "
   ]
  },
  {
   "cell_type": "code",
   "execution_count": 23,
   "metadata": {},
   "outputs": [
    {
     "name": "stdout",
     "output_type": "stream",
     "text": [
      "initial list [0, 1, 2, 3, 4, 5, 6, 7, 8, 9, 10, 11, 12, 13, 14, 15, 16, 17, 18, 19]\n",
      "shuffled list [19, 5, 10, 6, 15, 16, 3, 7, 13, 11, 18, 2, 14, 9, 17, 1, 12, 8, 0, 4]\n"
     ]
    }
   ],
   "source": [
    "# перемешать элементы изменяемой последовательности\n",
    "lst = list(range(20))\n",
    "print('initial list', lst)\n",
    "npr.shuffle(lst)\n",
    "print('shuffled list', lst)\n"
   ]
  },
  {
   "cell_type": "markdown",
   "metadata": {
    "slideshow": {
     "slide_type": "slide"
    }
   },
   "source": [
    "### Поэлементные операции над массивами"
   ]
  },
  {
   "cell_type": "code",
   "execution_count": 24,
   "metadata": {
    "scrolled": true,
    "slideshow": {
     "slide_type": "slide"
    }
   },
   "outputs": [
    {
     "name": "stdout",
     "output_type": "stream",
     "text": [
      "             сложение: [10 12 14 16 18]\n",
      "            умножение: [ 0 11 24 39 56]\n",
      "  умножение на скаляр: [ 0  5 10 15 20]\n",
      " возведение в степень: [ 0  1  4  9 16]\n",
      "            сравнение: [ True  True  True  True  True]\n",
      "целочисленное деление: [0 0 0 1 1]\n",
      "   остаток от деления: [0 1 2 0 1]\n"
     ]
    }
   ],
   "source": [
    "arr1 = np.arange(5)\n",
    "arr2 = np.arange(10, 15)\n",
    "\n",
    "print('             сложение:', arr1+arr2)\n",
    "print('            умножение:', arr1*arr2)\n",
    "print('  умножение на скаляр:', arr1*5)\n",
    "print(' возведение в степень:', arr1**2)\n",
    "print('            сравнение:', arr1<arr2)\n",
    "print('целочисленное деление:', arr1//3)\n",
    "print('   остаток от деления:', arr1%3)\n"
   ]
  },
  {
   "cell_type": "markdown",
   "metadata": {
    "slideshow": {
     "slide_type": "slide"
    }
   },
   "source": [
    "### Простая обработка массивов"
   ]
  },
  {
   "cell_type": "code",
   "execution_count": 25,
   "metadata": {},
   "outputs": [
    {
     "name": "stdout",
     "output_type": "stream",
     "text": [
      " arr: [0.782 0.267 0.214 0.178 0.429 0.972 0.047 0.917 0.159 0.943]\n",
      " min: 0.04653157887508852\n",
      " max: 0.972113122851516\n",
      "mean: 0.49083275051822584\n",
      " std: 0.3520120620971702\n"
     ]
    }
   ],
   "source": [
    "# поиск минимума, максимума, среднего, стандартного отклонения\n",
    "arr = npr.rand(10)\n",
    "\n",
    "print(' arr:', arr)\n",
    "print(' min:', np.min(arr))\n",
    "print(' max:', np.max(arr))\n",
    "print('mean:', np.mean(arr))\n",
    "print(' std:', np.std(arr))\n"
   ]
  },
  {
   "cell_type": "code",
   "execution_count": 26,
   "metadata": {
    "slideshow": {
     "slide_type": "slide"
    }
   },
   "outputs": [
    {
     "name": "stdout",
     "output_type": "stream",
     "text": [
      " arr:\n",
      " [[0.763 0.054 0.254 0.928 0.838]\n",
      " [0.157 0.691 0.367 0.937 0.613]\n",
      " [0.699 0.503 0.711 0.134 0.829]\n",
      " [0.743 0.457 0.079 0.373 0.934]\n",
      " [0.419 0.234 0.572 0.572 0.417]]\n",
      " min: [0.157 0.054 0.079 0.134 0.417]\n",
      " max: [0.763 0.691 0.711 0.937 0.934]\n",
      "mean: [0.556 0.388 0.397 0.589 0.726]\n",
      " std: [0.235 0.221 0.224 0.313 0.187]\n"
     ]
    }
   ],
   "source": [
    "# поиск минимума, максимума, среднего, стандартного отклонения вдоль заданного измерения\n",
    "\n",
    "arr = npr.rand(5, 5)\n",
    "\n",
    "print(' arr:\\n', arr)\n",
    "print(' min:', np.min(arr, axis=0))\n",
    "print(' max:', np.max(arr, axis=0))\n",
    "print('mean:', np.mean(arr, axis=0))\n",
    "print(' std:', np.std(arr, axis=0))\n"
   ]
  },
  {
   "cell_type": "code",
   "execution_count": 27,
   "metadata": {
    "slideshow": {
     "slide_type": "slide"
    }
   },
   "outputs": [
    {
     "name": "stdout",
     "output_type": "stream",
     "text": [
      "arr:\n",
      " [[0.626 0.    0.622 0.    0.974]\n",
      " [0.773 0.    0.    0.    0.   ]\n",
      " [0.    0.658 0.566 0.569 0.654]\n",
      " [0.    0.952 0.    0.85  0.96 ]\n",
      " [0.    0.    0.    0.665 0.   ]]\n",
      "argmin: 1\n",
      "argmax: 4\n",
      "argwhere:\n",
      " [[0 1]\n",
      " [0 3]\n",
      " [1 1]\n",
      " [1 2]\n",
      " [1 3]\n",
      " [1 4]\n",
      " [2 0]\n",
      " [3 0]\n",
      " [3 2]\n",
      " [4 0]\n",
      " [4 1]\n",
      " [4 2]\n",
      " [4 4]]\n"
     ]
    }
   ],
   "source": [
    "# поиск индексов минимального, максимального, ненулевого элементов или по условию\n",
    "arr = npr.rand(5, 5)\n",
    "arr[arr<0.5] = 0\n",
    "\n",
    "print('arr:\\n', arr)\n",
    "print('argmin:', np.argmin(arr))\n",
    "print('argmax:', np.argmax(arr))\n",
    "print('argwhere:\\n', np.argwhere(arr<0.3))\n"
   ]
  },
  {
   "cell_type": "markdown",
   "metadata": {
    "slideshow": {
     "slide_type": "slide"
    }
   },
   "source": [
    "### Специальная индексация и маскирование (fancy indexing and masking)"
   ]
  },
  {
   "cell_type": "code",
   "execution_count": 28,
   "metadata": {},
   "outputs": [
    {
     "name": "stdout",
     "output_type": "stream",
     "text": [
      "[9 8 7 6 5 4 3 2 1 0]\n"
     ]
    },
    {
     "data": {
      "text/plain": [
       "array([8, 8, 8])"
      ]
     },
     "execution_count": 28,
     "metadata": {},
     "output_type": "execute_result"
    }
   ],
   "source": [
    "arr = np.arange(10)[::-1]\n",
    "print(arr)\n",
    "\n",
    "arr[[1,1,1]] # получить представление части массива, заданной индексами 1,5,7\n"
   ]
  },
  {
   "cell_type": "code",
   "execution_count": 29,
   "metadata": {
    "slideshow": {
     "slide_type": "slide"
    }
   },
   "outputs": [
    {
     "name": "stdout",
     "output_type": "stream",
     "text": [
      "[[ 0  1  2  3]\n",
      " [ 4  5  6  7]\n",
      " [ 8  9 10 11]\n",
      " [12 13 14 15]]\n"
     ]
    },
    {
     "data": {
      "text/plain": [
       "array([ 5, 10, 15])"
      ]
     },
     "execution_count": 29,
     "metadata": {},
     "output_type": "execute_result"
    }
   ],
   "source": [
    "arr = np.arange(16).reshape(4,4)\n",
    "print(arr)\n",
    "\n",
    "idx = [1,2,3]\n",
    "arr[idx, idx] # получить диагональные элементы с индексами (1,1),(2,2),(3,3)\n"
   ]
  },
  {
   "cell_type": "code",
   "execution_count": 30,
   "metadata": {
    "slideshow": {
     "slide_type": "slide"
    }
   },
   "outputs": [
    {
     "name": "stdout",
     "output_type": "stream",
     "text": [
      "[[ 0  1  2  3]\n",
      " [ 4  5  6  7]\n",
      " [ 8  9 10 11]\n",
      " [12 13 14 15]]\n"
     ]
    },
    {
     "data": {
      "text/plain": [
       "array([[ 5,  6,  7],\n",
       "       [ 9, 10, 11],\n",
       "       [13, 14, 15]])"
      ]
     },
     "execution_count": 30,
     "metadata": {},
     "output_type": "execute_result"
    }
   ],
   "source": [
    "arr = np.arange(16).reshape(4,4)\n",
    "print(arr)\n",
    "\n",
    "idx = np.array([[1,2,3]])\n",
    "arr[idx.T, idx] # получить подматрицу на пересечении столбцов и строк с индексами 1,2,3\n"
   ]
  },
  {
   "cell_type": "code",
   "execution_count": 31,
   "metadata": {
    "slideshow": {
     "slide_type": "slide"
    }
   },
   "outputs": [
    {
     "name": "stdout",
     "output_type": "stream",
     "text": [
      "(array([[1],\n",
      "       [2],\n",
      "       [3]]), array([[1, 2, 3]]))\n"
     ]
    },
    {
     "data": {
      "text/plain": [
       "array([[ 5,  6,  7],\n",
       "       [ 9, 10, 11],\n",
       "       [13, 14, 15]])"
      ]
     },
     "execution_count": 31,
     "metadata": {},
     "output_type": "execute_result"
    }
   ],
   "source": [
    "idx = [1,2,3]\n",
    "\n",
    "print(np.ix_(idx, idx)) # создает \"открытую решетку\" из индексов\n",
    "arr[np.ix_(idx, idx)]\n"
   ]
  },
  {
   "cell_type": "code",
   "execution_count": 32,
   "metadata": {
    "slideshow": {
     "slide_type": "slide"
    }
   },
   "outputs": [
    {
     "name": "stdout",
     "output_type": "stream",
     "text": [
      "   arr: [0.377 0.014 0.339 0.401 0.468 0.652 0.997 0.517 0.404 0.058]\n",
      "  mask: [ True  True  True  True  True False False False  True  True]\n",
      "result: [0.377 0.014 0.339 0.401 0.468 0.404 0.058]\n"
     ]
    }
   ],
   "source": [
    "arr = npr.rand(10)\n",
    "\n",
    "mask = arr < 0.5 # создание маски\n",
    "\n",
    "print('   arr:', arr)\n",
    "print('  mask:', mask)\n",
    "print('result:', arr[mask])"
   ]
  },
  {
   "cell_type": "code",
   "execution_count": 33,
   "metadata": {
    "slideshow": {
     "slide_type": "slide"
    }
   },
   "outputs": [
    {
     "name": "stdout",
     "output_type": "stream",
     "text": [
      "arr:\n",
      " [[0.045 0.627 0.008 0.418 0.006]\n",
      " [0.424 0.363 0.619 0.419 0.014]\n",
      " [0.413 0.22  0.53  0.78  0.522]\n",
      " [0.505 0.065 0.408 0.703 0.924]\n",
      " [0.55  0.332 0.643 0.952 0.214]]\n",
      "mask:\n",
      " [[ True False  True  True  True]\n",
      " [ True  True False  True  True]\n",
      " [ True  True False False False]\n",
      " [False  True  True False False]\n",
      " [False  True False False  True]]\n",
      "result:\n",
      " [0.045 0.008 0.418 0.006 0.424 0.363 0.419 0.014 0.413 0.22  0.065 0.408\n",
      " 0.332 0.214]\n"
     ]
    }
   ],
   "source": [
    "arr = npr.rand(5, 5)\n",
    "\n",
    "mask = arr < 0.5 # создание маски\n",
    "\n",
    "print('arr:\\n', arr)\n",
    "print('mask:\\n', mask)\n",
    "print('result:\\n', arr[mask])"
   ]
  },
  {
   "cell_type": "markdown",
   "metadata": {
    "slideshow": {
     "slide_type": "slide"
    }
   },
   "source": [
    "### Склеивание, поворот, отражение и др."
   ]
  },
  {
   "cell_type": "code",
   "execution_count": 34,
   "metadata": {},
   "outputs": [
    {
     "name": "stdout",
     "output_type": "stream",
     "text": [
      "   arr: [0 1 2 3 4]\n"
     ]
    },
    {
     "data": {
      "text/plain": [
       "array([0, 1, 2, 3, 4, 0, 1, 2, 3, 4])"
      ]
     },
     "execution_count": 34,
     "metadata": {},
     "output_type": "execute_result"
    }
   ],
   "source": [
    "# склеить массивы горизонтально\n",
    "arr = np.arange(5)\n",
    "\n",
    "print('   arr:', arr)\n",
    "\n",
    "np.hstack((arr, arr))\n"
   ]
  },
  {
   "cell_type": "code",
   "execution_count": 35,
   "metadata": {
    "slideshow": {
     "slide_type": "slide"
    }
   },
   "outputs": [
    {
     "name": "stdout",
     "output_type": "stream",
     "text": [
      "   arr:\n",
      " [[0]\n",
      " [1]\n",
      " [2]\n",
      " [3]\n",
      " [4]]\n"
     ]
    },
    {
     "data": {
      "text/plain": [
       "array([[0, 0],\n",
       "       [1, 1],\n",
       "       [2, 2],\n",
       "       [3, 3],\n",
       "       [4, 4]])"
      ]
     },
     "execution_count": 35,
     "metadata": {},
     "output_type": "execute_result"
    }
   ],
   "source": [
    "# склеить массивы горизонтально\n",
    "arr = np.arange(5).reshape(-1,1)\n",
    "\n",
    "print('   arr:\\n', arr)\n",
    "\n",
    "np.hstack((arr, arr))\n"
   ]
  },
  {
   "cell_type": "code",
   "execution_count": 36,
   "metadata": {
    "slideshow": {
     "slide_type": "slide"
    }
   },
   "outputs": [
    {
     "name": "stdout",
     "output_type": "stream",
     "text": [
      "   arr: [0 1 2 3 4]\n"
     ]
    },
    {
     "data": {
      "text/plain": [
       "array([[0, 1, 2, 3, 4],\n",
       "       [0, 1, 2, 3, 4]])"
      ]
     },
     "execution_count": 36,
     "metadata": {},
     "output_type": "execute_result"
    }
   ],
   "source": [
    "# склеить массивы вертикально\n",
    "arr = np.arange(5)\n",
    "\n",
    "print('   arr:', arr)\n",
    "\n",
    "np.vstack((arr, arr))\n"
   ]
  },
  {
   "cell_type": "code",
   "execution_count": 37,
   "metadata": {
    "slideshow": {
     "slide_type": "slide"
    }
   },
   "outputs": [
    {
     "name": "stdout",
     "output_type": "stream",
     "text": [
      "   arr:\n",
      " [[0]\n",
      " [1]\n",
      " [2]\n",
      " [3]\n",
      " [4]]\n"
     ]
    },
    {
     "data": {
      "text/plain": [
       "array([[0],\n",
       "       [1],\n",
       "       [2],\n",
       "       [3],\n",
       "       [4],\n",
       "       [0],\n",
       "       [1],\n",
       "       [2],\n",
       "       [3],\n",
       "       [4]])"
      ]
     },
     "execution_count": 37,
     "metadata": {},
     "output_type": "execute_result"
    }
   ],
   "source": [
    "# склеить массивы вертикально\n",
    "arr = np.arange(5).reshape(-1,1)\n",
    "\n",
    "print('   arr:\\n', arr)\n",
    "np.vstack((arr, arr))\n"
   ]
  },
  {
   "cell_type": "code",
   "execution_count": 38,
   "metadata": {
    "slideshow": {
     "slide_type": "slide"
    }
   },
   "outputs": [
    {
     "name": "stdout",
     "output_type": "stream",
     "text": [
      "(3, 3, 2)\n"
     ]
    },
    {
     "data": {
      "text/plain": [
       "array([[[0, 0],\n",
       "        [1, 1],\n",
       "        [2, 2]],\n",
       "\n",
       "       [[3, 3],\n",
       "        [4, 4],\n",
       "        [5, 5]],\n",
       "\n",
       "       [[6, 6],\n",
       "        [7, 7],\n",
       "        [8, 8]]])"
      ]
     },
     "execution_count": 38,
     "metadata": {},
     "output_type": "execute_result"
    }
   ],
   "source": [
    "# сложить две матрицы в трехмерный массив\n",
    "arr = np.arange(9).reshape(3,3)\n",
    "\n",
    "stack = np.stack((arr, arr), axis=2)\n",
    "print(stack.shape)\n",
    "stack\n"
   ]
  },
  {
   "cell_type": "code",
   "execution_count": 39,
   "metadata": {
    "slideshow": {
     "slide_type": "slide"
    }
   },
   "outputs": [
    {
     "name": "stdout",
     "output_type": "stream",
     "text": [
      "arr: [[0 1 2]\n",
      " [3 4 5]\n",
      " [6 7 8]]\n"
     ]
    },
    {
     "data": {
      "text/plain": [
       "array([[2, 0, 1],\n",
       "       [5, 3, 4],\n",
       "       [8, 6, 7]])"
      ]
     },
     "execution_count": 39,
     "metadata": {},
     "output_type": "execute_result"
    }
   ],
   "source": [
    "# циклический сдвиг вдоль измерения\n",
    "arr = np.arange(9).reshape(3,3)\n",
    "print('arr:', arr)\n",
    "\n",
    "np.roll(arr, 1, axis=1)\n"
   ]
  },
  {
   "cell_type": "code",
   "execution_count": 40,
   "metadata": {
    "slideshow": {
     "slide_type": "slide"
    }
   },
   "outputs": [
    {
     "data": {
      "text/plain": [
       "array([[6, 7, 8],\n",
       "       [3, 4, 5],\n",
       "       [0, 1, 2]])"
      ]
     },
     "execution_count": 40,
     "metadata": {},
     "output_type": "execute_result"
    }
   ],
   "source": [
    "# отражение верх-низ\n",
    "np.flipud(arr)\n"
   ]
  },
  {
   "cell_type": "code",
   "execution_count": 41,
   "metadata": {},
   "outputs": [
    {
     "data": {
      "text/plain": [
       "array([[2, 1, 0],\n",
       "       [5, 4, 3],\n",
       "       [8, 7, 6]])"
      ]
     },
     "execution_count": 41,
     "metadata": {},
     "output_type": "execute_result"
    }
   ],
   "source": [
    "# отражение лево-право\n",
    "np.fliplr(arr)\n"
   ]
  },
  {
   "cell_type": "code",
   "execution_count": 42,
   "metadata": {
    "slideshow": {
     "slide_type": "slide"
    }
   },
   "outputs": [
    {
     "name": "stdout",
     "output_type": "stream",
     "text": [
      "0 \n",
      " [[ 0.  1.  2.  3.  4.]\n",
      " [15.  0.  0.  0.  5.]\n",
      " [14.  0.  0.  0.  6.]\n",
      " [13.  0.  0.  0.  7.]\n",
      " [12. 11. 10.  9.  8.]]\n",
      "1 \n",
      " [[ 4.  5.  6.  7.  8.]\n",
      " [ 3.  0.  0.  0.  9.]\n",
      " [ 2.  0.  0.  0. 10.]\n",
      " [ 1.  0.  0.  0. 11.]\n",
      " [ 0. 15. 14. 13. 12.]]\n",
      "2 \n",
      " [[ 8.  9. 10. 11. 12.]\n",
      " [ 7.  0.  0.  0. 13.]\n",
      " [ 6.  0.  0.  0. 14.]\n",
      " [ 5.  0.  0.  0. 15.]\n",
      " [ 4.  3.  2.  1.  0.]]\n",
      "3 \n",
      " [[12. 13. 14. 15.  0.]\n",
      " [11.  0.  0.  0.  1.]\n",
      " [10.  0.  0.  0.  2.]\n",
      " [ 9.  0.  0.  0.  3.]\n",
      " [ 8.  7.  6.  5.  4.]]\n"
     ]
    }
   ],
   "source": [
    "# поворот массива на 90, 180, 270 градусов по/против часовой стрелки\n",
    "arr = np.zeros((5,5))\n",
    "\n",
    "for i in range(4):\n",
    "    arr[0, :-1] = range(i*4, (i+1)*4)\n",
    "    arr = np.rot90(arr, 1)\n",
    "\n",
    "for i in range(4):\n",
    "    print(i, '\\n', arr)\n",
    "    arr = np.rot90(arr, 1)\n"
   ]
  },
  {
   "cell_type": "code",
   "execution_count": 43,
   "metadata": {},
   "outputs": [
    {
     "data": {
      "text/plain": [
       "array([[ 0.,  1.],\n",
       "       [15.,  0.]])"
      ]
     },
     "execution_count": 43,
     "metadata": {},
     "output_type": "execute_result"
    }
   ],
   "source": [
    "arr[:2,:2]"
   ]
  },
  {
   "cell_type": "code",
   "execution_count": 44,
   "metadata": {},
   "outputs": [
    {
     "data": {
      "text/plain": [
       "array([[ 0.,  0.,  0.,  1.,  1.,  1.],\n",
       "       [15., 15., 15.,  0.,  0.,  0.]])"
      ]
     },
     "execution_count": 44,
     "metadata": {},
     "output_type": "execute_result"
    }
   ],
   "source": [
    "# повтор каждого элемента матрицы по 3 раза с увеличением количества столбцов\n",
    "np.repeat(arr[:2,:2], 3, axis=1)"
   ]
  },
  {
   "cell_type": "code",
   "execution_count": 45,
   "metadata": {},
   "outputs": [
    {
     "data": {
      "text/plain": [
       "array([[ 0.,  1.,  0.,  1.],\n",
       "       [15.,  0., 15.,  0.],\n",
       "       [ 0.,  1.,  0.,  1.],\n",
       "       [15.,  0., 15.,  0.],\n",
       "       [ 0.,  1.,  0.,  1.],\n",
       "       [15.,  0., 15.,  0.]])"
      ]
     },
     "execution_count": 45,
     "metadata": {},
     "output_type": "execute_result"
    }
   ],
   "source": [
    "# повтор матрицы как единого блока по обеим измерениям\n",
    "np.tile(arr[:2,:2], (3,2))"
   ]
  },
  {
   "cell_type": "markdown",
   "metadata": {
    "slideshow": {
     "slide_type": "slide"
    }
   },
   "source": [
    "### Линейная алгебра"
   ]
  },
  {
   "cell_type": "code",
   "execution_count": 46,
   "metadata": {},
   "outputs": [
    {
     "data": {
      "text/plain": [
       "5.0"
      ]
     },
     "execution_count": 46,
     "metadata": {},
     "output_type": "execute_result"
    }
   ],
   "source": [
    "# норма вектора\n",
    "np.linalg.norm([3,4])\n"
   ]
  },
  {
   "cell_type": "code",
   "execution_count": 47,
   "metadata": {},
   "outputs": [
    {
     "data": {
      "text/plain": [
       "(array([0.866+0.5j, 0.866-0.5j]), array([[0.707+0.j   , 0.707-0.j   ],\n",
       "        [0.   +0.707j, 0.   -0.707j]]))"
      ]
     },
     "execution_count": 47,
     "metadata": {},
     "output_type": "execute_result"
    }
   ],
   "source": [
    "alpha = np.radians(30)\n",
    "s, c = np.sin(alpha), np.cos(alpha)\n",
    "arr = np.array([[c, s], [-s, c]])\n",
    "\n",
    "np.linalg.eig(arr) # собственные числа и собственные векторы\n"
   ]
  },
  {
   "cell_type": "code",
   "execution_count": 48,
   "metadata": {
    "slideshow": {
     "slide_type": "slide"
    }
   },
   "outputs": [
    {
     "name": "stdout",
     "output_type": "stream",
     "text": [
      "solve: K*U=F\n",
      "K\n",
      " [[1. 0. 0.]\n",
      " [0. 1. 0.]\n",
      " [0. 2. 1.]]\n",
      "F [0 1 3]\n",
      "U [0. 1. 1.]\n"
     ]
    }
   ],
   "source": [
    "# решить систему линейных уравнений\n",
    "\n",
    "K = np.eye(3)\n",
    "K[2,1]=2.\n",
    "F = np.array([0, 1, 3])\n",
    "\n",
    "print('solve: K*U=F')\n",
    "print('K\\n', K)\n",
    "print('F', F)\n",
    "print('U', np.linalg.solve(K, F))\n"
   ]
  },
  {
   "cell_type": "code",
   "execution_count": 49,
   "metadata": {
    "slideshow": {
     "slide_type": "slide"
    }
   },
   "outputs": [
    {
     "name": "stdout",
     "output_type": "stream",
     "text": [
      "130\n",
      "130\n",
      "130\n"
     ]
    }
   ],
   "source": [
    "arr1 = np.arange(5)\n",
    "arr2 = np.arange(10, 15)\n",
    "\n",
    "# скалярное произведение\n",
    "print(arr1.dot(arr2))\n",
    "print(arr1@arr2)\n",
    "print(np.dot(arr1, arr2))\n"
   ]
  },
  {
   "cell_type": "code",
   "execution_count": 50,
   "metadata": {
    "slideshow": {
     "slide_type": "slide"
    }
   },
   "outputs": [
    {
     "name": "stdout",
     "output_type": "stream",
     "text": [
      "[[ 0.  2.  4.  6.]\n",
      " [ 8. 10. 12. 14.]\n",
      " [16. 18. 20. 22.]\n",
      " [24. 26. 28. 30.]]\n",
      "[[ 0.  2.  4.  6.]\n",
      " [ 8. 10. 12. 14.]\n",
      " [16. 18. 20. 22.]\n",
      " [24. 26. 28. 30.]]\n",
      "[[ 0.  2.  4.  6.]\n",
      " [ 8. 10. 12. 14.]\n",
      " [16. 18. 20. 22.]\n",
      " [24. 26. 28. 30.]]\n"
     ]
    }
   ],
   "source": [
    "arr1 = np.arange(16).reshape(4,4)\n",
    "arr2 = np.eye(4)*2\n",
    "\n",
    "# матричное умножение\n",
    "print(arr1.dot(arr2))\n",
    "print(arr1@arr2)\n",
    "print(np.dot(arr1, arr2))\n"
   ]
  },
  {
   "cell_type": "markdown",
   "metadata": {
    "slideshow": {
     "slide_type": "slide"
    }
   },
   "source": [
    "## Сохранение и загрузка массивов"
   ]
  },
  {
   "cell_type": "code",
   "execution_count": 51,
   "metadata": {
    "slideshow": {
     "slide_type": "-"
    }
   },
   "outputs": [
    {
     "data": {
      "text/plain": [
       "array([[ 0,  1,  2,  3,  4,  5,  6,  7,  8,  9],\n",
       "       [10, 11, 12, 13, 14, 15, 16, 17, 18, 19],\n",
       "       [20, 21, 22, 23, 24, 25, 26, 27, 28, 29],\n",
       "       [30, 31, 32, 33, 34, 35, 36, 37, 38, 39],\n",
       "       [40, 41, 42, 43, 44, 45, 46, 47, 48, 49],\n",
       "       [50, 51, 52, 53, 54, 55, 56, 57, 58, 59],\n",
       "       [60, 61, 62, 63, 64, 65, 66, 67, 68, 69],\n",
       "       [70, 71, 72, 73, 74, 75, 76, 77, 78, 79],\n",
       "       [80, 81, 82, 83, 84, 85, 86, 87, 88, 89],\n",
       "       [90, 91, 92, 93, 94, 95, 96, 97, 98, 99]])"
      ]
     },
     "execution_count": 51,
     "metadata": {},
     "output_type": "execute_result"
    }
   ],
   "source": [
    "N = 10\n",
    "arr = np.arange(N*N).reshape(N, N)\n",
    "\n",
    "np.save('arr.npy', arr) # сохранить массив в бинарном формате\n",
    "\n",
    "np.load('arr.npy') # загрузить массив обратно\n"
   ]
  },
  {
   "cell_type": "code",
   "execution_count": 52,
   "metadata": {
    "slideshow": {
     "slide_type": "slide"
    }
   },
   "outputs": [
    {
     "data": {
      "text/plain": [
       "array([[ 0,  1,  2,  3,  4,  5,  6,  7,  8,  9],\n",
       "       [10, 11, 12, 13, 14, 15, 16, 17, 18, 19],\n",
       "       [20, 21, 22, 23, 24, 25, 26, 27, 28, 29],\n",
       "       [30, 31, 32, 33, 34, 35, 36, 37, 38, 39],\n",
       "       [40, 41, 42, 43, 44, 45, 46, 47, 48, 49],\n",
       "       [50, 51, 52, 53, 54, 55, 56, 57, 58, 59],\n",
       "       [60, 61, 62, 63, 64, 65, 66, 67, 68, 69],\n",
       "       [70, 71, 72, 73, 74, 75, 76, 77, 78, 79],\n",
       "       [80, 81, 82, 83, 84, 85, 86, 87, 88, 89],\n",
       "       [90, 91, 92, 93, 94, 95, 96, 97, 98, 99]])"
      ]
     },
     "execution_count": 52,
     "metadata": {},
     "output_type": "execute_result"
    }
   ],
   "source": [
    "N = 10\n",
    "arr = np.arange(N*N).reshape(N, N)\n",
    "\n",
    "# сохранить массив в текстовом формате\n",
    "np.savetxt('arr.txt', arr, fmt='%d', header ='Numpy array | Lecture 2 | PythonCourse', encoding='utf-8')\n",
    "\n",
    "np.loadtxt('arr.txt', dtype=np.int32)#, usecols=(0,2,4)) # загрузить массив обратно\n"
   ]
  },
  {
   "cell_type": "code",
   "execution_count": 53,
   "metadata": {},
   "outputs": [],
   "source": [
    "#%load arr.txt\n"
   ]
  },
  {
   "cell_type": "markdown",
   "metadata": {
    "slideshow": {
     "slide_type": "slide"
    }
   },
   "source": [
    "## Вопросы и дополнения к лекции"
   ]
  },
  {
   "cell_type": "markdown",
   "metadata": {},
   "source": [
    "\n",
    "[Scientific Python Lectures](https://github.com/jrjohansson/scientific-python-lectures)\n",
    "\n",
    "[100 Numpy Exercises](https://github.com/rougier/numpy-100/blob/master/100_Numpy_exercises_no_solution.ipynb)"
   ]
  },
  {
   "cell_type": "code",
   "execution_count": null,
   "metadata": {},
   "outputs": [],
   "source": []
  }
 ],
 "metadata": {
  "celltoolbar": "Slideshow",
  "kernelspec": {
   "display_name": "Python 3",
   "language": "python",
   "name": "python3"
  },
  "language_info": {
   "codemirror_mode": {
    "name": "ipython",
    "version": 3
   },
   "file_extension": ".py",
   "mimetype": "text/x-python",
   "name": "python",
   "nbconvert_exporter": "python",
   "pygments_lexer": "ipython3",
   "version": "3.6.6"
  }
 },
 "nbformat": 4,
 "nbformat_minor": 2
}
