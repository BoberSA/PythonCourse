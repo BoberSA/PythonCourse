{
 "cells": [
  {
   "cell_type": "markdown",
   "metadata": {
    "slideshow": {
     "slide_type": "slide"
    }
   },
   "source": [
    "<!-- <div style='float:right'><img width=200 src=\"hse-logo.jpg\" alt=\"HSE logo\"></img></div> -->\n",
    "<div style='float:left'><img width=400 src=\"python_logo.png\" alt=\"Python\"></img></div>\n",
    "\n",
    "<div style='float:right'>\n",
    "\n",
    "<h1 align='center'>Язык программирования Python</h1>\n",
    "\n",
    "<h2 align='right'>Бобер Станислав Алексеевич</h2>\n",
    "<h3 align='right'>Ст. преп. Департамента Прикладной Математики</h3>\n",
    "<h3 align='right'>e-mail: sbober@hse.ru, stas.bober@gmail.com</h3>\n",
    "</div>\n"
   ]
  },
  {
   "cell_type": "markdown",
   "metadata": {
    "slideshow": {
     "slide_type": "-"
    }
   },
   "source": [
    "<h1 align='center'>Лекция 7. Объектно-ориентированное программирование в Python</h1>"
   ]
  },
  {
   "cell_type": "markdown",
   "metadata": {},
   "source": [
    "### class\n",
    "\n",
    "Classes provide a means of bundling data and functionality together. Creating a new class creates a new type of object, allowing new instances of that type to be made. Each class instance can have attributes attached to it for maintaining its state. Class instances can also have methods (defined by its class) for modifying its state."
   ]
  },
  {
   "cell_type": "code",
   "execution_count": 1,
   "metadata": {
    "slideshow": {
     "slide_type": "-"
    }
   },
   "outputs": [
    {
     "data": {
      "text/plain": [
       "__main__.MyClass"
      ]
     },
     "execution_count": 1,
     "metadata": {},
     "output_type": "execute_result"
    }
   ],
   "source": [
    "class MyClass: # минимальный класс\n",
    "    pass\n",
    "\n",
    "MyClass"
   ]
  },
  {
   "cell_type": "code",
   "execution_count": 2,
   "metadata": {},
   "outputs": [
    {
     "data": {
      "text/plain": [
       "<__main__.MyClass at 0x2438ea68780>"
      ]
     },
     "execution_count": 2,
     "metadata": {},
     "output_type": "execute_result"
    }
   ],
   "source": [
    "my_instance = MyClass() # экземпляр класса (объект)\n",
    "my_instance"
   ]
  },
  {
   "cell_type": "code",
   "execution_count": 3,
   "metadata": {
    "slideshow": {
     "slide_type": "-"
    }
   },
   "outputs": [
    {
     "name": "stdout",
     "output_type": "stream",
     "text": [
      "<class 'str'> False\n",
      "<class 'dict'> False\n",
      "<class 'object'> True\n"
     ]
    }
   ],
   "source": [
    "# класс в Python 3 автоматически наследуется от класса object\n",
    "\n",
    "# проверим, является ли my_instance экземпляром класса object или его наследников\n",
    "\n",
    "for cls in [str, dict, object]:\n",
    "    print(cls, isinstance(my_instance, cls))"
   ]
  },
  {
   "cell_type": "code",
   "execution_count": 4,
   "metadata": {
    "slideshow": {
     "slide_type": "-"
    }
   },
   "outputs": [
    {
     "data": {
      "text/plain": [
       "{'__class__',\n",
       " '__delattr__',\n",
       " '__dir__',\n",
       " '__doc__',\n",
       " '__eq__',\n",
       " '__format__',\n",
       " '__ge__',\n",
       " '__getattribute__',\n",
       " '__gt__',\n",
       " '__hash__',\n",
       " '__init__',\n",
       " '__init_subclass__',\n",
       " '__le__',\n",
       " '__lt__',\n",
       " '__ne__',\n",
       " '__new__',\n",
       " '__reduce__',\n",
       " '__reduce_ex__',\n",
       " '__repr__',\n",
       " '__setattr__',\n",
       " '__sizeof__',\n",
       " '__str__',\n",
       " '__subclasshook__'}"
      ]
     },
     "execution_count": 4,
     "metadata": {},
     "output_type": "execute_result"
    }
   ],
   "source": [
    "# наследование от класса object позволяет выполнять интроспекцию и другие полезные действия\n",
    "# какие уже есть методы у объекта my_instance? а какие унаследованы от object?\n",
    "\n",
    "inst = set(dir(my_instance))\n",
    "obj  = set(dir(object))\n",
    "inst.intersection(obj)"
   ]
  },
  {
   "cell_type": "code",
   "execution_count": 5,
   "metadata": {},
   "outputs": [
    {
     "data": {
      "text/plain": [
       "{'__dict__', '__module__', '__weakref__'}"
      ]
     },
     "execution_count": 5,
     "metadata": {},
     "output_type": "execute_result"
    }
   ],
   "source": [
    "inst.difference(obj)"
   ]
  },
  {
   "cell_type": "code",
   "execution_count": 6,
   "metadata": {},
   "outputs": [
    {
     "data": {
      "text/plain": [
       "__main__.MyClass"
      ]
     },
     "execution_count": 6,
     "metadata": {},
     "output_type": "execute_result"
    }
   ],
   "source": [
    "# например, всегда можно узнать класс, к которому принадлежит экземпляр\n",
    "my_instance.__class__"
   ]
  },
  {
   "cell_type": "markdown",
   "metadata": {
    "slideshow": {
     "slide_type": "slide"
    }
   },
   "source": [
    "### `__repr__` - представление, образ объекта"
   ]
  },
  {
   "cell_type": "code",
   "execution_count": 7,
   "metadata": {},
   "outputs": [
    {
     "data": {
      "text/plain": [
       "'<__main__.MyClass object at 0x000002438EA68780>'"
      ]
     },
     "execution_count": 7,
     "metadata": {},
     "output_type": "execute_result"
    }
   ],
   "source": [
    "# метод, предназначенный для вывода объекта на экран с целью его восприятия и понимания человеком\n",
    "# по-умолчанию он возвращает строку, в которой указан класс и адрес экземпляра в памяти\n",
    "my_instance.__repr__()"
   ]
  },
  {
   "cell_type": "markdown",
   "metadata": {
    "slideshow": {
     "slide_type": "slide"
    }
   },
   "source": [
    "### `__doc__` - документация объекта"
   ]
  },
  {
   "cell_type": "code",
   "execution_count": 8,
   "metadata": {},
   "outputs": [
    {
     "name": "stdout",
     "output_type": "stream",
     "text": [
      "None\n"
     ]
    }
   ],
   "source": [
    "# docstring - строка, содержащая документацию (описание) объекта\n",
    "# по-умолчанию отсутствует\n",
    "print(my_instance.__doc__)"
   ]
  },
  {
   "cell_type": "code",
   "execution_count": 9,
   "metadata": {},
   "outputs": [],
   "source": [
    "class MyClass:\n",
    "    '''MyClass. Документация для класса должна быть здесь.''' # документирующая строка для класса\n",
    "    \n",
    "    def __repr__(self):\n",
    "        '''MyClass.__repr__.\n",
    "        Документация для метода __repr__ должна быть здесь.''' # документирующая строка для метода __repr__\n",
    "        return \"MyClass. Nothing to represent here!\""
   ]
  },
  {
   "cell_type": "code",
   "execution_count": 10,
   "metadata": {},
   "outputs": [
    {
     "data": {
      "text/plain": [
       "'MyClass. Nothing to represent here!'"
      ]
     },
     "execution_count": 10,
     "metadata": {},
     "output_type": "execute_result"
    }
   ],
   "source": [
    "MyClass # <Shift+Tab>, чтобы увидеть документацию класса\n",
    "my_instance = MyClass() # аналогично\n",
    "my_instance.__repr__() # <Shift+Tab>, чтобы увидеть документацию метода"
   ]
  },
  {
   "cell_type": "markdown",
   "metadata": {
    "slideshow": {
     "slide_type": "slide"
    }
   },
   "source": [
    "### `__method__` - magic method, dunder method, special method\n",
    "\n",
    "Термин dunder, вероятно, произошел от double underscore.\n",
    "\n",
    "Во многих обучающих видео употребляют этот термин."
   ]
  },
  {
   "cell_type": "markdown",
   "metadata": {
    "slideshow": {
     "slide_type": "slide"
    }
   },
   "source": [
    "### `__init__` - конструктор"
   ]
  },
  {
   "cell_type": "code",
   "execution_count": 12,
   "metadata": {},
   "outputs": [
    {
     "ename": "TypeError",
     "evalue": "__init__() missing 1 required positional argument: 'value'",
     "output_type": "error",
     "traceback": [
      "\u001b[1;31m---------------------------------------------------------------------------\u001b[0m",
      "\u001b[1;31mTypeError\u001b[0m                                 Traceback (most recent call last)",
      "\u001b[1;32m<ipython-input-12-b814d7ad7c05>\u001b[0m in \u001b[0;36m<module>\u001b[1;34m()\u001b[0m\n\u001b[0;32m      3\u001b[0m         \u001b[0mself\u001b[0m\u001b[1;33m.\u001b[0m\u001b[0mvalue\u001b[0m \u001b[1;33m=\u001b[0m \u001b[0mvalue\u001b[0m \u001b[1;31m# каждый экземпляр класса MyClass будет иметь свое поле (атрибут) value\u001b[0m\u001b[1;33m\u001b[0m\u001b[0m\n\u001b[0;32m      4\u001b[0m \u001b[1;33m\u001b[0m\u001b[0m\n\u001b[1;32m----> 5\u001b[1;33m \u001b[0mmy_instance\u001b[0m \u001b[1;33m=\u001b[0m \u001b[0mMyClass\u001b[0m\u001b[1;33m(\u001b[0m\u001b[1;33m)\u001b[0m\u001b[1;33m\u001b[0m\u001b[0m\n\u001b[0m",
      "\u001b[1;31mTypeError\u001b[0m: __init__() missing 1 required positional argument: 'value'"
     ]
    }
   ],
   "source": [
    "class MyClass:\n",
    "    def __init__(self, value): # объявление конструктора с одним позиционным параметром value\n",
    "        self.value = value # каждый экземпляр класса MyClass будет иметь свое поле (атрибут) value\n",
    "        \n",
    "my_instance = MyClass()"
   ]
  },
  {
   "cell_type": "markdown",
   "metadata": {
    "slideshow": {
     "slide_type": "-"
    }
   },
   "source": [
    "### self - ссылка на объект, для которого вызван метод\n",
    "\n",
    "В C++ аналог *this"
   ]
  },
  {
   "cell_type": "code",
   "execution_count": 13,
   "metadata": {},
   "outputs": [
    {
     "data": {
      "text/plain": [
       "(5, 10)"
      ]
     },
     "execution_count": 13,
     "metadata": {},
     "output_type": "execute_result"
    }
   ],
   "source": [
    "m1, m2 = MyClass(5), MyClass(10)\n",
    "m1.value, m2.value"
   ]
  },
  {
   "cell_type": "markdown",
   "metadata": {
    "slideshow": {
     "slide_type": "slide"
    }
   },
   "source": [
    "### `__add__` - оператор бинарного сложения"
   ]
  },
  {
   "cell_type": "code",
   "execution_count": 15,
   "metadata": {},
   "outputs": [
    {
     "ename": "TypeError",
     "evalue": "unsupported operand type(s) for +: 'MyClass' and 'MyClass'",
     "output_type": "error",
     "traceback": [
      "\u001b[1;31m---------------------------------------------------------------------------\u001b[0m",
      "\u001b[1;31mTypeError\u001b[0m                                 Traceback (most recent call last)",
      "\u001b[1;32m<ipython-input-15-55a11faac0ce>\u001b[0m in \u001b[0;36m<module>\u001b[1;34m()\u001b[0m\n\u001b[1;32m----> 1\u001b[1;33m \u001b[0mMyClass\u001b[0m\u001b[1;33m(\u001b[0m\u001b[1;36m5\u001b[0m\u001b[1;33m)\u001b[0m \u001b[1;33m+\u001b[0m \u001b[0mMyClass\u001b[0m\u001b[1;33m(\u001b[0m\u001b[1;36m6\u001b[0m\u001b[1;33m)\u001b[0m\u001b[1;33m\u001b[0m\u001b[0m\n\u001b[0m",
      "\u001b[1;31mTypeError\u001b[0m: unsupported operand type(s) for +: 'MyClass' and 'MyClass'"
     ]
    }
   ],
   "source": [
    "MyClass(5) + MyClass(6)"
   ]
  },
  {
   "cell_type": "code",
   "execution_count": 16,
   "metadata": {},
   "outputs": [
    {
     "data": {
      "text/plain": [
       "{'value': 11}"
      ]
     },
     "execution_count": 16,
     "metadata": {},
     "output_type": "execute_result"
    }
   ],
   "source": [
    "class MyClass:\n",
    "    def __init__(self, value): # объявление конструктора с одним позиционным параметром value\n",
    "        self.value = value # каждый экземпляр класса MyClass будет иметь свое поле (атрибут) value\n",
    "        \n",
    "    def __add__(self, other):\n",
    "        return MyClass(self.value+other.value)\n",
    "    \n",
    "    def __repr__(self):\n",
    "        return '%r'%self.__dict__\n",
    "    \n",
    "MyClass(5) + MyClass(6)"
   ]
  },
  {
   "cell_type": "markdown",
   "metadata": {
    "slideshow": {
     "slide_type": "slide"
    }
   },
   "source": [
    "### Пример класса - Animal (Животное)"
   ]
  },
  {
   "cell_type": "markdown",
   "metadata": {},
   "source": [
    "![Животные](https://upload.wikimedia.org/wikipedia/commons/1/14/Animal_diversity.png)"
   ]
  },
  {
   "cell_type": "code",
   "execution_count": 17,
   "metadata": {},
   "outputs": [],
   "source": [
    "# класс Animal - базовый класс, представляющий общие свойства животного\n",
    "class Animal:\n",
    "    \n",
    "    def __init__(self, limbs, eyes, carnivore=False):\n",
    "        self.limbs = limbs\n",
    "        self.eyes = eyes\n",
    "        self.carnivore = carnivore\n",
    "                    \n",
    "    def __repr__(self):\n",
    "        return \"%s animal with %r limbs and %r eyes\" % \\\n",
    "               ('Carnivore' if self.carnivore else 'Herbivore', self.limbs, self.eyes)"
   ]
  },
  {
   "cell_type": "code",
   "execution_count": 18,
   "metadata": {},
   "outputs": [
    {
     "data": {
      "text/plain": [
       "Carnivore animal with 4 limbs and 2 eyes"
      ]
     },
     "execution_count": 18,
     "metadata": {},
     "output_type": "execute_result"
    }
   ],
   "source": [
    "a = Animal(4, 2, True)\n",
    "a"
   ]
  },
  {
   "cell_type": "code",
   "execution_count": 19,
   "metadata": {},
   "outputs": [
    {
     "data": {
      "text/plain": [
       "Carnivore animal with 6 limbs and 2 eyes"
      ]
     },
     "execution_count": 19,
     "metadata": {},
     "output_type": "execute_result"
    }
   ],
   "source": [
    "a.limbs = 6\n",
    "a"
   ]
  },
  {
   "cell_type": "markdown",
   "metadata": {
    "slideshow": {
     "slide_type": "slide"
    }
   },
   "source": [
    "### Поля (атрибуты) класса и статические методы @staticmethod"
   ]
  },
  {
   "cell_type": "code",
   "execution_count": 20,
   "metadata": {},
   "outputs": [],
   "source": [
    "class Animal:\n",
    "    \n",
    "    animals = [] # поле класса - аналог статических полей в C++\n",
    "                 # единое поле для всех объектов\n",
    "            \n",
    "    # аналог статических методов в C++; не имеет доступа к полям объекта, работает только с полями класса\n",
    "    @staticmethod        \n",
    "    def count():\n",
    "        return len(Animal.animals)\n",
    "    \n",
    "    # просто функция внутри пространства имен класса\n",
    "    def nonstatic_count():\n",
    "        return len(Animal.animals)\n",
    "    \n",
    "    def __init__(self, limbs, eyes, carnivore=False):\n",
    "        self.limbs = limbs\n",
    "        self.eyes = eyes\n",
    "        self.carnivore = carnivore\n",
    "        Animal.animals.append(self)\n",
    "                    \n",
    "    def __repr__(self):\n",
    "        return \"%s animal with %r limbs and %r eyes\"%('Carnivore' if self.carnivore else 'Herbivore',\n",
    "                                          self.limbs, self.eyes)"
   ]
  },
  {
   "cell_type": "code",
   "execution_count": 21,
   "metadata": {},
   "outputs": [],
   "source": [
    "# создание двух экземпляров класса Animal\n",
    "tiger, bird = Animal(4, 2, True), Animal(2, 2, False)"
   ]
  },
  {
   "cell_type": "code",
   "execution_count": 22,
   "metadata": {},
   "outputs": [
    {
     "data": {
      "text/plain": [
       "[Carnivore animal with 4 limbs and 2 eyes,\n",
       " Herbivore animal with 2 limbs and 2 eyes]"
      ]
     },
     "execution_count": 22,
     "metadata": {},
     "output_type": "execute_result"
    }
   ],
   "source": [
    "Animal.animals"
   ]
  },
  {
   "cell_type": "code",
   "execution_count": 23,
   "metadata": {
    "scrolled": true
   },
   "outputs": [
    {
     "data": {
      "text/plain": [
       "(2, 2)"
      ]
     },
     "execution_count": 23,
     "metadata": {},
     "output_type": "execute_result"
    }
   ],
   "source": [
    "Animal.count(), Animal.nonstatic_count()"
   ]
  },
  {
   "cell_type": "code",
   "execution_count": 24,
   "metadata": {},
   "outputs": [
    {
     "data": {
      "text/plain": [
       "2"
      ]
     },
     "execution_count": 24,
     "metadata": {},
     "output_type": "execute_result"
    }
   ],
   "source": [
    "tiger.count()"
   ]
  },
  {
   "cell_type": "code",
   "execution_count": 25,
   "metadata": {},
   "outputs": [
    {
     "ename": "TypeError",
     "evalue": "nonstatic_count() takes 0 positional arguments but 1 was given",
     "output_type": "error",
     "traceback": [
      "\u001b[1;31m---------------------------------------------------------------------------\u001b[0m",
      "\u001b[1;31mTypeError\u001b[0m                                 Traceback (most recent call last)",
      "\u001b[1;32m<ipython-input-25-ea42245511a0>\u001b[0m in \u001b[0;36m<module>\u001b[1;34m()\u001b[0m\n\u001b[1;32m----> 1\u001b[1;33m \u001b[0mtiger\u001b[0m\u001b[1;33m.\u001b[0m\u001b[0mnonstatic_count\u001b[0m\u001b[1;33m(\u001b[0m\u001b[1;33m)\u001b[0m\u001b[1;33m\u001b[0m\u001b[0m\n\u001b[0m",
      "\u001b[1;31mTypeError\u001b[0m: nonstatic_count() takes 0 positional arguments but 1 was given"
     ]
    }
   ],
   "source": [
    "tiger.nonstatic_count()"
   ]
  },
  {
   "cell_type": "markdown",
   "metadata": {
    "slideshow": {
     "slide_type": "slide"
    }
   },
   "source": [
    "### Наследование"
   ]
  },
  {
   "cell_type": "code",
   "execution_count": 26,
   "metadata": {},
   "outputs": [],
   "source": [
    "class Tiger(Animal):\n",
    "    def __init__(self, white=False): # перегрузка конструктора\n",
    "        super().__init__(4, 2, True) # вызов конструктора родителя\n",
    "        self.white = white\n",
    "        \n",
    "    def __repr__(self): # перегрузка метода __repr__\n",
    "        return \"%s tiger\"%('White' if self.white else 'Regular')    "
   ]
  },
  {
   "cell_type": "code",
   "execution_count": 27,
   "metadata": {},
   "outputs": [
    {
     "data": {
      "text/plain": [
       "[Carnivore animal with 4 limbs and 2 eyes,\n",
       " Herbivore animal with 2 limbs and 2 eyes,\n",
       " Regular tiger]"
      ]
     },
     "execution_count": 27,
     "metadata": {},
     "output_type": "execute_result"
    }
   ],
   "source": [
    "tiger = Tiger()\n",
    "tiger.animals"
   ]
  },
  {
   "cell_type": "code",
   "execution_count": 28,
   "metadata": {},
   "outputs": [
    {
     "data": {
      "text/plain": [
       "4"
      ]
     },
     "execution_count": 28,
     "metadata": {},
     "output_type": "execute_result"
    }
   ],
   "source": [
    "tiger.limbs"
   ]
  },
  {
   "cell_type": "code",
   "execution_count": 29,
   "metadata": {},
   "outputs": [
    {
     "data": {
      "text/plain": [
       "5"
      ]
     },
     "execution_count": 29,
     "metadata": {},
     "output_type": "execute_result"
    }
   ],
   "source": [
    "tiger.limbs = 5\n",
    "tiger.limbs"
   ]
  },
  {
   "cell_type": "markdown",
   "metadata": {
    "slideshow": {
     "slide_type": "slide"
    }
   },
   "source": [
    "### getter, setter"
   ]
  },
  {
   "cell_type": "code",
   "execution_count": 30,
   "metadata": {
    "slideshow": {
     "slide_type": "slide"
    }
   },
   "outputs": [],
   "source": [
    "class Animal:\n",
    "    \n",
    "    animals = []\n",
    "    \n",
    "    def __init__(self, limbs, eyes, carnivore=False):\n",
    "        self.__limbs = limbs\n",
    "        self.eyes = eyes\n",
    "        self.carnivore = carnivore\n",
    "        Animal.animals.append(self)\n",
    "        \n",
    "    def get_limbs(self):\n",
    "        return self.__limbs\n",
    "    \n",
    "    def set_limbs(self, limbs):\n",
    "        self.__limbs = limbs\n",
    "                    \n",
    "    def __repr__(self):\n",
    "        return \"%s animal with %r limbs and %r eyes\"%('Carnivore' if self.carnivore else 'Herbivore',\n",
    "                                          self.__limbs, self.eyes)"
   ]
  },
  {
   "cell_type": "code",
   "execution_count": 31,
   "metadata": {},
   "outputs": [
    {
     "data": {
      "text/plain": [
       "Herbivore animal with 2 limbs and 2 eyes"
      ]
     },
     "execution_count": 31,
     "metadata": {},
     "output_type": "execute_result"
    }
   ],
   "source": [
    "a = Animal(2, 2, False)\n",
    "a"
   ]
  },
  {
   "cell_type": "code",
   "execution_count": 32,
   "metadata": {},
   "outputs": [
    {
     "data": {
      "text/plain": [
       "Herbivore animal with 3 limbs and 2 eyes"
      ]
     },
     "execution_count": 32,
     "metadata": {},
     "output_type": "execute_result"
    }
   ],
   "source": [
    "a.set_limbs(3)\n",
    "a"
   ]
  },
  {
   "cell_type": "code",
   "execution_count": 33,
   "metadata": {},
   "outputs": [],
   "source": [
    "class Tiger(Animal):\n",
    "    def __init__(self, white=False): # перегрузка конструктора\n",
    "        super().__init__(4, 2, True) # вызов конструктора родителя\n",
    "        self.white = white\n",
    "        \n",
    "    def set_limbs(self, limbs):\n",
    "        pass\n",
    "    \n",
    "    def __repr__(self): # перегрузка метода __repr__\n",
    "        return \"%s tiger\"%('White' if self.white else 'Regular')    "
   ]
  },
  {
   "cell_type": "code",
   "execution_count": 34,
   "metadata": {},
   "outputs": [
    {
     "data": {
      "text/plain": [
       "(Regular tiger, 4)"
      ]
     },
     "execution_count": 34,
     "metadata": {},
     "output_type": "execute_result"
    }
   ],
   "source": [
    "tiger = Tiger()\n",
    "tiger, tiger.get_limbs()"
   ]
  },
  {
   "cell_type": "code",
   "execution_count": 35,
   "metadata": {},
   "outputs": [
    {
     "data": {
      "text/plain": [
       "4"
      ]
     },
     "execution_count": 35,
     "metadata": {},
     "output_type": "execute_result"
    }
   ],
   "source": [
    "tiger.set_limbs(5)\n",
    "tiger.get_limbs()"
   ]
  },
  {
   "cell_type": "code",
   "execution_count": 36,
   "metadata": {},
   "outputs": [
    {
     "ename": "AttributeError",
     "evalue": "'Tiger' object has no attribute '_'",
     "output_type": "error",
     "traceback": [
      "\u001b[1;31m---------------------------------------------------------------------------\u001b[0m",
      "\u001b[1;31mAttributeError\u001b[0m                            Traceback (most recent call last)",
      "\u001b[1;32m<ipython-input-36-26c663e02dbe>\u001b[0m in \u001b[0;36m<module>\u001b[1;34m()\u001b[0m\n\u001b[1;32m----> 1\u001b[1;33m \u001b[0mtiger\u001b[0m\u001b[1;33m.\u001b[0m\u001b[0m_\u001b[0m\u001b[1;33m\u001b[0m\u001b[0m\n\u001b[0m",
      "\u001b[1;31mAttributeError\u001b[0m: 'Tiger' object has no attribute '_'"
     ]
    }
   ],
   "source": [
    "tiger._"
   ]
  },
  {
   "cell_type": "markdown",
   "metadata": {
    "slideshow": {
     "slide_type": "slide"
    }
   },
   "source": [
    "### Свойства - property"
   ]
  },
  {
   "cell_type": "code",
   "execution_count": 37,
   "metadata": {
    "slideshow": {
     "slide_type": "-"
    }
   },
   "outputs": [],
   "source": [
    "class Animal:\n",
    "    \n",
    "    animals = []\n",
    "\n",
    "    @staticmethod        \n",
    "    def count():\n",
    "        return len(Animal.animals)\n",
    "    \n",
    "    def __init__(self, limbs, eyes, carnivore=False):\n",
    "        self._limbs = limbs\n",
    "        self.eyes = eyes\n",
    "        self.carnivore = carnivore\n",
    "        Animal.animals.append(self)\n",
    "        \n",
    "    def _get_limbs(self):\n",
    "        return self._limbs\n",
    "    \n",
    "    def _set_limbs(self, limbs):\n",
    "        self._limbs = limbs\n",
    "        \n",
    "    limbs = property(_get_limbs, # getter\n",
    "                     _set_limbs, # setter\n",
    "                     doc='Animal limbs count property') # docstring\n",
    "                    \n",
    "    def __repr__(self):\n",
    "        return \"%s animal with %r limbs and %r eyes\"%('Carnivore' if self.carnivore else 'Herbivore',\n",
    "                                          self.limbs, self.eyes)"
   ]
  },
  {
   "cell_type": "code",
   "execution_count": 38,
   "metadata": {},
   "outputs": [
    {
     "data": {
      "text/plain": [
       "4"
      ]
     },
     "execution_count": 38,
     "metadata": {},
     "output_type": "execute_result"
    }
   ],
   "source": [
    "a = Animal(4,2,True)\n",
    "a.limbs"
   ]
  },
  {
   "cell_type": "code",
   "execution_count": 39,
   "metadata": {},
   "outputs": [
    {
     "data": {
      "text/plain": [
       "Carnivore animal with 5 limbs and 2 eyes"
      ]
     },
     "execution_count": 39,
     "metadata": {},
     "output_type": "execute_result"
    }
   ],
   "source": [
    "a.limbs = 5\n",
    "a"
   ]
  },
  {
   "cell_type": "markdown",
   "metadata": {
    "slideshow": {
     "slide_type": "slide"
    }
   },
   "source": [
    "### @property"
   ]
  },
  {
   "cell_type": "code",
   "execution_count": 40,
   "metadata": {
    "slideshow": {
     "slide_type": "slide"
    }
   },
   "outputs": [],
   "source": [
    "class Animal:\n",
    "    \n",
    "    animals = []\n",
    "\n",
    "    @staticmethod        \n",
    "    def count():\n",
    "        return len(Animal.animals)\n",
    "    \n",
    "    def __init__(self, limbs, eyes, carnivore=False):\n",
    "        self._limbs = limbs\n",
    "        self.eyes = eyes\n",
    "        self.carnivore = carnivore\n",
    "        Animal.animals.append(self)\n",
    "        \n",
    "    @property\n",
    "    def limbs(self):\n",
    "        return self._limbs\n",
    "    \n",
    "    @limbs.setter\n",
    "    def limbs(self, limbs):\n",
    "        self._limbs = limbs\n",
    "                    \n",
    "    def __repr__(self):\n",
    "        return \"%s animal with %r limbs and %r eyes\"%('Carnivore' if self.carnivore else 'Herbivore',\n",
    "                                          self.limbs, self.eyes)"
   ]
  },
  {
   "cell_type": "code",
   "execution_count": 41,
   "metadata": {},
   "outputs": [
    {
     "data": {
      "text/plain": [
       "4"
      ]
     },
     "execution_count": 41,
     "metadata": {},
     "output_type": "execute_result"
    }
   ],
   "source": [
    "a = Animal(4,2,True)\n",
    "a.limbs"
   ]
  },
  {
   "cell_type": "code",
   "execution_count": 42,
   "metadata": {},
   "outputs": [
    {
     "data": {
      "text/plain": [
       "Carnivore animal with 5 limbs and 2 eyes"
      ]
     },
     "execution_count": 42,
     "metadata": {},
     "output_type": "execute_result"
    }
   ],
   "source": [
    "a.limbs = 5\n",
    "a"
   ]
  },
  {
   "cell_type": "code",
   "execution_count": 43,
   "metadata": {},
   "outputs": [],
   "source": [
    "class Tiger(Animal):\n",
    "    def __init__(self, white=False): # перегрузка конструктора\n",
    "        super().__init__(4, 2, True) # вызов конструктора родителя\n",
    "        self.white = white\n",
    "\n",
    "    @property\n",
    "    def limbs(self):\n",
    "        return self._limbs\n",
    "\n",
    "    @limbs.setter\n",
    "    def limbs(self, limbs):\n",
    "        pass\n",
    "        \n",
    "    def __repr__(self): # перегрузка метода __repr__\n",
    "        return \"%s tiger\"%('White' if self.white else 'Regular')    "
   ]
  },
  {
   "cell_type": "code",
   "execution_count": 44,
   "metadata": {},
   "outputs": [
    {
     "data": {
      "text/plain": [
       "4"
      ]
     },
     "execution_count": 44,
     "metadata": {},
     "output_type": "execute_result"
    }
   ],
   "source": [
    "tiger = Tiger()\n",
    "tiger.limbs"
   ]
  },
  {
   "cell_type": "code",
   "execution_count": 45,
   "metadata": {},
   "outputs": [
    {
     "data": {
      "text/plain": [
       "4"
      ]
     },
     "execution_count": 45,
     "metadata": {},
     "output_type": "execute_result"
    }
   ],
   "source": [
    "tiger.limbs = 5\n",
    "tiger.limbs"
   ]
  },
  {
   "cell_type": "markdown",
   "metadata": {
    "slideshow": {
     "slide_type": "slide"
    }
   },
   "source": [
    "### Наследование свойств"
   ]
  },
  {
   "cell_type": "code",
   "execution_count": 46,
   "metadata": {
    "slideshow": {
     "slide_type": "slide"
    }
   },
   "outputs": [],
   "source": [
    "class Animal:\n",
    "    \n",
    "    animals = []\n",
    "\n",
    "    @staticmethod        \n",
    "    def count():\n",
    "        return len(Animal.animals)\n",
    "    \n",
    "    def __init__(self, limbs, eyes, carnivore=False):\n",
    "        self._limbs = limbs\n",
    "        self.eyes = eyes\n",
    "        self.carnivore = carnivore\n",
    "        Animal.animals.append(self)\n",
    "\n",
    "    def _get_limbs(self):\n",
    "        return self._limbs\n",
    "    \n",
    "    def _set_limbs(self, limbs):\n",
    "        self._limbs = limbs\n",
    "        \n",
    "    @property\n",
    "    def limbs(self):\n",
    "        return self._get_limbs()\n",
    "    \n",
    "    @limbs.setter\n",
    "    def limbs(self, limbs):\n",
    "        self._set_limbs(limbs)\n",
    "                    \n",
    "    def __repr__(self):\n",
    "        return \"%s animal with %r limbs and %r eyes\"%('Carnivore' if self.carnivore else 'Herbivore',\n",
    "                                          self.limbs, self.eyes)"
   ]
  },
  {
   "cell_type": "code",
   "execution_count": 47,
   "metadata": {},
   "outputs": [],
   "source": [
    "class Tiger(Animal):\n",
    "    def __init__(self, white=False): # перегрузка конструктора\n",
    "        super().__init__(4, 2, True) # вызов конструктора родителя\n",
    "        self.white = white\n",
    "\n",
    "    def _set_limbs(self, limbs):\n",
    "        pass\n",
    "        \n",
    "    def __repr__(self): # перегрузка метода __repr__\n",
    "        return \"%s tiger\"%('White' if self.white else 'Regular')    "
   ]
  },
  {
   "cell_type": "code",
   "execution_count": 48,
   "metadata": {},
   "outputs": [
    {
     "data": {
      "text/plain": [
       "4"
      ]
     },
     "execution_count": 48,
     "metadata": {},
     "output_type": "execute_result"
    }
   ],
   "source": [
    "tiger = Animal(4, 2, True)\n",
    "tiger.limbs"
   ]
  },
  {
   "cell_type": "code",
   "execution_count": 49,
   "metadata": {},
   "outputs": [
    {
     "data": {
      "text/plain": [
       "5"
      ]
     },
     "execution_count": 49,
     "metadata": {},
     "output_type": "execute_result"
    }
   ],
   "source": [
    "tiger.limbs = 5\n",
    "tiger.limbs"
   ]
  },
  {
   "cell_type": "markdown",
   "metadata": {
    "slideshow": {
     "slide_type": "slide"
    }
   },
   "source": [
    "## @classmethod\n",
    "\n",
    "В качестве первого параметра получает ссылку на класс (cls), а не на экземпляр класса (self).\n",
    "\n",
    "Часто используется для создания альтернативных конструкторов."
   ]
  },
  {
   "cell_type": "code",
   "execution_count": 50,
   "metadata": {
    "slideshow": {
     "slide_type": "slide"
    }
   },
   "outputs": [],
   "source": [
    "class Animal:\n",
    "    \n",
    "    animals = []\n",
    "\n",
    "    @staticmethod        \n",
    "    def count():\n",
    "        return len(Animal.animals)\n",
    "    \n",
    "    def __init__(self, limbs, eyes, carnivore=False):\n",
    "        self.limbs = limbs\n",
    "        self.eyes = eyes\n",
    "        self.carnivore = carnivore\n",
    "        Animal.animals.append(self)\n",
    "       \n",
    "    @classmethod\n",
    "    def from_list(cls, params):\n",
    "        return cls(*params) # вызов конструктора __init__ у класса cls\n",
    "                    \n",
    "    def __repr__(self):\n",
    "        return \"%s animal with %r limbs and %r eyes\"%('Carnivore' if self.carnivore else 'Herbivore',\n",
    "                                          self.limbs, self.eyes)"
   ]
  },
  {
   "cell_type": "code",
   "execution_count": 51,
   "metadata": {},
   "outputs": [
    {
     "data": {
      "text/plain": [
       "Carnivore animal with 4 limbs and 2 eyes"
      ]
     },
     "execution_count": 51,
     "metadata": {},
     "output_type": "execute_result"
    }
   ],
   "source": [
    "a = Animal.from_list([4,2,True])\n",
    "a"
   ]
  },
  {
   "cell_type": "markdown",
   "metadata": {
    "slideshow": {
     "slide_type": "slide"
    }
   },
   "source": [
    "## Декораторы\n",
    "\n",
    "- Это способ изменить поведение функции, не меняя ее код\n",
    "- Это функции высшего порядка (т.е. функции, определенные на пространстве функций)"
   ]
  },
  {
   "cell_type": "code",
   "execution_count": 52,
   "metadata": {},
   "outputs": [],
   "source": [
    "def my_decorator(func): # функция my_decorator применяется к функции func\n",
    "    def wrapper(): # функция-обертка, которую возвращает декоратор после применения к func\n",
    "        print('I can do something before calling func')\n",
    "        func()\n",
    "        print('and after func also')\n",
    "    return wrapper"
   ]
  },
  {
   "cell_type": "code",
   "execution_count": 53,
   "metadata": {},
   "outputs": [
    {
     "name": "stdout",
     "output_type": "stream",
     "text": [
      "Function without arguments\n"
     ]
    }
   ],
   "source": [
    "def my_func(): # простая функция\n",
    "    print('Function without arguments')\n",
    "    \n",
    "my_func()"
   ]
  },
  {
   "cell_type": "code",
   "execution_count": 54,
   "metadata": {},
   "outputs": [
    {
     "data": {
      "text/plain": [
       "<function __main__.my_decorator.<locals>.wrapper()>"
      ]
     },
     "execution_count": 54,
     "metadata": {},
     "output_type": "execute_result"
    }
   ],
   "source": [
    "my_decorator(my_func) # примененив функцию my_decorator к my_func получаем ссылку на функцию-обертку"
   ]
  },
  {
   "cell_type": "code",
   "execution_count": 55,
   "metadata": {},
   "outputs": [
    {
     "name": "stdout",
     "output_type": "stream",
     "text": [
      "I can do something before calling func\n",
      "Function without arguments\n",
      "and after func also\n"
     ]
    }
   ],
   "source": [
    "my_decorator(my_func)() # вызываем обертку без аргументов"
   ]
  },
  {
   "cell_type": "code",
   "execution_count": 56,
   "metadata": {},
   "outputs": [],
   "source": [
    "my_func = my_decorator(my_func) # заменяем my_func на ее декорированный вариант"
   ]
  },
  {
   "cell_type": "code",
   "execution_count": 57,
   "metadata": {},
   "outputs": [
    {
     "name": "stdout",
     "output_type": "stream",
     "text": [
      "I can do something before calling func\n",
      "Function without arguments\n",
      "and after func also\n"
     ]
    }
   ],
   "source": [
    "my_func()"
   ]
  },
  {
   "cell_type": "markdown",
   "metadata": {
    "slideshow": {
     "slide_type": "slide"
    }
   },
   "source": [
    "## синтаксис @decorator"
   ]
  },
  {
   "cell_type": "code",
   "execution_count": 58,
   "metadata": {},
   "outputs": [
    {
     "name": "stdout",
     "output_type": "stream",
     "text": [
      "I can do something before calling func\n",
      "Function without arguments\n",
      "and after func also\n"
     ]
    }
   ],
   "source": [
    "# тоже самое, но с использованием синтаксического сахара\n",
    "@my_decorator\n",
    "def my_func(): # простая функция\n",
    "    print('Function without arguments')\n",
    "    \n",
    "my_func()"
   ]
  },
  {
   "cell_type": "markdown",
   "metadata": {
    "slideshow": {
     "slide_type": "slide"
    }
   },
   "source": [
    "## декоратор для функции с аргументами"
   ]
  },
  {
   "cell_type": "code",
   "execution_count": 59,
   "metadata": {},
   "outputs": [],
   "source": [
    "def my_decorator(func): # декоратор с аргументами\n",
    "    def wrapper(*args, **kwargs):\n",
    "        print('I can do something before calling func')\n",
    "        ret = func(*args, **kwargs)\n",
    "        print('and after func also')\n",
    "        return ret\n",
    "    return wrapper"
   ]
  },
  {
   "cell_type": "code",
   "execution_count": 60,
   "metadata": {},
   "outputs": [],
   "source": [
    "@my_decorator\n",
    "def my_func(x, y):\n",
    "    print('my_func(%r, %r)'%(x,y))\n",
    "    return x+y"
   ]
  },
  {
   "cell_type": "code",
   "execution_count": 61,
   "metadata": {},
   "outputs": [
    {
     "name": "stdout",
     "output_type": "stream",
     "text": [
      "I can do something before calling func\n",
      "my_func(1, 5)\n",
      "and after func also\n"
     ]
    },
    {
     "data": {
      "text/plain": [
       "6"
      ]
     },
     "execution_count": 61,
     "metadata": {},
     "output_type": "execute_result"
    }
   ],
   "source": [
    "my_func(1,5)"
   ]
  },
  {
   "cell_type": "markdown",
   "metadata": {
    "slideshow": {
     "slide_type": "slide"
    }
   },
   "source": [
    "## примеры декораторов"
   ]
  },
  {
   "cell_type": "code",
   "execution_count": 62,
   "metadata": {},
   "outputs": [],
   "source": [
    "def benchmark(func):\n",
    "    \"\"\"\n",
    "    Декоратор, измеряющий время выполнения декорируемой функции\n",
    "    \"\"\"\n",
    "    import time\n",
    "    def benchmark_wrapper(*args, **kwargs):\n",
    "        cnt = time.perf_counter()\n",
    "        ret = func(*args, **kwargs)\n",
    "        print(func.__name__, '%.3e'%(time.perf_counter() - cnt), 's')\n",
    "        return ret\n",
    "    return benchmark_wrapper"
   ]
  },
  {
   "cell_type": "code",
   "execution_count": 63,
   "metadata": {},
   "outputs": [],
   "source": [
    "@benchmark\n",
    "def my_func(x, y):\n",
    "    return x+y"
   ]
  },
  {
   "cell_type": "code",
   "execution_count": 64,
   "metadata": {},
   "outputs": [
    {
     "name": "stdout",
     "output_type": "stream",
     "text": [
      "my_func 1.900e-06 s\n"
     ]
    },
    {
     "data": {
      "text/plain": [
       "3"
      ]
     },
     "execution_count": 64,
     "metadata": {},
     "output_type": "execute_result"
    }
   ],
   "source": [
    "my_func(1,2)"
   ]
  },
  {
   "cell_type": "code",
   "execution_count": 65,
   "metadata": {},
   "outputs": [],
   "source": [
    "def logging(func):\n",
    "    \"\"\"\n",
    "    Декоратор, выводящий информацию о вызове функции в файл\n",
    "    \"\"\"\n",
    "    def logging_wrapper(*args, **kwargs):\n",
    "        with open('log.txt', 'at') as f:\n",
    "            res = func(*args, **kwargs)\n",
    "            f.write('%r %r %r\\n'%(func.__name__, args, kwargs))\n",
    "        return res\n",
    "    return logging_wrapper"
   ]
  },
  {
   "cell_type": "code",
   "execution_count": 66,
   "metadata": {},
   "outputs": [],
   "source": [
    "@logging\n",
    "def my_func(x, y):\n",
    "    return x+y"
   ]
  },
  {
   "cell_type": "code",
   "execution_count": 67,
   "metadata": {},
   "outputs": [
    {
     "data": {
      "text/plain": [
       "3"
      ]
     },
     "execution_count": 67,
     "metadata": {},
     "output_type": "execute_result"
    }
   ],
   "source": [
    "my_func(1,2)"
   ]
  },
  {
   "cell_type": "code",
   "execution_count": 68,
   "metadata": {},
   "outputs": [
    {
     "name": "stdout",
     "output_type": "stream",
     "text": [
      "'my_func' (1, 2) {}\n",
      "'counter_wrapper' (0, 0) {}\n",
      "'counter_wrapper' (1, 2) {}\n",
      "'counter_wrapper' (2, 4) {}\n",
      "'counter_wrapper' (3, 6) {}\n",
      "'counter_wrapper' (4, 8) {}\n",
      "'my_func' (1, 2) {}\n"
     ]
    }
   ],
   "source": [
    "!TYPE log.txt"
   ]
  },
  {
   "cell_type": "code",
   "execution_count": 69,
   "metadata": {},
   "outputs": [],
   "source": [
    "def counter(func):\n",
    "    \"\"\"\n",
    "    Декоратор, подсчитывающий количество вызовов функции\n",
    "    \"\"\"\n",
    "    def counter_wrapper(*args, **kwargs):\n",
    "        counter_wrapper.count += 1 # функция - объект, поэтому можно ему добавить атрибут\n",
    "        res = func(*args, **kwargs)\n",
    "        print(\"%r была вызвана %r раз(а)\" %(func.__name__, counter_wrapper.count))\n",
    "        return res\n",
    "    counter_wrapper.count = 0\n",
    "    return counter_wrapper"
   ]
  },
  {
   "cell_type": "code",
   "execution_count": 70,
   "metadata": {},
   "outputs": [],
   "source": [
    "@counter\n",
    "def my_func(x, y):\n",
    "    return x+y"
   ]
  },
  {
   "cell_type": "code",
   "execution_count": 71,
   "metadata": {
    "scrolled": true
   },
   "outputs": [
    {
     "name": "stdout",
     "output_type": "stream",
     "text": [
      "'my_func' была вызвана 1 раз(а)\n"
     ]
    },
    {
     "data": {
      "text/plain": [
       "3"
      ]
     },
     "execution_count": 71,
     "metadata": {},
     "output_type": "execute_result"
    }
   ],
   "source": [
    "my_func(1,2)"
   ]
  },
  {
   "cell_type": "code",
   "execution_count": 72,
   "metadata": {},
   "outputs": [
    {
     "name": "stdout",
     "output_type": "stream",
     "text": [
      "'my_func' была вызвана 2 раз(а)\n",
      "'my_func' была вызвана 3 раз(а)\n",
      "'my_func' была вызвана 4 раз(а)\n",
      "'my_func' была вызвана 5 раз(а)\n",
      "'my_func' была вызвана 6 раз(а)\n"
     ]
    }
   ],
   "source": [
    "for i in range(5):\n",
    "    my_func(i,i*2)"
   ]
  },
  {
   "cell_type": "code",
   "execution_count": 73,
   "metadata": {},
   "outputs": [
    {
     "data": {
      "text/plain": [
       "6"
      ]
     },
     "execution_count": 73,
     "metadata": {},
     "output_type": "execute_result"
    }
   ],
   "source": [
    "my_func.count # атрибут (поле) count является публичным"
   ]
  },
  {
   "cell_type": "code",
   "execution_count": 74,
   "metadata": {},
   "outputs": [],
   "source": [
    "@logging\n",
    "@counter\n",
    "@benchmark\n",
    "def my_func(x, y):\n",
    "    return x+y"
   ]
  },
  {
   "cell_type": "code",
   "execution_count": 75,
   "metadata": {},
   "outputs": [
    {
     "name": "stdout",
     "output_type": "stream",
     "text": [
      "my_func 1.900e-06 s\n",
      "'benchmark_wrapper' была вызвана 1 раз(а)\n",
      "my_func 2.000e-06 s\n",
      "'benchmark_wrapper' была вызвана 2 раз(а)\n",
      "my_func 2.400e-06 s\n",
      "'benchmark_wrapper' была вызвана 3 раз(а)\n",
      "my_func 2.700e-06 s\n",
      "'benchmark_wrapper' была вызвана 4 раз(а)\n",
      "my_func 2.000e-06 s\n",
      "'benchmark_wrapper' была вызвана 5 раз(а)\n"
     ]
    }
   ],
   "source": [
    "for i in range(5):\n",
    "    my_func(i,i*2)"
   ]
  },
  {
   "cell_type": "code",
   "execution_count": 76,
   "metadata": {},
   "outputs": [
    {
     "name": "stdout",
     "output_type": "stream",
     "text": [
      "'my_func' (1, 2) {}\n",
      "'counter_wrapper' (0, 0) {}\n",
      "'counter_wrapper' (1, 2) {}\n",
      "'counter_wrapper' (2, 4) {}\n",
      "'counter_wrapper' (3, 6) {}\n",
      "'counter_wrapper' (4, 8) {}\n",
      "'my_func' (1, 2) {}\n",
      "'counter_wrapper' (0, 0) {}\n",
      "'counter_wrapper' (1, 2) {}\n",
      "'counter_wrapper' (2, 4) {}\n",
      "'counter_wrapper' (3, 6) {}\n",
      "'counter_wrapper' (4, 8) {}\n"
     ]
    }
   ],
   "source": [
    "!TYPE log.txt"
   ]
  },
  {
   "cell_type": "markdown",
   "metadata": {
    "slideshow": {
     "slide_type": "slide"
    }
   },
   "source": [
    "## Вопросы и дополнения к лекции"
   ]
  },
  {
   "cell_type": "markdown",
   "metadata": {},
   "source": [
    "\n",
    "[Classes - Python 3.7 documentation](https://docs.python.org/3/tutorial/classes.html)\n",
    "\n",
    "[Разница между `__repr__` и `__str__`](https://stackoverflow.com/questions/1436703/difference-between-str-and-repr)\n",
    "\n",
    "[Наследование свойств](https://stackoverflow.com/questions/237432/python-properties-and-inheritance)\n",
    "\n",
    "[Декораторы](https://pythonworld.ru/osnovy/dekoratory.html)"
   ]
  },
  {
   "cell_type": "code",
   "execution_count": null,
   "metadata": {},
   "outputs": [],
   "source": []
  }
 ],
 "metadata": {
  "celltoolbar": "Slideshow",
  "kernelspec": {
   "display_name": "Python 3",
   "language": "python",
   "name": "python3"
  },
  "language_info": {
   "codemirror_mode": {
    "name": "ipython",
    "version": 3
   },
   "file_extension": ".py",
   "mimetype": "text/x-python",
   "name": "python",
   "nbconvert_exporter": "python",
   "pygments_lexer": "ipython3",
   "version": "3.7.0"
  }
 },
 "nbformat": 4,
 "nbformat_minor": 2
}
