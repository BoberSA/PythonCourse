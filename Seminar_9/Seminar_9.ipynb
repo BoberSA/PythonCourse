{
 "cells": [
  {
   "cell_type": "markdown",
   "metadata": {},
   "source": [
    "<!-- <div style='float:right'><img width=200 src=\"hse-logo.jpg\" alt=\"HSE logo\"></img></div> -->\n",
    "<div style='float:left'><img width=400 src=\"python_logo.png\" alt=\"Python\"></img></div>\n",
    "\n",
    "<div style='float:right'>\n",
    "\n",
    "<h1 align='center'>Язык программирования Python</h1>\n",
    "\n",
    "<h2 align='right'>Бобер Станислав Алексеевич</h2>\n",
    "<h3 align='right'>Ст. преп. Департамента Прикладной Математики</h3>\n",
    "<h3 align='right'>e-mail: sbober@hse.ru, stas.bober@gmail.com</h3>\n",
    "</div>"
   ]
  },
  {
   "cell_type": "markdown",
   "metadata": {},
   "source": [
    "# Семинар 9\n",
    "\n",
    "Теоретическая часть:\n",
    "[Лекция 8](https://github.com/BoberSA/PythonCourse/blob/master/Lecture_8/Lecture_8.ipynb)"
   ]
  },
  {
   "cell_type": "markdown",
   "metadata": {},
   "source": [
    "# Темы семинара:\n",
    "\n",
    "### 0. Spyder\n",
    "### 1. Оптимизация в Python\n",
    "### 2. Параллельные расчеты"
   ]
  },
  {
   "cell_type": "markdown",
   "metadata": {},
   "source": [
    "### Задание 0. Множество Мандельброта\n",
    "\n",
    "Рассчитать и изобразить [множество Мандельброта](https://ru.wikipedia.org/wiki/Множество_Мандельброта) на комплексной плоскости.\n",
    "\n",
    "Программу реализовать в среде **Spyder**.\n",
    "\n",
    "1. [0.3] Написать функцию mandelbrot для расчета рекуррентного отношения на заданное число итераций, до достижения окружности радиуса R=10. Функция должна возвращать количество итераций до достижения окружности или до истечения заданного числа итераций. Измерить время выполнения. Оптимизировать ее при помощи Numba. Измерить время выполнения. [0.3]\n",
    "2. [0.3] Написать функцию mbr_xy, которая вычислит функцию mandelbrot на заданной прямоугольной решетке комплексной плоскости. Оптимизировать при помощи Numba. Вычислить mbr_xy для решетки из 200x200 точек на прямоугольнике [-1.5,0.5]x[-1,1]. Изобразить полученное множество на графике.\n",
    "3. [0.4] При помощи модуля multiprocessing распараллелить расчет на 4 ядра, разбив прямоугольник [-1.5,0.5]x[-1,1] на 4 равные части, в каждой из которых сетка состоит из 500х500 точек. Изобразить полученное множество на графике.\n"
   ]
  },
  {
   "cell_type": "code",
   "execution_count": null,
   "metadata": {},
   "outputs": [],
   "source": []
  }
 ],
 "metadata": {
  "kernelspec": {
   "display_name": "Python 3",
   "language": "python",
   "name": "python3"
  },
  "language_info": {
   "codemirror_mode": {
    "name": "ipython",
    "version": 3
   },
   "file_extension": ".py",
   "mimetype": "text/x-python",
   "name": "python",
   "nbconvert_exporter": "python",
   "pygments_lexer": "ipython3",
   "version": "3.7.0"
  }
 },
 "nbformat": 4,
 "nbformat_minor": 2
}
