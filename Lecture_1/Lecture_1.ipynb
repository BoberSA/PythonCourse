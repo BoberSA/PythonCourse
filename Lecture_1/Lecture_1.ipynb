{
 "cells": [
  {
   "cell_type": "markdown",
   "metadata": {
    "slideshow": {
     "slide_type": "slide"
    }
   },
   "source": [
    "<!-- <div style='float:right'><img width=200 src=\"hse-logo.jpg\" alt=\"HSE logo\"></img></div> -->\n",
    "<div style='float:left'><img width=400 src=\"python_logo.png\" alt=\"Python\"></img></div>\n",
    "\n",
    "<div style='float:right'>\n",
    "\n",
    "<h1 align='center'>Язык программирования Python</h1>\n",
    "\n",
    "<h2 align='right'>Бобер Станислав Алексеевич</h2>\n",
    "<h3 align='right'>Ст. преп. Департамента Прикладной Математики</h3>\n",
    "<h3 align='right'>e-mail: sbober@hse.ru, stas.bober@gmail.com</h3>\n",
    "</div>\n"
   ]
  },
  {
   "cell_type": "markdown",
   "metadata": {
    "slideshow": {
     "slide_type": "-"
    }
   },
   "source": [
    "<h1 align='center'>Лекция 1. Процедурное и функциональное программирование</h1>"
   ]
  },
  {
   "cell_type": "markdown",
   "metadata": {
    "slideshow": {
     "slide_type": "slide"
    }
   },
   "source": [
    "## Процедурное программирование - всё есть процедура"
   ]
  },
  {
   "cell_type": "code",
   "execution_count": null,
   "metadata": {
    "slideshow": {
     "slide_type": "-"
    }
   },
   "outputs": [],
   "source": [
    "# Процедуры в Python называются функциями\n",
    "# Основной синтаксис функции\n",
    "\n",
    "# def имя_функции(арг0, ..., аргN, [, имен_арг0=зн0, имен_арг1=зн1, ... имен_аргM=знM]):\n",
    "#    тело_функции_с_отступом_на_одну_табуляцию\n"
   ]
  },
  {
   "cell_type": "markdown",
   "metadata": {
    "slideshow": {
     "slide_type": "slide"
    }
   },
   "source": [
    "### Пример функции с позиционными аргументами"
   ]
  },
  {
   "cell_type": "code",
   "execution_count": 36,
   "metadata": {},
   "outputs": [
    {
     "name": "stdout",
     "output_type": "stream",
     "text": [
      "1 2\n",
      "2 1\n"
     ]
    },
    {
     "ename": "TypeError",
     "evalue": "print_ab() missing 1 required positional argument: 'b'",
     "output_type": "error",
     "traceback": [
      "\u001b[1;31m---------------------------------------------------------------------------\u001b[0m",
      "\u001b[1;31mTypeError\u001b[0m                                 Traceback (most recent call last)",
      "\u001b[1;32m<ipython-input-36-0feb73b7762e>\u001b[0m in \u001b[0;36m<module>\u001b[1;34m()\u001b[0m\n\u001b[0;32m      5\u001b[0m \u001b[0mprint_ab\u001b[0m\u001b[1;33m(\u001b[0m\u001b[1;36m1\u001b[0m\u001b[1;33m,\u001b[0m \u001b[1;36m2\u001b[0m\u001b[1;33m)\u001b[0m\u001b[1;33m\u001b[0m\u001b[0m\n\u001b[0;32m      6\u001b[0m \u001b[0mprint_ab\u001b[0m\u001b[1;33m(\u001b[0m\u001b[1;36m2\u001b[0m\u001b[1;33m,\u001b[0m \u001b[1;36m1\u001b[0m\u001b[1;33m)\u001b[0m \u001b[1;31m# позиции важны\u001b[0m\u001b[1;33m\u001b[0m\u001b[0m\n\u001b[1;32m----> 7\u001b[1;33m \u001b[0mprint_ab\u001b[0m\u001b[1;33m(\u001b[0m\u001b[1;36m3\u001b[0m\u001b[1;33m)\u001b[0m \u001b[1;31m# ошибка, одного позиционного аргумента не хватает\u001b[0m\u001b[1;33m\u001b[0m\u001b[0m\n\u001b[0m",
      "\u001b[1;31mTypeError\u001b[0m: print_ab() missing 1 required positional argument: 'b'"
     ]
    }
   ],
   "source": [
    "def print_ab(a, b):\n",
    "    print(a, b)\n",
    "    \n",
    "print_ab(1, 2)\n",
    "print_ab(2, 1) # позиции важны\n",
    "print_ab(3) # ошибка, одного позиционного аргумента не хватает"
   ]
  },
  {
   "cell_type": "markdown",
   "metadata": {
    "slideshow": {
     "slide_type": "slide"
    }
   },
   "source": [
    "### Пример функции с именованными аргументами"
   ]
  },
  {
   "cell_type": "code",
   "execution_count": 38,
   "metadata": {},
   "outputs": [
    {
     "name": "stdout",
     "output_type": "stream",
     "text": [
      "3 4\n",
      "3 4\n",
      "5 2\n",
      "1 2\n"
     ]
    }
   ],
   "source": [
    "def print_ab(a=1, b=2):\n",
    "    print(a, b)\n",
    "    \n",
    "print_ab(a=3, b=4)\n",
    "print_ab(b=4, a=3) # позиции не важны\n",
    "print_ab(a=5) # можно опускать один аргумент\n",
    "print_ab() # можно опускать все аргументы"
   ]
  },
  {
   "cell_type": "markdown",
   "metadata": {
    "slideshow": {
     "slide_type": "slide"
    }
   },
   "source": [
    "### Пример функции c любым числом аргументов"
   ]
  },
  {
   "cell_type": "code",
   "execution_count": 41,
   "metadata": {},
   "outputs": [
    {
     "name": "stdout",
     "output_type": "stream",
     "text": [
      "arg[0]=1\n",
      "arg[1]=2\n",
      "kwarg[x]=4\n",
      "kwarg[y]=5\n"
     ]
    }
   ],
   "source": [
    "def print_all(*args, **kwargs):\n",
    "    for i, arg in enumerate(args):\n",
    "        print('arg[',i,']=',arg,sep='')\n",
    "    for keyword, value in kwargs.items():\n",
    "        print('kwarg[',keyword,']=',value,sep='')\n",
    "        \n",
    "print_all(1, 2, x=4, y=5)\n",
    "print_all() # ошибки нет"
   ]
  },
  {
   "cell_type": "markdown",
   "metadata": {
    "slideshow": {
     "slide_type": "slide"
    }
   },
   "source": [
    "### Передача списка и словаря аргументов"
   ]
  },
  {
   "cell_type": "code",
   "execution_count": 42,
   "metadata": {},
   "outputs": [
    {
     "name": "stdout",
     "output_type": "stream",
     "text": [
      "arg[0]=0\n",
      "arg[1]=1\n",
      "arg[2]=2\n",
      "arg[3]=3\n",
      "arg[4]=4\n",
      "arg[5]=5\n",
      "arg[6]=6\n",
      "arg[7]=7\n",
      "arg[8]=8\n",
      "arg[9]=9\n"
     ]
    }
   ],
   "source": [
    "# Синтаксис \n",
    "# def print_all(*args, **kwargs)\n",
    "# подразумевает, что в качестве позиционных аргументов будет\n",
    "# передан итерируемый объект, а в качестве именованных - словарь\n",
    "\n",
    "\n",
    "lst = list(range(10))\n",
    "print_all(*lst)\n"
   ]
  },
  {
   "cell_type": "code",
   "execution_count": 113,
   "metadata": {},
   "outputs": [
    {
     "name": "stdout",
     "output_type": "stream",
     "text": [
      "{'a': (28, 2), 'b': (72, 61), 'c': (50, 42), 'd': (80, 64), 'e': (57, 71), 'f': (2, 44), 'g': (23, 80), 'h': (99, 65)}\n",
      "kwarg[a]=(28, 2)\n",
      "kwarg[b]=(72, 61)\n",
      "kwarg[c]=(50, 42)\n",
      "kwarg[d]=(80, 64)\n",
      "kwarg[e]=(57, 71)\n",
      "kwarg[f]=(2, 44)\n",
      "kwarg[g]=(23, 80)\n",
      "kwarg[h]=(99, 65)\n"
     ]
    }
   ],
   "source": [
    "print(d)\n",
    "\n",
    "print_all(**d)\n"
   ]
  },
  {
   "cell_type": "code",
   "execution_count": 45,
   "metadata": {
    "slideshow": {
     "slide_type": "slide"
    }
   },
   "outputs": [
    {
     "name": "stdout",
     "output_type": "stream",
     "text": [
      "arg[0]=0\n",
      "arg[1]=1\n",
      "arg[2]=2\n",
      "arg[3]=3\n",
      "arg[4]=4\n",
      "arg[5]=5\n",
      "arg[6]=6\n",
      "arg[7]=7\n",
      "arg[8]=8\n",
      "arg[9]=9\n",
      "kwarg[a]=(28, 2)\n",
      "kwarg[b]=(72, 61)\n",
      "kwarg[c]=(50, 42)\n",
      "kwarg[d]=(80, 64)\n",
      "kwarg[e]=(57, 71)\n",
      "kwarg[f]=(2, 44)\n",
      "kwarg[g]=(23, 80)\n",
      "kwarg[h]=(99, 65)\n"
     ]
    }
   ],
   "source": [
    "# оба способа сразу\n",
    "print_all(*lst, **d)\n"
   ]
  },
  {
   "cell_type": "markdown",
   "metadata": {
    "slideshow": {
     "slide_type": "slide"
    }
   },
   "source": [
    "### Функция, возвращающая функцию"
   ]
  },
  {
   "cell_type": "code",
   "execution_count": 108,
   "metadata": {},
   "outputs": [
    {
     "data": {
      "text/plain": [
       "'Это предложение заканчивается точкой.'"
      ]
     },
     "execution_count": 108,
     "metadata": {},
     "output_type": "execute_result"
    }
   ],
   "source": [
    "def adder(a):\n",
    "    return lambda x:x+a\n",
    "\n",
    "dotter = adder('.')\n",
    "dotter('Это предложение заканчивается точкой')\n"
   ]
  },
  {
   "cell_type": "markdown",
   "metadata": {
    "slideshow": {
     "slide_type": "slide"
    }
   },
   "source": [
    "## Функциональное программирование - всё есть функция"
   ]
  },
  {
   "cell_type": "markdown",
   "metadata": {
    "slideshow": {
     "slide_type": "slide"
    }
   },
   "source": [
    "## Нефункциональная функция"
   ]
  },
  {
   "cell_type": "code",
   "execution_count": 7,
   "metadata": {},
   "outputs": [
    {
     "name": "stdout",
     "output_type": "stream",
     "text": [
      "-0.025\n",
      "-0.05\n"
     ]
    }
   ],
   "source": [
    "# Использует глобальную переменную, которая может изменяться между вызовами функции\n",
    "\n",
    "mu = 0.1\n",
    "\n",
    "def gravity(m, r):\n",
    "    return -mu*m/r**2\n",
    "\n",
    "print(gravity(1, 2))\n",
    "mu = 0.2\n",
    "print(gravity(1, 2))\n"
   ]
  },
  {
   "cell_type": "markdown",
   "metadata": {
    "slideshow": {
     "slide_type": "slide"
    }
   },
   "source": [
    "## Еще одна нефункциональная функция"
   ]
  },
  {
   "cell_type": "code",
   "execution_count": 8,
   "metadata": {
    "slideshow": {
     "slide_type": "-"
    }
   },
   "outputs": [
    {
     "name": "stdout",
     "output_type": "stream",
     "text": [
      "0\n",
      "2\n"
     ]
    }
   ],
   "source": [
    "# Изменяет глобальную переменную\n",
    "\n",
    "links = 0\n",
    "\n",
    "def link_increment(c):\n",
    "    global links\n",
    "    links += c\n",
    "    \n",
    "print(links)\n",
    "link_increment(2)\n",
    "print(links)\n"
   ]
  },
  {
   "cell_type": "markdown",
   "metadata": {
    "slideshow": {
     "slide_type": "slide"
    }
   },
   "source": [
    "## Самая страшная нефункциональная функция!"
   ]
  },
  {
   "cell_type": "code",
   "execution_count": 10,
   "metadata": {
    "slideshow": {
     "slide_type": "-"
    }
   },
   "outputs": [
    {
     "name": "stdout",
     "output_type": "stream",
     "text": [
      "[3, 2, 1]\n",
      "9\n",
      "[2, 1]\n"
     ]
    }
   ],
   "source": [
    "lst = [3, 2, 1]\n",
    "\n",
    "def square(lst):\n",
    "    return lst.pop(0)**2\n",
    "\n",
    "print(lst)\n",
    "print(square(lst))\n",
    "print(lst)\n"
   ]
  },
  {
   "cell_type": "markdown",
   "metadata": {
    "slideshow": {
     "slide_type": "slide"
    }
   },
   "source": [
    "## Функциональная функция!"
   ]
  },
  {
   "cell_type": "code",
   "execution_count": null,
   "metadata": {
    "slideshow": {
     "slide_type": "-"
    }
   },
   "outputs": [],
   "source": [
    "# Функциональная функция\n",
    "# Полностью зависит только от своих аргументов!\n",
    "\n",
    "# *********************************************\n",
    "\n",
    "def gforce(mu, m, r):\n",
    "    return -mu*m/r**2\n",
    "\n",
    "# *********************************************\n"
   ]
  },
  {
   "cell_type": "markdown",
   "metadata": {
    "slideshow": {
     "slide_type": "slide"
    }
   },
   "source": [
    "## zip"
   ]
  },
  {
   "cell_type": "code",
   "execution_count": 106,
   "metadata": {
    "slideshow": {
     "slide_type": "-"
    }
   },
   "outputs": [
    {
     "name": "stdout",
     "output_type": "stream",
     "text": [
      "[('a', 3), ('b', 5), ('c', 7), ('d', 4), ('e', 9), ('f', 1)]\n",
      "[('a', 3), ('b', 5), ('c', 7), ('d', 4), ('e', 9)]\n"
     ]
    }
   ],
   "source": [
    "# функция zip создает генератор кортежей из переданных ей последовательностей (итерируемых объектов)\n",
    "\n",
    "print(list(zip('abcdef', [3, 5, 7, 4, 9, 1])))\n",
    "print(list(zip('abcdef', [3, 5, 7, 4, 9]))) # не хватает элемента в списке целых чисел\n"
   ]
  },
  {
   "cell_type": "markdown",
   "metadata": {
    "slideshow": {
     "slide_type": "-"
    }
   },
   "source": [
    "## enumerate"
   ]
  },
  {
   "cell_type": "code",
   "execution_count": 102,
   "metadata": {
    "slideshow": {
     "slide_type": "-"
    }
   },
   "outputs": [
    {
     "data": {
      "text/plain": [
       "[(0, 'a'), (1, 'b'), (2, 'c'), (3, 'd'), (4, 'e'), (5, 'f')]"
      ]
     },
     "execution_count": 102,
     "metadata": {},
     "output_type": "execute_result"
    }
   ],
   "source": [
    "# функция enumerate похожа по своей сути на zip(range(len(x)), x)\n",
    "\n",
    "list(enumerate('abcdef'))\n"
   ]
  },
  {
   "cell_type": "markdown",
   "metadata": {
    "slideshow": {
     "slide_type": "slide"
    }
   },
   "source": [
    "## Лямбда-функции"
   ]
  },
  {
   "cell_type": "code",
   "execution_count": 29,
   "metadata": {},
   "outputs": [
    {
     "name": "stdout",
     "output_type": "stream",
     "text": [
      "5^2= 25\n",
      "item #1 = 2\n"
     ]
    }
   ],
   "source": [
    "# Лямбда-функции - это короткие безымянные функции\n",
    "# Синтакис\n",
    "# lambda арг0,...,аргN : выражение_результат_вычисления_которого_вернет_эта_функция\n",
    "\n",
    "sqr = lambda x : x**2\n",
    "print('5^2=', sqr(5))\n",
    "\n",
    "item_getter_1 = lambda obj : obj[1]\n",
    "print('item #1 =', item_getter_1((1,2,3)))\n"
   ]
  },
  {
   "cell_type": "code",
   "execution_count": 31,
   "metadata": {
    "slideshow": {
     "slide_type": "slide"
    }
   },
   "outputs": [
    {
     "data": {
      "text/plain": [
       "{'a': (28, 2),\n",
       " 'b': (72, 61),\n",
       " 'c': (50, 42),\n",
       " 'd': (80, 64),\n",
       " 'e': (57, 71),\n",
       " 'f': (2, 44),\n",
       " 'g': (23, 80),\n",
       " 'h': (99, 65)}"
      ]
     },
     "execution_count": 31,
     "metadata": {},
     "output_type": "execute_result"
    }
   ],
   "source": [
    "# Пример использования лямбда-функции - сортировка словаря по сложному условию\n",
    "\n",
    "# создание словаря с ключами - символами, значениями - кортежами из двух целых чисел\n",
    "import random\n",
    "keys = 'abcdefgh' # ключи\n",
    "values = [(random.randrange(0, 100), random.randrange(0, 100)) for _ in keys] # значения\n",
    "\n",
    "d = dict(zip(keys, values))\n",
    "d\n"
   ]
  },
  {
   "cell_type": "code",
   "execution_count": 114,
   "metadata": {
    "slideshow": {
     "slide_type": "-"
    }
   },
   "outputs": [
    {
     "data": {
      "text/plain": [
       "[('h', (99, 65)),\n",
       " ('d', (80, 64)),\n",
       " ('b', (72, 61)),\n",
       " ('e', (57, 71)),\n",
       " ('g', (23, 80)),\n",
       " ('c', (50, 42)),\n",
       " ('f', (2, 44)),\n",
       " ('a', (28, 2))]"
      ]
     },
     "execution_count": 114,
     "metadata": {},
     "output_type": "execute_result"
    }
   ],
   "source": [
    "# сортировка словаря по сумме элементов кортежей в порядке убывания\n",
    "\n",
    "sorted(d.items(), key=lambda t:sum(t[1]), reverse=True)\n"
   ]
  },
  {
   "cell_type": "markdown",
   "metadata": {
    "slideshow": {
     "slide_type": "slide"
    }
   },
   "source": [
    "## Функция map"
   ]
  },
  {
   "cell_type": "code",
   "execution_count": 53,
   "metadata": {
    "slideshow": {
     "slide_type": "-"
    }
   },
   "outputs": [
    {
     "name": "stdout",
     "output_type": "stream",
     "text": [
      "[1, 9, 12, 3, 13, 8, 9, 3, 12, 7, 8, 8, 6, 12, 8, 3, 3, 9, 6, 7, 3, 4, 8, 2, 7, 10, 4, 6, 3, 6, 1, 9, 11, 6, 6, 1, 4, 4, 1, 4, 6, 10, 11, 7, 16]\n"
     ]
    }
   ],
   "source": [
    "# создает итератор, который позволяет вычислить функцию на всех элементах итерируемого(ых) объекта(ов)\n",
    "\n",
    "# синтаксис\n",
    "# map(ссылка_на_функцию_от_N_позиционных_аргументов, итер_объект1, ..., итер_объектN)\n",
    "\n",
    "s = '''— Вообще-то обязательно.\n",
    "Это экономическое понятие, известное как «позиционное благо»,\n",
    "согласно которому объект представляет ценность для его владельца\n",
    "только потому, что этим объектом не владеют остальные. Этот термин\n",
    "был введен в обращение экономистом Фредом Хиршем в 1976 году и стал\n",
    "точнее определять разговорный вариант «Накуси-Выкуси».'''\n",
    "\n",
    "# посчитать длины всех слов в строке s\n",
    "print(list(map(len, s.split())))\n"
   ]
  },
  {
   "cell_type": "code",
   "execution_count": 58,
   "metadata": {
    "slideshow": {
     "slide_type": "slide"
    }
   },
   "outputs": [
    {
     "name": "stdout",
     "output_type": "stream",
     "text": [
      "Введите дествительные числа:\n",
      "7.1 3.8 7e4 10000\n",
      "[7.1, 3.8, 70000.0, 10000.0]\n"
     ]
    }
   ],
   "source": [
    "# еще пример\n",
    "# преобразование полученной из потока ввода строки в список действительных чисел\n",
    "print('Введите дествительные числа:')\n",
    "print(list(map(float, input().split())))\n"
   ]
  },
  {
   "cell_type": "code",
   "execution_count": 63,
   "metadata": {},
   "outputs": [
    {
     "name": "stdout",
     "output_type": "stream",
     "text": [
      "USD: [69, 35, 25, 29, 66, 34, 91, 55, 60, 44]\n",
      "RUB: [4830, 2450, 1750, 2030, 4620, 2380, 6370, 3850, 4200, 3080]\n"
     ]
    }
   ],
   "source": [
    "# преобразовать величины из одной валюты в другую\n",
    "\n",
    "usd2rub = lambda x:x*70\n",
    "usd = [random.randrange(10, 100) for _ in range(10)]\n",
    "rub = list(map(usd2rub, usd))\n",
    "print('USD:', usd)\n",
    "print('RUB:', rub)\n"
   ]
  },
  {
   "cell_type": "markdown",
   "metadata": {
    "slideshow": {
     "slide_type": "slide"
    }
   },
   "source": [
    "## Функция reduce"
   ]
  },
  {
   "cell_type": "code",
   "execution_count": 67,
   "metadata": {
    "slideshow": {
     "slide_type": "-"
    }
   },
   "outputs": [
    {
     "name": "stdout",
     "output_type": "stream",
     "text": [
      "6\n",
      "0\n"
     ]
    }
   ],
   "source": [
    "# вынесена в модуль functools\n",
    "from functools import reduce\n",
    "\n",
    "# позволяет применить функцию двух аргументов к\n",
    "# ранее накопленному результату и текущему элементу последовательности\n",
    "\n",
    "# посчитать сумму элементов списка\n",
    "print(reduce(lambda a,x:a+x, [1,2,3]))\n",
    "print(reduce(lambda a,x:a+x, [], 0)) # если убрать 0, будет ошибка\n"
   ]
  },
  {
   "cell_type": "code",
   "execution_count": 72,
   "metadata": {
    "slideshow": {
     "slide_type": "slide"
    }
   },
   "outputs": [
    {
     "name": "stdout",
     "output_type": "stream",
     "text": [
      "— Вообще-то обязательно.\n",
      "Это экономическое понятие, известное как «позиционное благо»,\n",
      "согласно которому объект представляет ценность для его владельца\n",
      "только потому, что этим объектом не владеют остальные. Этот термин\n",
      "был введен в обращение экономистом Фредом Хиршем в 1976 году и стал\n",
      "точнее определять разговорный вариант «Накуси-Выкуси».\n",
      "\n",
      "Cредняя длина слова: 6.6\n"
     ]
    }
   ],
   "source": [
    "# пример\n",
    "# посчитать среднюю длину слова в строке s\n",
    "print(s)\n",
    "l = s.split()\n",
    "print('\\nCредняя длина слова:', reduce(lambda a,x:a+x, map(len, l), 0)/len(l))\n"
   ]
  },
  {
   "cell_type": "code",
   "execution_count": 81,
   "metadata": {},
   "outputs": [
    {
     "name": "stdout",
     "output_type": "stream",
     "text": [
      " Вообще-то обязательно\n",
      "Это экономическое понятие известное как позиционное благо\n",
      "согласно которому объект представляет ценность для его владельца\n",
      "только потому что этим объектом не владеют остальные Этот термин\n",
      "был введен в обращение экономистом Фредом Хиршем в 1976 году и стал\n",
      "точнее определять разговорный вариант Накуси-Выкуси\n"
     ]
    }
   ],
   "source": [
    "# еще пример\n",
    "# удалить пунктуацию и лишние символы из строки\n",
    "print(reduce(lambda s, r:s.replace(r, ''), '—,.«»', s))\n"
   ]
  },
  {
   "cell_type": "code",
   "execution_count": 98,
   "metadata": {
    "slideshow": {
     "slide_type": "slide"
    }
   },
   "outputs": [
    {
     "name": "stdout",
     "output_type": "stream",
     "text": [
      "functional: 16.254965320796547\n",
      "imperative: 16.254965320796547\n",
      "     mixed: 16.254965320796547\n"
     ]
    }
   ],
   "source": [
    "# еще пример\n",
    "# посчитать длину ломаной линии\n",
    "# списки X, Y содержат соответствующие координаты точек\n",
    "import math\n",
    "X, Y = [3., 6., 8., 4.], [-1., 6., 7., 2.]\n",
    "\n",
    "dl = lambda x,y:math.sqrt(x**2+y**2)\n",
    "sub = lambda x,y:x-y\n",
    "\n",
    "# функциональный вариант\n",
    "lf = reduce(lambda a,x:a+dl(*x), zip(map(sub,X[1:],X[:-1]),map(sub,Y[1:],Y[:-1])), 0)\n",
    "\n",
    "# императивный\n",
    "li, x0, y0 = 0, X[0], Y[0]\n",
    "for i, x1 in enumerate(X[1:]):\n",
    "    li += dl(x1-x0, Y[i+1]-y0)\n",
    "    x0, y0 = x1, Y[i+1]\n",
    "\n",
    "# 'смешанный'\n",
    "lm = 0\n",
    "for x0, x1, y0, y1 in zip(X[1:], X[:-1], Y[1:], Y[:-1]):\n",
    "    lm += dl(x1-x0, y1-y0)\n",
    "    \n",
    "print('functional:', lf)\n",
    "print('imperative:', li)\n",
    "print('     mixed:', lm)\n"
   ]
  },
  {
   "cell_type": "markdown",
   "metadata": {
    "slideshow": {
     "slide_type": "slide"
    }
   },
   "source": [
    "## Функция filter"
   ]
  },
  {
   "cell_type": "code",
   "execution_count": 112,
   "metadata": {
    "slideshow": {
     "slide_type": "-"
    }
   },
   "outputs": [
    {
     "name": "stdout",
     "output_type": "stream",
     "text": [
      "— Вообще-то обязательно.\n",
      "Это экономическое понятие, известное как «позиционное благо»,\n",
      "согласно которому объект представляет ценность для его владельца\n",
      "только потому, что этим объектом не владеют остальные. Этот термин\n",
      "был введен в обращение экономистом Фредом Хиршем в 1976 году и стал\n",
      "точнее определять разговорный вариант «Накуси-Выкуси».\n"
     ]
    },
    {
     "data": {
      "text/plain": [
       "'— как представляет для владельца этим не владеют термин был введен в Хиршем в 1976 и стал вариант «Накуси-Выкуси».'"
      ]
     },
     "execution_count": 112,
     "metadata": {},
     "output_type": "execute_result"
    }
   ],
   "source": [
    "# позволяеть отфильтровать последовательность на основе сложных условий\n",
    "# создает итератор\n",
    "# синтаксис\n",
    "# filter(булева_функция_проверяющая_условия, последовательность_подвергаемая_фильтрации)\n",
    "\n",
    "print(s)\n",
    "\n",
    "# из строки s удалить все слова, в которых есть буква 'о'\n",
    "\n",
    "' '.join(filter(lambda x:not 'о' in x, s.split()))\n"
   ]
  },
  {
   "cell_type": "markdown",
   "metadata": {
    "slideshow": {
     "slide_type": "slide"
    }
   },
   "source": [
    "## Вопросы и дополнения к лекции"
   ]
  },
  {
   "cell_type": "markdown",
   "metadata": {},
   "source": [
    "\n",
    "[Мощная библиотека для функционального программирования на Python](https://github.com/kachayev/fn.py)"
   ]
  },
  {
   "cell_type": "code",
   "execution_count": null,
   "metadata": {},
   "outputs": [],
   "source": []
  },
  {
   "cell_type": "code",
   "execution_count": null,
   "metadata": {},
   "outputs": [],
   "source": []
  }
 ],
 "metadata": {
  "celltoolbar": "Slideshow",
  "kernelspec": {
   "display_name": "Python 3",
   "language": "python",
   "name": "python3"
  },
  "language_info": {
   "codemirror_mode": {
    "name": "ipython",
    "version": 3
   },
   "file_extension": ".py",
   "mimetype": "text/x-python",
   "name": "python",
   "nbconvert_exporter": "python",
   "pygments_lexer": "ipython3",
   "version": "3.6.6"
  }
 },
 "nbformat": 4,
 "nbformat_minor": 2
}
