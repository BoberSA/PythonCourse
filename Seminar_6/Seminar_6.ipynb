{
 "cells": [
  {
   "cell_type": "markdown",
   "metadata": {},
   "source": [
    "<!-- <div style='float:right'><img width=200 src=\"hse-logo.jpg\" alt=\"HSE logo\"></img></div> -->\n",
    "<div style='float:left'><img width=400 src=\"python_logo.png\" alt=\"Python\"></img></div>\n",
    "\n",
    "<div style='float:right'>\n",
    "\n",
    "<h1 align='center'>Язык программирования Python</h1>\n",
    "\n",
    "<h2 align='right'>Бобер Станислав Алексеевич</h2>\n",
    "<h3 align='right'>Ст. преп. Департамента Прикладной Математики</h3>\n",
    "<h3 align='right'>e-mail: sbober@hse.ru, stas.bober@gmail.com</h3>\n",
    "</div>"
   ]
  },
  {
   "cell_type": "markdown",
   "metadata": {},
   "source": [
    "# Семинар 6\n",
    "\n",
    "Теоретическая часть:\n",
    "[Лекция 5](https://github.com/BoberSA/PythonCourse/blob/master/Lecture_5/Lecture_5.ipynb)\n",
    "[Лекция 6](https://github.com/BoberSA/PythonCourse/blob/master/Lecture_6/Lecture_6.ipynb)"
   ]
  },
  {
   "cell_type": "markdown",
   "metadata": {},
   "source": [
    "# Темы семинара:\n",
    "\n",
    "### 0. Pandas"
   ]
  },
  {
   "cell_type": "markdown",
   "metadata": {},
   "source": [
    "### Задание 0. Графики температур\n",
    "\n",
    "Дан текстовый файл:\n",
    "[Температура в Стокгольме более чем за 200 лет](https://github.com/jrjohansson/scientific-python-lectures/blob/master/stockholm_td_adj.dat)\n",
    "\n",
    "Требуется:\n",
    "Используя возможности модуля **Pandas** (напр., groupby, pivot, и др.), на одном рисунке для каждого месяца изобразить график изменения температур в течение месяца, усредненный по всем годам. Подписать оси и озаглавить рисунок.\n",
    "\n",
    "Названия месяцев можно взять из модуля **calendar**. Например, calendar.month_name[2] вернет 'February'.\n",
    "\n",
    "Пример результата:\n",
    "\n",
    "<img src='mean_temp_stockholm.png' width=900></img>"
   ]
  },
  {
   "cell_type": "code",
   "execution_count": null,
   "metadata": {},
   "outputs": [],
   "source": []
  }
 ],
 "metadata": {
  "kernelspec": {
   "display_name": "Python 3",
   "language": "python",
   "name": "python3"
  },
  "language_info": {
   "codemirror_mode": {
    "name": "ipython",
    "version": 3
   },
   "file_extension": ".py",
   "mimetype": "text/x-python",
   "name": "python",
   "nbconvert_exporter": "python",
   "pygments_lexer": "ipython3",
   "version": "3.7.0"
  }
 },
 "nbformat": 4,
 "nbformat_minor": 2
}
